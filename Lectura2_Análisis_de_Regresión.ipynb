{
 "cells": [
  {
   "cell_type": "markdown",
   "metadata": {},
   "source": [
    "# <div align = 'center'> Lectura 2 Análisis de Regresión Simple </div>\n",
    "### Contenido\n",
    "  <div align = 'left'>\n",
    "      <font color = 'steelblue' size = 4>\n",
    "        2.1 Regresión Simple MCO <br>\n",
    "        2.2 Coeficientes, Valores Ajustados y Residuos <br>\n",
    "          </font>\n",
    "        </div>"
   ]
  },
  {
   "cell_type": "code",
   "execution_count": 2,
   "metadata": {},
   "outputs": [
    {
     "name": "stdout",
     "output_type": "stream",
     "text": [
      "name of dataset: ceosal1\n",
      "no of variables: 12\n",
      "no of observations: 209\n",
      "\n",
      "+----------+-------------------------------+\n",
      "| variable | label                         |\n",
      "+----------+-------------------------------+\n",
      "| salary   | 1990 salary, thousands $      |\n",
      "| pcsalary | % change salary, 89-90        |\n",
      "| sales    | 1990 firm sales, millions $   |\n",
      "| roe      | return on equity, 88-90 avg   |\n",
      "| pcroe    | % change roe, 88-90           |\n",
      "| ros      | return on firm's stock, 88-90 |\n",
      "| indus    | =1 if industrial firm         |\n",
      "| finance  | =1 if financial firm          |\n",
      "| consprod | =1 if consumer product firm   |\n",
      "| utility  | =1 if transport. or utilties  |\n",
      "| lsalary  | natural log of salary         |\n",
      "| lsales   | natural log of sales          |\n",
      "+----------+-------------------------------+\n",
      "\n",
      "I took a random sample of data reported in the May 6, 1991 issue of\n",
      "Businessweek.\n",
      "[[7.25649898e+01 1.34253840e+03]\n",
      " [1.34253840e+03 1.88333164e+06]]\n"
     ]
    }
   ],
   "source": [
    "import wooldridge as woo\n",
    "import numpy as np\n",
    "\n",
    "woo.dataWoo('ceosal1', description=True)\n",
    "ceosal1 = woo.dataWoo('ceosal1')\n",
    "\n",
    "x = ceosal1['roe']\n",
    "# print(x)\n",
    "y = ceosal1['salary']\n",
    "# print(y)\n",
    "# ingredientes para la formula de MCO:\n",
    "print(np.cov(x, y))\n",
    "# cov_xy = np.cov(x, y)[1, 0]  # acceder a 2. fila y 1. columna de la matriz de covarianza\n",
    "# print(cov_xy)\n",
    "# var_x = np.var(x, ddof=1)\n",
    "# x_bar = np.mean(x)\n",
    "# y_bar = np.mean(y)\n",
    "\n",
    "\n"
   ]
  },
  {
   "cell_type": "code",
   "execution_count": 10,
   "metadata": {},
   "outputs": [
    {
     "name": "stdout",
     "output_type": "stream",
     "text": [
      "b1: 18.50118634521492\n",
      "\n",
      "b0: 963.191336472558\n",
      "\n"
     ]
    }
   ],
   "source": [
    "#cálculo manual de los coeficientes MCO:\n",
    "b1 = cov_xy / var_x\n",
    "b0 = y_bar - b1 * x_bar\n",
    "print(f'b1: {b1}\\n')\n",
    "print(f'b0: {b0}\\n')"
   ]
  },
  {
   "cell_type": "code",
   "execution_count": 8,
   "metadata": {},
   "outputs": [
    {
     "name": "stdout",
     "output_type": "stream",
     "text": [
      "b: \n",
      "Intercept    963.191336\n",
      "roe           18.501186\n",
      "dtype: float64\n",
      "\n"
     ]
    }
   ],
   "source": [
    "import wooldridge as woo\n",
    "import statsmodels.formula.api as smf\n",
    "\n",
    "ceosal1 = woo.dataWoo('ceosal1')\n",
    "\n",
    "reg = smf.ols(formula='salary ~ roe', data=ceosal1)\n",
    "results = reg.fit()\n",
    "b = results.params\n",
    "print(f'b: \\n{b}\\n')"
   ]
  },
  {
   "cell_type": "code",
   "execution_count": 10,
   "metadata": {},
   "outputs": [
    {
     "data": {
      "image/png": "[encoded data removed]",
      "text/plain": [
       "<Figure size 432x288 with 1 Axes>"
      ]
     },
     "metadata": {
      "needs_background": "light"
     },
     "output_type": "display_data"
    }
   ],
   "source": [
    "import wooldridge as woo\n",
    "import statsmodels.formula.api as smf\n",
    "import matplotlib.pyplot as plt\n",
    "\n",
    "ceosal1 = woo.dataWoo('ceosal1')\n",
    "\n",
    "# Regresión de MCO:\n",
    "reg = smf.ols(formula='salary ~ roe', data=ceosal1)\n",
    "results = reg.fit()\n",
    "\n",
    "# scatter plot and fitted values:\n",
    "plt.plot('roe', 'salary', data=ceosal1, color='blue', marker='o', linestyle='')\n",
    "plt.plot(ceosal1['roe'], results.fittedvalues, color='green', linestyle='-')\n",
    "plt.ylabel('salary')\n",
    "plt.xlabel('roe')\n",
    "plt.savefig('Regresion_Salary_Roe.png')"
   ]
  },
  {
   "cell_type": "code",
   "execution_count": 3,
   "metadata": {},
   "outputs": [
    {
     "name": "stdout",
     "output_type": "stream",
     "text": [
      "b: \n",
      "Intercept   -0.904852\n",
      "educ         0.541359\n",
      "dtype: float64\n",
      "\n"
     ]
    }
   ],
   "source": [
    "import wooldridge as woo\n",
    "import statsmodels.formula.api as smf\n",
    "import matplotlib.pyplot as plt\n",
    "\n",
    "\n",
    "wage1 = woo.dataWoo('wage1')\n",
    "\n",
    "reg = smf.ols(formula='wage ~ educ', data=wage1)\n",
    "results = reg.fit()\n",
    "b = results.params\n",
    "print(f'b: \\n{b}\\n')"
   ]
  },
  {
   "cell_type": "code",
   "execution_count": 21,
   "metadata": {},
   "outputs": [
    {
     "name": "stdout",
     "output_type": "stream",
     "text": [
      "name of dataset: vote1\n",
      "no of variables: 10\n",
      "no of observations: 173\n",
      "\n",
      "+----------+---------------------------------+\n",
      "| variable | label                           |\n",
      "+----------+---------------------------------+\n",
      "| state    | state postal code               |\n",
      "| district | congressional district          |\n",
      "| democA   | =1 if A is democrat             |\n",
      "| voteA    | percent vote for A              |\n",
      "| expendA  | camp. expends. by A, $1000s     |\n",
      "| expendB  | camp. expends. by B, $1000s     |\n",
      "| prtystrA | % vote for president            |\n",
      "| lexpendA | log(expendA)                    |\n",
      "| lexpendB | log(expendB)                    |\n",
      "| shareA   | 100*(expendA/(expendA+expendB)) |\n",
      "+----------+---------------------------------+\n",
      "\n",
      "From M. Barone and G. Ujifusa, The Almanac of American Politics, 1992.\n",
      "Washington, DC: National Journal.\n",
      "b: \n",
      "Intercept    26.812214\n",
      "shareA        0.463827\n",
      "dtype: float64\n",
      "\n"
     ]
    },
    {
     "data": {
      "image/png": "[encoded data removed]",
      "text/plain": [
       "<Figure size 432x288 with 1 Axes>"
      ]
     },
     "metadata": {
      "needs_background": "light"
     },
     "output_type": "display_data"
    }
   ],
   "source": [
    "import wooldridge as woo\n",
    "import statsmodels.formula.api as smf\n",
    "import matplotlib.pyplot as plt\n",
    "\n",
    "woo.dataWoo('vote1', description=True)\n",
    "vote1 = woo.dataWoo('vote1')\n",
    "\n",
    "# OLS regression:\n",
    "reg = smf.ols(formula='voteA ~ shareA', data=vote1)\n",
    "results = reg.fit()\n",
    "b = results.params\n",
    "print(f'b: \\n{b}\\n')\n",
    "\n",
    "# scatter plot and fitted values:\n",
    "plt.plot('shareA', 'voteA', data=vote1, color='blue', marker='o', linestyle='',linewidth='1')\n",
    "plt.plot(vote1['shareA'], results.fittedvalues, color='red', linestyle='-')\n",
    "plt.ylabel('voteA')\n",
    "plt.xlabel('shareA')\n",
    "plt.grid()\n",
    "plt.savefig(\"Regresión_vote1.jpg\")"
   ]
  },
  {
   "cell_type": "markdown",
   "metadata": {},
   "source": [
    "# Coeficientes, Valores Ajustados y Residuos"
   ]
  },
  {
   "cell_type": "code",
   "execution_count": 31,
   "metadata": {},
   "outputs": [
    {
     "data": {
      "text/html": [
       "<div>\n",
       "<style scoped>\n",
       "    .dataframe tbody tr th:only-of-type {\n",
       "        vertical-align: middle;\n",
       "    }\n",
       "\n",
       "    .dataframe tbody tr th {\n",
       "        vertical-align: top;\n",
       "    }\n",
       "\n",
       "    .dataframe thead th {\n",
       "        text-align: right;\n",
       "    }\n",
       "</style>\n",
       "<table border=\"1\" class=\"dataframe\">\n",
       "  <thead>\n",
       "    <tr style=\"text-align: right;\">\n",
       "      <th></th>\n",
       "      <th>roe</th>\n",
       "      <th>salary</th>\n",
       "      <th>salary_hat</th>\n",
       "      <th>u_hat</th>\n",
       "      <th>unid_salarios</th>\n",
       "    </tr>\n",
       "  </thead>\n",
       "  <tbody>\n",
       "    <tr>\n",
       "      <th>0</th>\n",
       "      <td>14.1</td>\n",
       "      <td>1095</td>\n",
       "      <td>1224.058071</td>\n",
       "      <td>-129.058071</td>\n",
       "      <td>15439.500418</td>\n",
       "    </tr>\n",
       "    <tr>\n",
       "      <th>1</th>\n",
       "      <td>10.9</td>\n",
       "      <td>1001</td>\n",
       "      <td>1164.854261</td>\n",
       "      <td>-163.854261</td>\n",
       "      <td>10910.899618</td>\n",
       "    </tr>\n",
       "    <tr>\n",
       "      <th>2</th>\n",
       "      <td>23.5</td>\n",
       "      <td>1122</td>\n",
       "      <td>1397.969216</td>\n",
       "      <td>-275.969216</td>\n",
       "      <td>26367.000000</td>\n",
       "    </tr>\n",
       "    <tr>\n",
       "      <th>3</th>\n",
       "      <td>5.9</td>\n",
       "      <td>578</td>\n",
       "      <td>1072.348338</td>\n",
       "      <td>-494.348338</td>\n",
       "      <td>3410.200055</td>\n",
       "    </tr>\n",
       "    <tr>\n",
       "      <th>4</th>\n",
       "      <td>13.8</td>\n",
       "      <td>1368</td>\n",
       "      <td>1218.507712</td>\n",
       "      <td>149.492288</td>\n",
       "      <td>18878.400261</td>\n",
       "    </tr>\n",
       "    <tr>\n",
       "      <th>...</th>\n",
       "      <td>...</td>\n",
       "      <td>...</td>\n",
       "      <td>...</td>\n",
       "      <td>...</td>\n",
       "      <td>...</td>\n",
       "    </tr>\n",
       "    <tr>\n",
       "      <th>204</th>\n",
       "      <td>9.0</td>\n",
       "      <td>930</td>\n",
       "      <td>1129.702014</td>\n",
       "      <td>-199.702014</td>\n",
       "      <td>8370.000000</td>\n",
       "    </tr>\n",
       "    <tr>\n",
       "      <th>205</th>\n",
       "      <td>15.5</td>\n",
       "      <td>525</td>\n",
       "      <td>1249.959725</td>\n",
       "      <td>-724.959725</td>\n",
       "      <td>8137.500000</td>\n",
       "    </tr>\n",
       "    <tr>\n",
       "      <th>206</th>\n",
       "      <td>12.1</td>\n",
       "      <td>658</td>\n",
       "      <td>1187.055698</td>\n",
       "      <td>-529.055698</td>\n",
       "      <td>7961.800251</td>\n",
       "    </tr>\n",
       "    <tr>\n",
       "      <th>207</th>\n",
       "      <td>13.7</td>\n",
       "      <td>555</td>\n",
       "      <td>1216.657586</td>\n",
       "      <td>-661.657586</td>\n",
       "      <td>7603.499894</td>\n",
       "    </tr>\n",
       "    <tr>\n",
       "      <th>208</th>\n",
       "      <td>14.4</td>\n",
       "      <td>626</td>\n",
       "      <td>1229.608413</td>\n",
       "      <td>-603.608413</td>\n",
       "      <td>9014.399761</td>\n",
       "    </tr>\n",
       "  </tbody>\n",
       "</table>\n",
       "<p>209 rows × 5 columns</p>\n",
       "</div>"
      ],
      "text/plain": [
       "      roe  salary   salary_hat       u_hat  unid_salarios\n",
       "0    14.1    1095  1224.058071 -129.058071   15439.500418\n",
       "1    10.9    1001  1164.854261 -163.854261   10910.899618\n",
       "2    23.5    1122  1397.969216 -275.969216   26367.000000\n",
       "3     5.9     578  1072.348338 -494.348338    3410.200055\n",
       "4    13.8    1368  1218.507712  149.492288   18878.400261\n",
       "..    ...     ...          ...         ...            ...\n",
       "204   9.0     930  1129.702014 -199.702014    8370.000000\n",
       "205  15.5     525  1249.959725 -724.959725    8137.500000\n",
       "206  12.1     658  1187.055698 -529.055698    7961.800251\n",
       "207  13.7     555  1216.657586 -661.657586    7603.499894\n",
       "208  14.4     626  1229.608413 -603.608413    9014.399761\n",
       "\n",
       "[209 rows x 5 columns]"
      ]
     },
     "execution_count": 31,
     "metadata": {},
     "output_type": "execute_result"
    }
   ],
   "source": [
    "import wooldridge as woo\n",
    "import statsmodels.formula.api as smf\n",
    "import pandas as pd\n",
    "\n",
    "#control +llave derecha \n",
    "\n",
    "ceosal1 = woo.dataWoo('ceosal1')\n",
    "#Regresión MCO\n",
    "\n",
    "reg = smf.ols(formula='salary ~ roe', data= ceosal1)\n",
    "results = reg.fit()\n",
    "\n",
    "#Obtenemos los valores predecidos y residuos\n",
    "salary_hat = results.fittedvalues\n",
    "u_hat = results.resid\n",
    "\n",
    "#Los resultados\n",
    "table = pd.DataFrame({'roe':ceosal1['roe'], 'salary':ceosal1['salary'],\n",
    "                    'salary_hat':salary_hat,'u_hat':u_hat})\n",
    "table[\"unid_salarios\"]=table[\"salary\"]*table[\"roe\"]\n",
    "table\n",
    "\n"
   ]
  },
  {
   "cell_type": "code",
   "execution_count": 36,
   "metadata": {},
   "outputs": [],
   "source": [
    "#Propiedades\n",
    "import wooldridge as woo\n",
    "import statsmodels.formula.api as smf\n",
    "import numpy as np\n",
    "\n",
    "wage1 = woo.dataWoo('wage1')\n",
    "reg = smf.ols(formula='wage ~ educ', data= wage1)\n",
    "results = reg.fit()\n",
    "\n",
    "#Obtenemos los coeficientes, valores predecidos y residuos\n",
    "\n",
    "b= results.params\n",
    "wage_hat = results.fittedvalues\n",
    "u_hat = results.resid\n"
   ]
  },
  {
   "cell_type": "code",
   "execution_count": 37,
   "metadata": {},
   "outputs": [
    {
     "name": "stdout",
     "output_type": "stream",
     "text": [
      "Media cero de los errores: -4.594550342213005e-15\n"
     ]
    }
   ],
   "source": [
    "#Media Cero de los Errores\n",
    "u_hat_mean = np.mean(u_hat)\n",
    "print('Media cero de los errores:', u_hat_mean)"
   ]
  },
  {
   "cell_type": "code",
   "execution_count": 52,
   "metadata": {},
   "outputs": [
    {
     "ename": "ValueError",
     "evalue": "all the input array dimensions for the concatenation axis must match exactly, but along dimension 1, the array at index 0 has size 526 and the array at index 1 has size 209",
     "output_type": "error",
     "traceback": [
      "\u001b[1;31m---------------------------------------------------------------------------\u001b[0m",
      "\u001b[1;31mValueError\u001b[0m                                Traceback (most recent call last)",
      "\u001b[1;32m<ipython-input-52-631d18a1c297>\u001b[0m in \u001b[0;36m<module>\u001b[1;34m\u001b[0m\n\u001b[0;32m      1\u001b[0m \u001b[1;31m#Relación de los Errores con la variable Independiente\u001b[0m\u001b[1;33m\u001b[0m\u001b[1;33m\u001b[0m\u001b[1;33m\u001b[0m\u001b[0m\n\u001b[1;32m----> 2\u001b[1;33m \u001b[0meduc_u_cov_1\u001b[0m \u001b[1;33m=\u001b[0m \u001b[0mnp\u001b[0m\u001b[1;33m.\u001b[0m\u001b[0mcov\u001b[0m\u001b[1;33m(\u001b[0m\u001b[0mwage1\u001b[0m\u001b[1;33m[\u001b[0m\u001b[1;34m'educ'\u001b[0m\u001b[1;33m]\u001b[0m\u001b[1;33m,\u001b[0m \u001b[0mu_hat\u001b[0m\u001b[1;33m)\u001b[0m\u001b[1;33m[\u001b[0m\u001b[1;36m1\u001b[0m\u001b[1;33m,\u001b[0m\u001b[1;36m0\u001b[0m\u001b[1;33m]\u001b[0m\u001b[1;33m\u001b[0m\u001b[1;33m\u001b[0m\u001b[0m\n\u001b[0m\u001b[0;32m      3\u001b[0m \u001b[0mprint\u001b[0m\u001b[1;33m(\u001b[0m\u001b[1;34m'Covarianza entre edu y u:'\u001b[0m\u001b[1;33m,\u001b[0m\u001b[0meduc_u_cov_1\u001b[0m\u001b[1;33m)\u001b[0m\u001b[1;33m\u001b[0m\u001b[1;33m\u001b[0m\u001b[0m\n\u001b[0;32m      4\u001b[0m \u001b[1;33m\u001b[0m\u001b[0m\n\u001b[0;32m      5\u001b[0m \u001b[1;33m\u001b[0m\u001b[0m\n",
      "\u001b[1;32m<__array_function__ internals>\u001b[0m in \u001b[0;36mcov\u001b[1;34m(*args, **kwargs)\u001b[0m\n",
      "\u001b[1;32m~\\anaconda3\\lib\\site-packages\\numpy\\lib\\function_base.py\u001b[0m in \u001b[0;36mcov\u001b[1;34m(m, y, rowvar, bias, ddof, fweights, aweights, dtype)\u001b[0m\n\u001b[0;32m   2426\u001b[0m         \u001b[1;32mif\u001b[0m \u001b[1;32mnot\u001b[0m \u001b[0mrowvar\u001b[0m \u001b[1;32mand\u001b[0m \u001b[0my\u001b[0m\u001b[1;33m.\u001b[0m\u001b[0mshape\u001b[0m\u001b[1;33m[\u001b[0m\u001b[1;36m0\u001b[0m\u001b[1;33m]\u001b[0m \u001b[1;33m!=\u001b[0m \u001b[1;36m1\u001b[0m\u001b[1;33m:\u001b[0m\u001b[1;33m\u001b[0m\u001b[1;33m\u001b[0m\u001b[0m\n\u001b[0;32m   2427\u001b[0m             \u001b[0my\u001b[0m \u001b[1;33m=\u001b[0m \u001b[0my\u001b[0m\u001b[1;33m.\u001b[0m\u001b[0mT\u001b[0m\u001b[1;33m\u001b[0m\u001b[1;33m\u001b[0m\u001b[0m\n\u001b[1;32m-> 2428\u001b[1;33m         \u001b[0mX\u001b[0m \u001b[1;33m=\u001b[0m \u001b[0mnp\u001b[0m\u001b[1;33m.\u001b[0m\u001b[0mconcatenate\u001b[0m\u001b[1;33m(\u001b[0m\u001b[1;33m(\u001b[0m\u001b[0mX\u001b[0m\u001b[1;33m,\u001b[0m \u001b[0my\u001b[0m\u001b[1;33m)\u001b[0m\u001b[1;33m,\u001b[0m \u001b[0maxis\u001b[0m\u001b[1;33m=\u001b[0m\u001b[1;36m0\u001b[0m\u001b[1;33m)\u001b[0m\u001b[1;33m\u001b[0m\u001b[1;33m\u001b[0m\u001b[0m\n\u001b[0m\u001b[0;32m   2429\u001b[0m \u001b[1;33m\u001b[0m\u001b[0m\n\u001b[0;32m   2430\u001b[0m     \u001b[1;32mif\u001b[0m \u001b[0mddof\u001b[0m \u001b[1;32mis\u001b[0m \u001b[1;32mNone\u001b[0m\u001b[1;33m:\u001b[0m\u001b[1;33m\u001b[0m\u001b[1;33m\u001b[0m\u001b[0m\n",
      "\u001b[1;32m<__array_function__ internals>\u001b[0m in \u001b[0;36mconcatenate\u001b[1;34m(*args, **kwargs)\u001b[0m\n",
      "\u001b[1;31mValueError\u001b[0m: all the input array dimensions for the concatenation axis must match exactly, but along dimension 1, the array at index 0 has size 526 and the array at index 1 has size 209"
     ]
    }
   ],
   "source": [
    "#Relación de los Errores con la variable Independiente\n",
    "educ_u_cov_1 = np.cov(wage1['educ'], u_hat)[1,0]\n",
    "print('Covarianza entre edu y u:',educ_u_cov_1)\n",
    "\n",
    "\n",
    "educ_u_cov_2 = np.cov(wage1['educ'], u_hat)[0,1]\n",
    "print('Covarianza entre edu y u:',educ_u_cov_2)"
   ]
  },
  {
   "cell_type": "code",
   "execution_count": 50,
   "metadata": {},
   "outputs": [
    {
     "name": "stdout",
     "output_type": "stream",
     "text": [
      "Salarios Predecidos:  5.8961026747870395\n",
      "Salarios Media:  5.8961026747870395\n"
     ]
    }
   ],
   "source": [
    "#La media de los salarios y salarios predecidos\n",
    "educ_mean = np.mean(wage1['educ'])\n",
    "educ_mean\n",
    "\n",
    "wage_pred = b[0] + b[1]*educ_mean\n",
    "print('Salarios Predecidos: ',wage_pred)\n",
    "\n",
    "\n",
    "wage_mean = np.mean(wage_pred)\n",
    "print('Salarios Media: ', wage_mean)"
   ]
  },
  {
   "cell_type": "code",
   "execution_count": 53,
   "metadata": {},
   "outputs": [
    {
     "name": "stdout",
     "output_type": "stream",
     "text": [
      "R2_a:  0.013188624081034123\n",
      "R2_b:  0.01318862408103405\n",
      "R2_c:  0.013188624081034106\n"
     ]
    }
   ],
   "source": [
    "#Bondad de Ajuste\n",
    "import wooldridge as woo\n",
    "import statsmodels.formula.api as smf\n",
    "import numpy as np\n",
    "\n",
    "ceosal1 = woo.dataWoo('ceosal1')\n",
    "#Regresión MCO\n",
    "\n",
    "reg = smf.ols(formula='salary ~ roe', data= ceosal1)\n",
    "results = reg.fit()\n",
    "\n",
    "#Obtenemos los valores predecidos y residuos\n",
    "sal_hat = results.fittedvalues\n",
    "u_hat = results.resid\n",
    "\n",
    "#Calculamos el R^2 en tres formas diferentes\n",
    "sal = ceosal1['salary']\n",
    "R2_a = np.var(sal_hat,ddof=1)/np.var(sal, ddof =1)\n",
    "R2_b = 1- np.var(u_hat, ddof=1)/ np.var(sal,ddof =1)\n",
    "R2_c = np.corrcoef(sal, sal_hat)[1,0]**2\n",
    "\n",
    "print('R2_a: ',R2_a)\n",
    "print('R2_b: ',R2_b)\n",
    "print('R2_c: ',R2_c)"
   ]
  },
  {
   "cell_type": "code",
   "execution_count": 33,
   "metadata": {},
   "outputs": [
    {
     "name": "stdout",
     "output_type": "stream",
     "text": [
      "Tabla Resultado                             OLS Regression Results                            \n",
      "==============================================================================\n",
      "Dep. Variable:                  voteA   R-squared:                       0.856\n",
      "Model:                            OLS   Adj. R-squared:                  0.855\n",
      "Method:                 Least Squares   F-statistic:                     1018.\n",
      "Date:                Fri, 30 Jul 2021   Prob (F-statistic):           6.63e-74\n",
      "Time:                        16:29:57   Log-Likelihood:                -565.20\n",
      "No. Observations:                 173   AIC:                             1134.\n",
      "Df Residuals:                     171   BIC:                             1141.\n",
      "Df Model:                           1                                         \n",
      "Covariance Type:            nonrobust                                         \n",
      "==============================================================================\n",
      "                 coef    std err          t      P>|t|      [0.025      0.975]\n",
      "------------------------------------------------------------------------------\n",
      "Intercept     26.8122      0.887     30.221      0.000      25.061      28.564\n",
      "shareA         0.4638      0.015     31.901      0.000       0.435       0.493\n",
      "==============================================================================\n",
      "Omnibus:                       20.747   Durbin-Watson:                   1.826\n",
      "Prob(Omnibus):                  0.000   Jarque-Bera (JB):               44.613\n",
      "Skew:                           0.525   Prob(JB):                     2.05e-10\n",
      "Kurtosis:                       5.255   Cond. No.                         112.\n",
      "==============================================================================\n",
      "\n",
      "Warnings:\n",
      "[1] Standard Errors assume that the covariance matrix of the errors is correctly specified.\n"
     ]
    }
   ],
   "source": [
    "#Tabla Resumen de Resultados\n",
    "import wooldridge as woo\n",
    "import statsmodels.formula.api as smf\n",
    "import pandas as pd\n",
    "\n",
    "vote1 = woo.dataWoo('vote1')\n",
    "\n",
    "# OLS regression:\n",
    "reg = smf.ols(formula='voteA ~ shareA', data=vote1)\n",
    "results = reg.fit()\n",
    "\n",
    "print('Tabla Resultado',results.summary())\n",
    "\n",
    "#mide el porcentaje de variacion de la y mediante las x "
   ]
  },
  {
   "cell_type": "code",
   "execution_count": 35,
   "metadata": {},
   "outputs": [
    {
     "data": {
      "text/html": [
       "<div>\n",
       "<style scoped>\n",
       "    .dataframe tbody tr th:only-of-type {\n",
       "        vertical-align: middle;\n",
       "    }\n",
       "\n",
       "    .dataframe tbody tr th {\n",
       "        vertical-align: top;\n",
       "    }\n",
       "\n",
       "    .dataframe thead th {\n",
       "        text-align: right;\n",
       "    }\n",
       "</style>\n",
       "<table border=\"1\" class=\"dataframe\">\n",
       "  <thead>\n",
       "    <tr style=\"text-align: right;\">\n",
       "      <th></th>\n",
       "      <th>b</th>\n",
       "      <th>se</th>\n",
       "      <th>t</th>\n",
       "      <th>pval</th>\n",
       "    </tr>\n",
       "  </thead>\n",
       "  <tbody>\n",
       "    <tr>\n",
       "      <th>Intercept</th>\n",
       "      <td>26.8122</td>\n",
       "      <td>0.8872</td>\n",
       "      <td>30.2207</td>\n",
       "      <td>0.0</td>\n",
       "    </tr>\n",
       "    <tr>\n",
       "      <th>shareA</th>\n",
       "      <td>0.4638</td>\n",
       "      <td>0.0145</td>\n",
       "      <td>31.9008</td>\n",
       "      <td>0.0</td>\n",
       "    </tr>\n",
       "  </tbody>\n",
       "</table>\n",
       "</div>"
      ],
      "text/plain": [
       "                 b      se        t  pval\n",
       "Intercept  26.8122  0.8872  30.2207   0.0\n",
       "shareA      0.4638  0.0145  31.9008   0.0"
      ]
     },
     "execution_count": 35,
     "metadata": {},
     "output_type": "execute_result"
    }
   ],
   "source": [
    "table = pd.DataFrame({'b': round(results.params, 4),\n",
    "                      'se': round(results.bse,4),\n",
    "                      't': round(results.tvalues,4),\n",
    "                      'pval': round(results.pvalues, 4)})\n",
    "    \n",
    "table"
   ]
  },
  {
   "cell_type": "code",
   "execution_count": 37,
   "metadata": {},
   "outputs": [
    {
     "name": "stdout",
     "output_type": "stream",
     "text": [
      "b: \n",
      " Intercept    0.583773\n",
      "educ         0.082744\n",
      "dtype: float64\n"
     ]
    }
   ],
   "source": [
    "# Logaritmos\n",
    "import wooldridge as woo\n",
    "import statsmodels.formula.api as smf\n",
    "import numpy as np\n",
    "\n",
    "wage1 = woo.dataWoo('wage1')\n",
    "#Estimamos log-nivel\n",
    "reg = smf.ols(formula='np.log(wage) ~ educ', data= wage1)\n",
    "results = reg.fit()\n",
    "b = results.params\n",
    "\n",
    "print('b:\\n',b)"
   ]
  },
  {
   "cell_type": "code",
   "execution_count": 40,
   "metadata": {},
   "outputs": [
    {
     "name": "stdout",
     "output_type": "stream",
     "text": [
      "b:\n",
      " Intercept        4.821996\n",
      "np.log(sales)    0.256672\n",
      "dtype: float64\n"
     ]
    }
   ],
   "source": [
    "#Estimamos log-log\n",
    "reg = smf.ols(formula='np.log(salary) ~ np.log(sales)', data=ceosal1)\n",
    "results = reg.fit()\n",
    "b = results.params\n",
    "print('b:\\n',b)"
   ]
  },
  {
   "cell_type": "code",
   "execution_count": 46,
   "metadata": {},
   "outputs": [
    {
     "name": "stdout",
     "output_type": "stream",
     "text": [
      "b_1:\n",
      " Intercept    963.191336\n",
      "roe           18.501186\n",
      "dtype: float64\n"
     ]
    }
   ],
   "source": [
    "#Regresión sin Intercepto\n",
    "import wooldridge as woo\n",
    "import statsmodels.formula.api as smf\n",
    "import numpy as np\n",
    "import matplotlib.pyplot as plt\n",
    "\n",
    "ceosal1 = woo.dataWoo('ceosal1')\n",
    "\n",
    "#Regresión MCO usual\n",
    "reg1 = smf.ols(formula='salary ~ roe', data=ceosal1)\n",
    "results1 = reg1.fit()\n",
    "b_1 = results1.params\n",
    "print('b_1:\\n',b_1)"
   ]
  },
  {
   "cell_type": "code",
   "execution_count": 49,
   "metadata": {},
   "outputs": [
    {
     "name": "stdout",
     "output_type": "stream",
     "text": [
      "b_2:\n",
      " roe    63.537955\n",
      "dtype: float64\n"
     ]
    }
   ],
   "source": [
    "#Regresión sin Intercepto\n",
    "reg2 = smf.ols(formula='salary ~ 0 + roe', data= ceosal1)\n",
    "results2 = reg2.fit()\n",
    "b_2 = results2.params\n",
    "print('b_2:\\n',b_2)"
   ]
  },
  {
   "cell_type": "code",
   "execution_count": 51,
   "metadata": {},
   "outputs": [
    {
     "name": "stdout",
     "output_type": "stream",
     "text": [
      "b_3:\n",
      " Intercept    1281.119617\n",
      "dtype: float64\n"
     ]
    }
   ],
   "source": [
    "##Regresión sin pendiente\n",
    "reg3 = smf.ols(formula='salary ~ 1', data= ceosal1)\n",
    "results3 = reg3.fit()\n",
    "b_3 = results3.params\n",
    "print('b_3:\\n',b_3 )"
   ]
  },
  {
   "cell_type": "code",
   "execution_count": 52,
   "metadata": {},
   "outputs": [
    {
     "name": "stdout",
     "output_type": "stream",
     "text": [
      "sal_mean:\n",
      " 1281.1196172248804\n"
     ]
    }
   ],
   "source": [
    "#media de y\n",
    "sal_mean = np.mean(ceosal1['salary'])\n",
    "print('sal_mean:\\n', sal_mean)"
   ]
  },
  {
   "cell_type": "code",
   "execution_count": 60,
   "metadata": {},
   "outputs": [
    {
     "data": {
      "image/png": "[encoded data removed]",
      "text/plain": [
       "<Figure size 432x288 with 1 Axes>"
      ]
     },
     "metadata": {
      "needs_background": "light"
     },
     "output_type": "display_data"
    }
   ],
   "source": [
    "#Gráfico\n",
    "plt.plot('roe','salary',data=ceosal1, color='red', marker='o', linestyle='', label='')\n",
    "plt.plot(ceosal1['roe'],results1.fittedvalues, color='black', linestyle='-', label='full')\n",
    "plt.plot(ceosal1['roe'],results2.fittedvalues, color='green', linestyle=':', label='origen')\n",
    "plt.plot(ceosal1['roe'],results3.fittedvalues, color='blue', linestyle='-.', label='solo constante')\n",
    "plt.ylabel('salary')\n",
    "plt.xlabel('roe')\n",
    "plt.legend()\n",
    "plt.savefig('MCO_salary_Roe.pdf')"
   ]
  },
  {
   "cell_type": "code",
   "execution_count": null,
   "metadata": {},
   "outputs": [],
   "source": []
  },
  {
   "cell_type": "code",
   "execution_count": null,
   "metadata": {},
   "outputs": [],
   "source": []
  },
  {
   "cell_type": "code",
   "execution_count": null,
   "metadata": {},
   "outputs": [],
   "source": []
  },
  {
   "cell_type": "code",
   "execution_count": null,
   "metadata": {},
   "outputs": [],
   "source": []
  },
  {
   "cell_type": "code",
   "execution_count": null,
   "metadata": {},
   "outputs": [],
   "source": []
  }
 ],
 "metadata": {
  "kernelspec": {
   "display_name": "Python 3",
   "language": "python",
   "name": "python3"
  },
  "language_info": {
   "codemirror_mode": {
    "name": "ipython",
    "version": 3
   },
   "file_extension": ".py",
   "mimetype": "text/x-python",
   "name": "python",
   "nbconvert_exporter": "python",
   "pygments_lexer": "ipython3",
   "version": "3.8.8"
  }
 },
 "nbformat": 4,
 "nbformat_minor": 2
}
