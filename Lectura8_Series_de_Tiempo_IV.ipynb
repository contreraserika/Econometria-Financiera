{
 "cells": [
  {
   "cell_type": "markdown",
   "metadata": {},
   "source": [
    "# <div align = 'center'> Lectura 8 Series de Tiempo IV</div>\n",
    "### Contenido\n",
    "  <div align = 'left'>\n",
    "      <font color = 'steelblue' size = 4>\n",
    "        8.1 Autocorrelación total y parcial<br>\n",
    "        8.2 train / test validación <br>\n",
    "          </font>\n",
    "        </div>"
   ]
  },
  {
   "cell_type": "markdown",
   "metadata": {},
   "source": [
    "### Autocorrelación total y parcial\n",
    "\n",
    "La autocorrelación es la medida de correlación entre una variable y sus valores pasados. En autocorrelación total, la correlación entre la observación $ X_t $ y la observación $ X_ {t - p} $ se calcula teniendo en cuenta la dependencia lineal de las observaciones intermedias $ X_ {t - 1}, X_ {t - 2}, \\ldots, X_ {t - p + 1} $. La autocorrelación parcial, por otro lado, calcula la correlación entre la observación $ X_ {t} $ y $ X_ {t - p} $ eliminando la dependencia lineal de las observaciones intermedias.\n",
    "\n",
    "Usaremos la información de ventas contenida en el archivo ```shampoo.csv``` para ilustrar la creación de los dos gráficos."
   ]
  },
  {
   "cell_type": "code",
   "execution_count": 1,
   "metadata": {},
   "outputs": [
    {
     "data": {
      "text/html": [
       "<div>\n",
       "<style scoped>\n",
       "    .dataframe tbody tr th:only-of-type {\n",
       "        vertical-align: middle;\n",
       "    }\n",
       "\n",
       "    .dataframe tbody tr th {\n",
       "        vertical-align: top;\n",
       "    }\n",
       "\n",
       "    .dataframe thead th {\n",
       "        text-align: right;\n",
       "    }\n",
       "</style>\n",
       "<table border=\"1\" class=\"dataframe\">\n",
       "  <thead>\n",
       "    <tr style=\"text-align: right;\">\n",
       "      <th></th>\n",
       "      <th>Sales</th>\n",
       "    </tr>\n",
       "    <tr>\n",
       "      <th>Month</th>\n",
       "      <th></th>\n",
       "    </tr>\n",
       "  </thead>\n",
       "  <tbody>\n",
       "    <tr>\n",
       "      <th>2000-01-01</th>\n",
       "      <td>266.0</td>\n",
       "    </tr>\n",
       "    <tr>\n",
       "      <th>2000-02-01</th>\n",
       "      <td>145.9</td>\n",
       "    </tr>\n",
       "    <tr>\n",
       "      <th>2000-03-01</th>\n",
       "      <td>183.1</td>\n",
       "    </tr>\n",
       "    <tr>\n",
       "      <th>2000-04-01</th>\n",
       "      <td>119.3</td>\n",
       "    </tr>\n",
       "    <tr>\n",
       "      <th>2000-05-01</th>\n",
       "      <td>180.3</td>\n",
       "    </tr>\n",
       "  </tbody>\n",
       "</table>\n",
       "</div>"
      ],
      "text/plain": [
       "            Sales\n",
       "Month            \n",
       "2000-01-01  266.0\n",
       "2000-02-01  145.9\n",
       "2000-03-01  183.1\n",
       "2000-04-01  119.3\n",
       "2000-05-01  180.3"
      ]
     },
     "execution_count": 1,
     "metadata": {},
     "output_type": "execute_result"
    }
   ],
   "source": [
    "import pandas as pd\n",
    "import matplotlib.pyplot as plt\n",
    "import warnings\n",
    "warnings.filterwarnings('ignore')\n",
    "\n",
    "df = pd.read_csv('shampoo.csv')\n",
    "df.Month = pd.to_datetime(df.Month)\n",
    "df.set_index('Month', inplace=True)\n",
    "df.head()"
   ]
  },
  {
   "cell_type": "markdown",
   "metadata": {},
   "source": [
    "Para crear las gráficas de autocorrelación parcial y total, usaremos las funciones ```plot_pacf ()``` y ```plot_acf()```, respectivamente. Las dos funciones forman parte del subpaquete ```statsmodels.graphics.tsaplots``` y reciben como parámetro la ```Series``` que contiene la serie temporal y el parámetro ```lags``` para definir el número de periodos considerados.\n",
    "Para corregir _bugs_ al crear el gráfico, agregaremos el comando ```plt.show()```."
   ]
  },
  {
   "cell_type": "code",
   "execution_count": 2,
   "metadata": {},
   "outputs": [
    {
     "data": {
      "image/png": "[encoded data removed]",
      "text/plain": [
       "<Figure size 432x288 with 1 Axes>"
      ]
     },
     "metadata": {
      "needs_background": "light"
     },
     "output_type": "display_data"
    }
   ],
   "source": [
    "from statsmodels.graphics.tsaplots import plot_acf, plot_pacf\n",
    "\n",
    "plot_acf(df.Sales, lags=35)\n",
    "plt.show()"
   ]
  },
  {
   "cell_type": "code",
   "execution_count": 3,
   "metadata": {},
   "outputs": [
    {
     "data": {
      "image/png": "[encoded data removed]",
      "text/plain": [
       "<Figure size 432x288 with 1 Axes>"
      ]
     },
     "metadata": {
      "needs_background": "light"
     },
     "output_type": "display_data"
    }
   ],
   "source": [
    "plot_pacf(df.Sales, lags=10)\n",
    "plt.show()"
   ]
  },
  {
   "cell_type": "markdown",
   "metadata": {},
   "source": [
    "Usamos la autocorrelación parcial como indicador para elegir el valor $ p $ para el modelo autorregresivo AR ($ p $). Para analizar la autocorrelación parcial utilizamos el gráfico de autocorrelación parcial. Configuraremos el parámetro ```lags = 10```, para mostrar solo los primeros 10 _lags_."
   ]
  },
  {
   "cell_type": "code",
   "execution_count": 4,
   "metadata": {},
   "outputs": [
    {
     "data": {
      "image/png": "[encoded data removed]",
      "text/plain": [
       "<Figure size 432x288 with 1 Axes>"
      ]
     },
     "metadata": {
      "needs_background": "light"
     },
     "output_type": "display_data"
    }
   ],
   "source": [
    "plot_pacf(df.Sales, lags=10)\n",
    "plt.show()"
   ]
  },
  {
   "cell_type": "markdown",
   "metadata": {},
   "source": [
    "El resultado obtenido es un gráfico que tiene como ejes $ x $ y $ y $ el número de _lags_ y la autocorrelación parcial, respectivamente.\n",
    "\n",
    "Estamos interesados en el último valor de autocorrelación que no forma parte de la región de baja significación representada por el área azul claro. El valor de autocorrelación para $ p = 0 $ siempre será $1$, ya que la correlación de una variable consigo misma siempre será. Para $ p> 0 $, vemos que $ p = 2 $ tiene es el último valor de autocorrelación parcial entre los _lags_ con significación estadística."
   ]
  },
  {
   "cell_type": "markdown",
   "metadata": {},
   "source": [
    "## _train / test_ validación\n",
    "\n",
    "Dependiendo del modelo predictivo aplicado a una serie de tiempo, corremos el riesgo de encontrarnos con problemas de _overfitting_ o _sobreajuste_. Por lo tanto, necesitamos establecer un procedimiento de prueba con la dinámica _train / test_.\n",
    "\n",
    "Imaginemos el modelo predictivo como un estudiante que necesita estudiar para una prueba. Para ello, intenta resolver una serie de preguntas a partir de una lista de ejercicios. Si la prueba contiene las mismas preguntas (o un subconjunto) de la lista de ejercicios, corremos el riesgo de que el alumno haya memorizado las respuestas, obteniendo una nota alta sin haber aprendido realmente el contenido. Por otro lado, cuando se aplican nuevas preguntas a la prueba, el alumno debe haber aprendido sobre el contenido para obtener una calificación satisfactoria.\n",
    "\n",
    "La misma lógica se puede aplicar a la validación de modelos de series de tiempo. Considerando una serie con $ n $ períodos, es decir, $ t = 1, 2, \\ldots, n $, dividiremos el conjunto de períodos en $2$. Uno reservado para el \"entrenamiento\" del modelo y el otro para \"testear\"lo mismo.\n",
    "\n",
    "Para las series de tiempo, el conjunto que contiene los períodos más antiguos siempre se utilizará como conjunto de entrenamiento. El tamaño del conjunto de entrenamiento también debe ser siempre mayor que el conjunto de prueba. Esta división generalmente obedece a la regla: entrenamiento (2/3) y prueba (1/3).\n",
    "\n",
    "Aplicando el comando de Python ```len()``` a la ```Serie```, obtenemos el número de puntos para ello. De esta forma, multiplicaremos el número total de períodos por $2/3$ y aplicaremos el resultado en el comando python ```int()```, de modo que el resultado sea siempre un número entero. Llamaremos al resultado final ```train_size```."
   ]
  },
  {
   "cell_type": "code",
   "execution_count": 23,
   "metadata": {},
   "outputs": [
    {
     "data": {
      "text/plain": [
       "24"
      ]
     },
     "execution_count": 23,
     "metadata": {},
     "output_type": "execute_result"
    }
   ],
   "source": [
    "train_size = int(len(df.Sales) * 2 / 3)\n",
    "train_size"
   ]
  },
  {
   "cell_type": "markdown",
   "metadata": {},
   "source": [
    "El conjunto de entrenamiento contendrá los primeros períodos de la serie de tiempo ```train_size = 24```. Usaremos el comando ```Series [:n]``` para filtrar los primeros $n$ valores, dando al resultado el nombre ```train_set```. Para el conjunto de prueba llamado ```test_set```, usaremos el comando  ```Series [n:]```."
   ]
  },
  {
   "cell_type": "code",
   "execution_count": 26,
   "metadata": {},
   "outputs": [
    {
     "data": {
      "text/plain": [
       "[<matplotlib.lines.Line2D at 0x22c1ebc3848>]"
      ]
     },
     "execution_count": 26,
     "metadata": {},
     "output_type": "execute_result"
    },
    {
     "data": {
      "image/png": "[encoded data removed]",
      "text/plain": [
       "<Figure size 432x288 with 1 Axes>"
      ]
     },
     "metadata": {
      "needs_background": "light"
     },
     "output_type": "display_data"
    }
   ],
   "source": [
    "plt.plot(df.Sales)"
   ]
  },
  {
   "cell_type": "code",
   "execution_count": 24,
   "metadata": {},
   "outputs": [],
   "source": [
    "train_set = df.Sales[:train_size]\n",
    "test_set = df.Sales[train_size:]"
   ]
  },
  {
   "cell_type": "code",
   "execution_count": 25,
   "metadata": {},
   "outputs": [
    {
     "data": {
      "text/plain": [
       "[<matplotlib.lines.Line2D at 0x22c1ee44b48>]"
      ]
     },
     "execution_count": 25,
     "metadata": {},
     "output_type": "execute_result"
    },
    {
     "data": {
      "image/png": "[encoded data removed]",
      "text/plain": [
       "<Figure size 432x288 with 1 Axes>"
      ]
     },
     "metadata": {
      "needs_background": "light"
     },
     "output_type": "display_data"
    }
   ],
   "source": [
    "plt.plot(train_set)\n",
    "plt.plot(test_set)"
   ]
  },
  {
   "cell_type": "markdown",
   "metadata": {},
   "source": [
    "Ahora crearemos un modelo autorregresivo de orden 2 (AR (2)) a partir del conjunto de entrenamiento ```train_set```. Accediendo al atributo ```params``` obtenemos los parámetros del modelo AR (2)."
   ]
  },
  {
   "cell_type": "code",
   "execution_count": 31,
   "metadata": {},
   "outputs": [
    {
     "name": "stdout",
     "output_type": "stream",
     "text": [
      "                               AR Model Results                               \n",
      "==============================================================================\n",
      "Dep. Variable:                      S  -                  a                  l\n",
      "Model:                          AR(2)   Log Likelihood                -122.127\n",
      "Method:                          cmle   S.D. of innovations             62.319\n",
      "Date:                Mon, 23 Aug 2021   AIC                              8.628\n",
      "Time:                        00:49:48   BIC                              8.827\n",
      "Sample:                    01-01-2000   HQIC                             8.675\n",
      "                         - 12-01-2001                                         \n",
      "==============================================================================\n",
      "                 coef    std err          z      P>|z|      [0.025      0.975]\n",
      "------------------------------------------------------------------------------\n",
      "const         82.0055     58.393      1.404      0.160     -32.443     196.454\n",
      "L1.Sales       0.1832      0.203      0.903      0.367      -0.215       0.581\n",
      "L2.Sales       0.4887      0.203      2.409      0.016       0.091       0.886\n",
      "                                    Roots                                    \n",
      "=============================================================================\n",
      "                  Real          Imaginary           Modulus         Frequency\n",
      "-----------------------------------------------------------------------------\n",
      "AR.1            1.2552           +0.0000j            1.2552            0.0000\n",
      "AR.2           -1.6301           +0.0000j            1.6301            0.5000\n",
      "-----------------------------------------------------------------------------\n"
     ]
    }
   ],
   "source": [
    "from statsmodels.tsa.ar_model import AR\n",
    "\n",
    "ar_2 = AR(train_set, freq='MS').fit(2)\n",
    "print(ar_2.summary())"
   ]
  },
  {
   "cell_type": "code",
   "execution_count": 33,
   "metadata": {},
   "outputs": [
    {
     "name": "stdout",
     "output_type": "stream",
     "text": [
      "const       82.005541\n",
      "L1.Sales     0.183201\n",
      "L2.Sales     0.488723\n",
      "dtype: float64\n"
     ]
    }
   ],
   "source": [
    "print(ar_2.params)"
   ]
  },
  {
   "cell_type": "markdown",
   "metadata": {},
   "source": [
    "Con base en los parámetros del modelo AR (2), podemos aplicar lo mismo usando la ecuación\n",
    "$$ X_t = 82,00 + 0,18 X_ {t-1} + 0,48 X_ {t - 2} $$\n",
    "\n",
    "Para obtener las predicciones para el conjunto de prueba ```test_set```, aplicaremos la ecuación anterior a este conjunto. Asignaremos los resultados a una variable llamada ```pronósticos```."
   ]
  },
  {
   "cell_type": "code",
   "execution_count": 37,
   "metadata": {},
   "outputs": [],
   "source": [
    "predicciones = ar_2.params[0] + test_set.shift(1) * ar_2.params[1] + test_set.shift(2) * ar_2.params[2]"
   ]
  },
  {
   "cell_type": "markdown",
   "metadata": {},
   "source": [
    "Ahora trazaremos el conjunto de entrenamiento, pruebas y predicciones."
   ]
  },
  {
   "cell_type": "code",
   "execution_count": 38,
   "metadata": {},
   "outputs": [
    {
     "data": {
      "text/plain": [
       "[<matplotlib.lines.Line2D at 0x22c20f94388>]"
      ]
     },
     "execution_count": 38,
     "metadata": {},
     "output_type": "execute_result"
    },
    {
     "data": {
      "image/png": "[encoded data removed]",
      "text/plain": [
       "<Figure size 432x288 with 1 Axes>"
      ]
     },
     "metadata": {
      "needs_background": "light"
     },
     "output_type": "display_data"
    }
   ],
   "source": [
    "plt.plot(train_set)\n",
    "plt.plot(test_set)\n",
    "plt.plot(predicciones)"
   ]
  },
  {
   "cell_type": "markdown",
   "metadata": {},
   "source": [
    "Con la gráfica, podemos ver que el modelo AR (2) no obtuvo un resultado satisfactorio. Para $ p = 2 $, el modelo no respondió al cambio de pendiente en las ventas contenido en el conjunto de entrenamiento. El mal resultado se confirma con el cálculo del error cuadrático medio."
   ]
  },
  {
   "cell_type": "code",
   "execution_count": 41,
   "metadata": {},
   "outputs": [
    {
     "data": {
      "text/plain": [
       "18782.49412004279"
      ]
     },
     "execution_count": 41,
     "metadata": {},
     "output_type": "execute_result"
    }
   ],
   "source": [
    "((test_set - predicciones) ** 2).mean()"
   ]
  },
  {
   "cell_type": "markdown",
   "metadata": {},
   "source": [
    "Ahora haremos una prueba con el modelo AR(5)."
   ]
  },
  {
   "cell_type": "code",
   "execution_count": 48,
   "metadata": {},
   "outputs": [
    {
     "name": "stdout",
     "output_type": "stream",
     "text": [
      "                               AR Model Results                               \n",
      "==============================================================================\n",
      "Dep. Variable:                      S  -                  a                  l\n",
      "Model:                          AR(5)   Log Likelihood                -103.337\n",
      "Method:                          cmle   S.D. of innovations             55.694\n",
      "Date:                Mon, 23 Aug 2021   AIC                              8.777\n",
      "Time:                        01:02:03   BIC                              9.125\n",
      "Sample:                    01-01-2000   HQIC                             8.835\n",
      "                         - 12-01-2001                                         \n",
      "==============================================================================\n",
      "                 coef    std err          z      P>|z|      [0.025      0.975]\n",
      "------------------------------------------------------------------------------\n",
      "const          0.9869     95.378      0.010      0.992    -185.951     187.925\n",
      "L1.Sales      -0.0659      0.262     -0.251      0.801      -0.580       0.448\n",
      "L2.Sales       0.2887      0.239      1.209      0.227      -0.179       0.757\n",
      "L3.Sales       0.0925      0.293      0.316      0.752      -0.481       0.666\n",
      "L4.Sales       0.5479      0.305      1.795      0.073      -0.050       1.146\n",
      "L5.Sales       0.2879      0.313      0.919      0.358      -0.326       0.902\n",
      "                                    Roots                                    \n",
      "=============================================================================\n",
      "                  Real          Imaginary           Modulus         Frequency\n",
      "-----------------------------------------------------------------------------\n",
      "AR.1            0.9639           -0.0000j            0.9639           -0.0000\n",
      "AR.2            0.1329           -1.2077j            1.2150           -0.2326\n",
      "AR.3            0.1329           +1.2077j            1.2150            0.2326\n",
      "AR.4           -1.4538           -0.0000j            1.4538           -0.5000\n",
      "AR.5           -1.6792           -0.0000j            1.6792           -0.5000\n",
      "-----------------------------------------------------------------------------\n"
     ]
    }
   ],
   "source": [
    "ar_5 = AR(train_set, freq='MS').fit(5)\n",
    "print(ar_5.summary())"
   ]
  },
  {
   "cell_type": "code",
   "execution_count": 49,
   "metadata": {},
   "outputs": [
    {
     "data": {
      "text/plain": [
       "const       0.986921\n",
       "L1.Sales   -0.065935\n",
       "L2.Sales    0.288687\n",
       "L3.Sales    0.092468\n",
       "L4.Sales    0.547897\n",
       "L5.Sales    0.287857\n",
       "dtype: float64"
      ]
     },
     "execution_count": 49,
     "metadata": {},
     "output_type": "execute_result"
    }
   ],
   "source": [
    "ar_5.params"
   ]
  },
  {
   "cell_type": "markdown",
   "metadata": {},
   "source": [
    "En este caso, la ecuación que definió los pronósticos es de tipo\n",
    "$$ X_t = 0.98 -0.06X_ {t-1} + 0.28X_ {t-2} + 0.09X_ {t-3} + 0.54X_ {t-4} + 0.28X_ {t-5} $$\n",
    "\n",
    "Para automatizar la aplicación del modelo, usaremos el ciclo a continuación."
   ]
  },
  {
   "cell_type": "code",
   "execution_count": 51,
   "metadata": {},
   "outputs": [
    {
     "data": {
      "text/plain": [
       "Month\n",
       "2002-01-01           NaN\n",
       "2002-02-01           NaN\n",
       "2002-03-01           NaN\n",
       "2002-04-01           NaN\n",
       "2002-05-01           NaN\n",
       "2002-06-01    469.636779\n",
       "2002-07-01    428.470876\n",
       "2002-08-01    458.045403\n",
       "2002-09-01    527.023131\n",
       "2002-10-01    482.070272\n",
       "2002-11-01    645.445731\n",
       "2002-12-01    551.919198\n",
       "Name: Sales, dtype: float64"
      ]
     },
     "execution_count": 51,
     "metadata": {},
     "output_type": "execute_result"
    }
   ],
   "source": [
    "prediccion = ar_5.params[0]\n",
    "for i, param in enumerate(ar_5.params[1:]):\n",
    "    prediccion += test_set.shift(i + 1) * param\n",
    "prediccion"
   ]
  },
  {
   "cell_type": "code",
   "execution_count": 53,
   "metadata": {},
   "outputs": [
    {
     "data": {
      "text/plain": [
       "[<matplotlib.lines.Line2D at 0x22c2134f108>]"
      ]
     },
     "execution_count": 53,
     "metadata": {},
     "output_type": "execute_result"
    },
    {
     "data": {
      "image/png": "[encoded data removed]",
      "text/plain": [
       "<Figure size 432x288 with 1 Axes>"
      ]
     },
     "metadata": {
      "needs_background": "light"
     },
     "output_type": "display_data"
    }
   ],
   "source": [
    "plt.plot(train_set)\n",
    "plt.plot(test_set)\n",
    "plt.plot(prediccion)"
   ]
  },
  {
   "cell_type": "markdown",
   "metadata": {},
   "source": [
    "Con $ p = 5 $, vemos una mejora sustancial en los pronósticos."
   ]
  },
  {
   "cell_type": "code",
   "execution_count": 55,
   "metadata": {},
   "outputs": [
    {
     "data": {
      "text/plain": [
       "8914.45799995382"
      ]
     },
     "execution_count": 55,
     "metadata": {},
     "output_type": "execute_result"
    }
   ],
   "source": [
    "((test_set - prediccion) ** 2).mean()"
   ]
  },
  {
   "cell_type": "code",
   "execution_count": null,
   "metadata": {},
   "outputs": [],
   "source": []
  },
  {
   "cell_type": "code",
   "execution_count": null,
   "metadata": {},
   "outputs": [],
   "source": []
  },
  {
   "cell_type": "code",
   "execution_count": null,
   "metadata": {},
   "outputs": [],
   "source": []
  },
  {
   "cell_type": "code",
   "execution_count": null,
   "metadata": {},
   "outputs": [],
   "source": []
  }
 ],
 "metadata": {
  "kernelspec": {
   "display_name": "Python 3",
   "language": "python",
   "name": "python3"
  },
  "language_info": {
   "codemirror_mode": {
    "name": "ipython",
    "version": 3
   },
   "file_extension": ".py",
   "mimetype": "text/x-python",
   "name": "python",
   "nbconvert_exporter": "python",
   "pygments_lexer": "ipython3",
   "version": "3.8.8"
  }
 },
 "nbformat": 4,
 "nbformat_minor": 2
}
