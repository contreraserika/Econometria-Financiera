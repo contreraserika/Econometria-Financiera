{
 "cells": [
  {
   "cell_type": "markdown",
   "metadata": {},
   "source": [
    "   "
   ]
  },
  {
   "cell_type": "markdown",
   "metadata": {},
   "source": [
    "    "
   ]
  },
  {
   "cell_type": "markdown",
   "metadata": {},
   "source": [
    "# <div align = 'center'> Lectua 1 Introducción a Python </div>\n",
    "### Contenido\n",
    "  <div align = 'left'>\n",
    "      <font color = 'steelblue' size = 4>\n",
    "        1.1 Numpy <br>\n",
    "        1.2 Pandas <br>\n",
    "        1.3 Matplotlib <br>\n",
    "        1.4 Estadistica Descriptiva <br>\n",
    "          </font>\n",
    "        </div>"
   ]
  },
  {
   "cell_type": "markdown",
   "metadata": {},
   "source": [
    "###  NUMPY"
   ]
  },
  {
   "cell_type": "code",
   "execution_count": 1,
   "metadata": {},
   "outputs": [
    {
     "data": {
      "text/plain": [
       "array([ 1. ,  5. , 41.3,  2. ])"
      ]
     },
     "execution_count": 1,
     "metadata": {},
     "output_type": "execute_result"
    }
   ],
   "source": [
    "import numpy as np\n",
    "#Definimos un array en numpy\n",
    "testarray1D = np.array([1, 5, 41.3, 2.0])\n",
    "testarray1D\n",
    "\n"
   ]
  },
  {
   "cell_type": "code",
   "execution_count": 2,
   "metadata": {},
   "outputs": [
    {
     "data": {
      "text/plain": [
       "array([[4, 9, 8, 3],\n",
       "       [2, 6, 3, 2],\n",
       "       [1, 1, 7, 4]])"
      ]
     },
     "execution_count": 2,
     "metadata": {},
     "output_type": "execute_result"
    }
   ],
   "source": [
    "#Definimos otro array en numpy\n",
    "testarray2D = np.array([[4, 9, 8, 3],\n",
    "                        [2, 6, 3, 2],\n",
    "                        [1, 1, 7, 4]])\n",
    "testarray2D\n"
   ]
  },
  {
   "cell_type": "code",
   "execution_count": 3,
   "metadata": {},
   "outputs": [
    {
     "data": {
      "text/plain": [
       "(3, 4)"
      ]
     },
     "execution_count": 3,
     "metadata": {},
     "output_type": "execute_result"
    }
   ],
   "source": [
    "#Obtener la dimensión de testarray2D\n",
    "dimension = testarray2D.shape\n",
    "dimension"
   ]
  },
  {
   "cell_type": "code",
   "execution_count": 4,
   "metadata": {},
   "outputs": [
    {
     "data": {
      "text/plain": [
       "array([1, 1, 7, 4])"
      ]
     },
     "execution_count": 4,
     "metadata": {},
     "output_type": "execute_result"
    }
   ],
   "source": [
    "#Accedemos a elementos por indices\n",
    "tercer_elemento = testarray2D[2]\n",
    "tercer_elemento\n"
   ]
  },
  {
   "cell_type": "code",
   "execution_count": 11,
   "metadata": {},
   "outputs": [
    {
     "data": {
      "text/plain": [
       "3"
      ]
     },
     "execution_count": 11,
     "metadata": {},
     "output_type": "execute_result"
    }
   ],
   "source": [
    "#Accedemos a elementos por indices\n",
    "segundo_tercer_elemento = testarray2D[1,2]\n",
    "segundo_tercer_elemento"
   ]
  },
  {
   "cell_type": "code",
   "execution_count": 5,
   "metadata": {},
   "outputs": [
    {
     "data": {
      "text/plain": [
       "array([[9, 8],\n",
       "       [6, 3],\n",
       "       [1, 7]])"
      ]
     },
     "execution_count": 5,
     "metadata": {},
     "output_type": "execute_result"
    }
   ],
   "source": [
    "#Accedemos a la segunda y tercera columna\n",
    "segunda_tercera_columna_elemento = testarray2D[:,1:3]\n",
    "segunda_tercera_columna_elemento"
   ]
  },
  {
   "cell_type": "code",
   "execution_count": 6,
   "metadata": {},
   "outputs": [
    {
     "data": {
      "text/plain": [
       "array([0. , 0.2, 0.4, 0.6, 0.8, 1. , 1.2, 1.4, 1.6, 1.8, 2. ])"
      ]
     },
     "execution_count": 6,
     "metadata": {},
     "output_type": "execute_result"
    }
   ],
   "source": [
    "#Uso de Linspace\n",
    "secuencia = np.linspace(0, 2, num=11)\n",
    "secuencia\n"
   ]
  },
  {
   "cell_type": "code",
   "execution_count": 19,
   "metadata": {},
   "outputs": [
    {
     "data": {
      "text/plain": [
       "array([0, 1, 2, 3, 4])"
      ]
     },
     "execution_count": 19,
     "metadata": {},
     "output_type": "execute_result"
    }
   ],
   "source": [
    "#Secuencia de interos que comienza en 0 y termina en 5-1\n",
    "secuencia_enteros = np.arange(5)\n",
    "secuencia_enteros\n"
   ]
  },
  {
   "cell_type": "code",
   "execution_count": 7,
   "metadata": {},
   "outputs": [
    {
     "data": {
      "text/plain": [
       "array([[0., 0., 0.],\n",
       "       [0., 0., 0.],\n",
       "       [0., 0., 0.],\n",
       "       [0., 0., 0.]])"
      ]
     },
     "execution_count": 7,
     "metadata": {},
     "output_type": "execute_result"
    }
   ],
   "source": [
    "#Array con ceros\n",
    "array_ceros = np.zeros((4,3))\n",
    "array_ceros"
   ]
  },
  {
   "cell_type": "code",
   "execution_count": 8,
   "metadata": {},
   "outputs": [
    {
     "data": {
      "text/plain": [
       "array([[1., 1., 1., 1., 1.],\n",
       "       [1., 1., 1., 1., 1.]])"
      ]
     },
     "execution_count": 8,
     "metadata": {},
     "output_type": "execute_result"
    }
   ],
   "source": [
    "#Array con unos\n",
    "array_unos = np.ones((2,5))\n",
    "array_unos"
   ]
  },
  {
   "cell_type": "code",
   "execution_count": 9,
   "metadata": {},
   "outputs": [
    {
     "data": {
      "text/plain": [
       "array([[0., 0., 0.],\n",
       "       [0., 0., 0.]])"
      ]
     },
     "execution_count": 9,
     "metadata": {},
     "output_type": "execute_result"
    }
   ],
   "source": [
    "#Array con vacios\n",
    "array_empty = np.empty((2,3))\n",
    "array_empty"
   ]
  },
  {
   "cell_type": "code",
   "execution_count": 10,
   "metadata": {},
   "outputs": [
    {
     "data": {
      "text/plain": [
       "array([[5.45981500e+01, 8.10308393e+03, 2.98095799e+03],\n",
       "       [7.38905610e+00, 4.03428793e+02, 2.00855369e+01]])"
      ]
     },
     "execution_count": 10,
     "metadata": {},
     "output_type": "execute_result"
    }
   ],
   "source": [
    "#Operaciones\n",
    "mat1 = np.array([[4, 9, 8],\n",
    "                 [2, 6, 3]])\n",
    "mat2 = np.array([[1, 5, 2],\n",
    "                 [6, 6, 0],\n",
    "                 [4, 8, 3]])\n",
    "resultado1 = np.exp(mat1)\n",
    "resultado1"
   ]
  },
  {
   "cell_type": "code",
   "execution_count": 13,
   "metadata": {},
   "outputs": [
    {
     "data": {
      "text/plain": [
       "array([[ 5, 14, 10],\n",
       "       [ 8, 12,  3]])"
      ]
     },
     "execution_count": 13,
     "metadata": {},
     "output_type": "execute_result"
    }
   ],
   "source": [
    "#Suma\n",
    "resultado2 = mat1 + mat2[[0, 1]]\n",
    "resultado2"
   ]
  },
  {
   "cell_type": "code",
   "execution_count": 14,
   "metadata": {},
   "outputs": [
    {
     "data": {
      "text/plain": [
       "array([[4, 2],\n",
       "       [9, 6],\n",
       "       [8, 3]])"
      ]
     },
     "execution_count": 14,
     "metadata": {},
     "output_type": "execute_result"
    }
   ],
   "source": [
    "#Transpuesta\n",
    "mat1_tr = mat1.transpose()\n",
    "mat1_tr"
   ]
  },
  {
   "cell_type": "code",
   "execution_count": 17,
   "metadata": {},
   "outputs": [
    {
     "data": {
      "text/plain": [
       "array([[ 90, 138,  32],\n",
       "       [ 50,  70,  13]])"
      ]
     },
     "execution_count": 17,
     "metadata": {},
     "output_type": "execute_result"
    }
   ],
   "source": [
    "#Multiplicación\n",
    "matprod = mat1.dot(mat2)\n",
    "matprod"
   ]
  },
  {
   "cell_type": "markdown",
   "metadata": {},
   "source": [
    "### PANDAS"
   ]
  },
  {
   "cell_type": "code",
   "execution_count": 11,
   "metadata": {},
   "outputs": [
    {
     "data": {
      "text/html": [
       "<div>\n",
       "<style scoped>\n",
       "    .dataframe tbody tr th:only-of-type {\n",
       "        vertical-align: middle;\n",
       "    }\n",
       "\n",
       "    .dataframe tbody tr th {\n",
       "        vertical-align: top;\n",
       "    }\n",
       "\n",
       "    .dataframe thead th {\n",
       "        text-align: right;\n",
       "    }\n",
       "</style>\n",
       "<table border=\"1\" class=\"dataframe\">\n",
       "  <thead>\n",
       "    <tr style=\"text-align: right;\">\n",
       "      <th></th>\n",
       "      <th>Ventas_Helados</th>\n",
       "      <th>Codigo_Clima</th>\n",
       "      <th>Clientes</th>\n",
       "    </tr>\n",
       "  </thead>\n",
       "  <tbody>\n",
       "    <tr>\n",
       "      <th>0</th>\n",
       "      <td>30</td>\n",
       "      <td>0</td>\n",
       "      <td>2000</td>\n",
       "    </tr>\n",
       "    <tr>\n",
       "      <th>1</th>\n",
       "      <td>40</td>\n",
       "      <td>1</td>\n",
       "      <td>2100</td>\n",
       "    </tr>\n",
       "    <tr>\n",
       "      <th>2</th>\n",
       "      <td>35</td>\n",
       "      <td>0</td>\n",
       "      <td>1500</td>\n",
       "    </tr>\n",
       "    <tr>\n",
       "      <th>3</th>\n",
       "      <td>130</td>\n",
       "      <td>1</td>\n",
       "      <td>8000</td>\n",
       "    </tr>\n",
       "    <tr>\n",
       "      <th>4</th>\n",
       "      <td>120</td>\n",
       "      <td>1</td>\n",
       "      <td>7200</td>\n",
       "    </tr>\n",
       "    <tr>\n",
       "      <th>5</th>\n",
       "      <td>60</td>\n",
       "      <td>0</td>\n",
       "      <td>20000</td>\n",
       "    </tr>\n",
       "  </tbody>\n",
       "</table>\n",
       "</div>"
      ],
      "text/plain": [
       "   Ventas_Helados  Codigo_Clima  Clientes\n",
       "0              30             0      2000\n",
       "1              40             1      2100\n",
       "2              35             0      1500\n",
       "3             130             1      8000\n",
       "4             120             1      7200\n",
       "5              60             0     20000"
      ]
     },
     "execution_count": 11,
     "metadata": {},
     "output_type": "execute_result"
    }
   ],
   "source": [
    "import pandas as pd\n",
    "import numpy as np\n",
    "\n",
    "#Definimos un DataFrame de pandas\n",
    "ventas_helado = np.array([30, 40, 35, 130, 120, 60])\n",
    "codigo_clima = np.array([0, 1, 0, 1, 1, 0])\n",
    "clientes = np.array([2000, 2100, 1500, 8000, 7200, 20000])\n",
    "\n",
    "df = pd.DataFrame({'Ventas_Helados': ventas_helado,\n",
    "                   'Codigo_Clima': codigo_clima,\n",
    "                   'Clientes': clientes})\n",
    "df"
   ]
  },
  {
   "cell_type": "code",
   "execution_count": 12,
   "metadata": {},
   "outputs": [
    {
     "data": {
      "text/html": [
       "<div>\n",
       "<style scoped>\n",
       "    .dataframe tbody tr th:only-of-type {\n",
       "        vertical-align: middle;\n",
       "    }\n",
       "\n",
       "    .dataframe tbody tr th {\n",
       "        vertical-align: top;\n",
       "    }\n",
       "\n",
       "    .dataframe thead th {\n",
       "        text-align: right;\n",
       "    }\n",
       "</style>\n",
       "<table border=\"1\" class=\"dataframe\">\n",
       "  <thead>\n",
       "    <tr style=\"text-align: right;\">\n",
       "      <th></th>\n",
       "      <th>Ventas_Helados</th>\n",
       "      <th>Codigo_Clima</th>\n",
       "      <th>Clientes</th>\n",
       "    </tr>\n",
       "  </thead>\n",
       "  <tbody>\n",
       "    <tr>\n",
       "      <th>2010-04-30</th>\n",
       "      <td>30</td>\n",
       "      <td>0</td>\n",
       "      <td>2000</td>\n",
       "    </tr>\n",
       "    <tr>\n",
       "      <th>2010-05-31</th>\n",
       "      <td>40</td>\n",
       "      <td>1</td>\n",
       "      <td>2100</td>\n",
       "    </tr>\n",
       "    <tr>\n",
       "      <th>2010-06-30</th>\n",
       "      <td>35</td>\n",
       "      <td>0</td>\n",
       "      <td>1500</td>\n",
       "    </tr>\n",
       "    <tr>\n",
       "      <th>2010-07-31</th>\n",
       "      <td>130</td>\n",
       "      <td>1</td>\n",
       "      <td>8000</td>\n",
       "    </tr>\n",
       "    <tr>\n",
       "      <th>2010-08-31</th>\n",
       "      <td>120</td>\n",
       "      <td>1</td>\n",
       "      <td>7200</td>\n",
       "    </tr>\n",
       "    <tr>\n",
       "      <th>2010-09-30</th>\n",
       "      <td>60</td>\n",
       "      <td>0</td>\n",
       "      <td>20000</td>\n",
       "    </tr>\n",
       "  </tbody>\n",
       "</table>\n",
       "</div>"
      ],
      "text/plain": [
       "            Ventas_Helados  Codigo_Clima  Clientes\n",
       "2010-04-30              30             0      2000\n",
       "2010-05-31              40             1      2100\n",
       "2010-06-30              35             0      1500\n",
       "2010-07-31             130             1      8000\n",
       "2010-08-31             120             1      7200\n",
       "2010-09-30              60             0     20000"
      ]
     },
     "execution_count": 12,
     "metadata": {},
     "output_type": "execute_result"
    }
   ],
   "source": [
    "#Definimos y asignamos un index de Fecha\n",
    "indice = pd.date_range(start='04/2010', freq='M', periods=6)\n",
    "indice\n",
    "df.set_index(indice, inplace=True)\n",
    "df"
   ]
  },
  {
   "cell_type": "code",
   "execution_count": 32,
   "metadata": {},
   "outputs": [
    {
     "data": {
      "text/html": [
       "<div>\n",
       "<style scoped>\n",
       "    .dataframe tbody tr th:only-of-type {\n",
       "        vertical-align: middle;\n",
       "    }\n",
       "\n",
       "    .dataframe tbody tr th {\n",
       "        vertical-align: top;\n",
       "    }\n",
       "\n",
       "    .dataframe thead th {\n",
       "        text-align: right;\n",
       "    }\n",
       "</style>\n",
       "<table border=\"1\" class=\"dataframe\">\n",
       "  <thead>\n",
       "    <tr style=\"text-align: right;\">\n",
       "      <th></th>\n",
       "      <th>Ventas_Helados</th>\n",
       "    </tr>\n",
       "  </thead>\n",
       "  <tbody>\n",
       "    <tr>\n",
       "      <th>2010-04-30</th>\n",
       "      <td>30</td>\n",
       "    </tr>\n",
       "    <tr>\n",
       "      <th>2010-05-31</th>\n",
       "      <td>40</td>\n",
       "    </tr>\n",
       "    <tr>\n",
       "      <th>2010-06-30</th>\n",
       "      <td>35</td>\n",
       "    </tr>\n",
       "    <tr>\n",
       "      <th>2010-07-31</th>\n",
       "      <td>130</td>\n",
       "    </tr>\n",
       "    <tr>\n",
       "      <th>2010-08-31</th>\n",
       "      <td>120</td>\n",
       "    </tr>\n",
       "    <tr>\n",
       "      <th>2010-09-30</th>\n",
       "      <td>60</td>\n",
       "    </tr>\n",
       "  </tbody>\n",
       "</table>\n",
       "</div>"
      ],
      "text/plain": [
       "            Ventas_Helados\n",
       "2010-04-30              30\n",
       "2010-05-31              40\n",
       "2010-06-30              35\n",
       "2010-07-31             130\n",
       "2010-08-31             120\n",
       "2010-09-30              60"
      ]
     },
     "execution_count": 32,
     "metadata": {},
     "output_type": "execute_result"
    }
   ],
   "source": [
    "#Acceder a Columnas por Nombre de Variables\n",
    "subset1 = df[['Ventas_Helados']]\n",
    "subset1"
   ]
  },
  {
   "cell_type": "code",
   "execution_count": 59,
   "metadata": {},
   "outputs": [
    {
     "data": {
      "text/html": [
       "<div>\n",
       "<style scoped>\n",
       "    .dataframe tbody tr th:only-of-type {\n",
       "        vertical-align: middle;\n",
       "    }\n",
       "\n",
       "    .dataframe tbody tr th {\n",
       "        vertical-align: top;\n",
       "    }\n",
       "\n",
       "    .dataframe thead th {\n",
       "        text-align: right;\n",
       "    }\n",
       "</style>\n",
       "<table border=\"1\" class=\"dataframe\">\n",
       "  <thead>\n",
       "    <tr style=\"text-align: right;\">\n",
       "      <th></th>\n",
       "      <th>Ventas_Helados</th>\n",
       "      <th>Codigo_Clima</th>\n",
       "    </tr>\n",
       "  </thead>\n",
       "  <tbody>\n",
       "    <tr>\n",
       "      <th>2010-04-30</th>\n",
       "      <td>30</td>\n",
       "      <td>0</td>\n",
       "    </tr>\n",
       "    <tr>\n",
       "      <th>2010-05-31</th>\n",
       "      <td>40</td>\n",
       "      <td>1</td>\n",
       "    </tr>\n",
       "    <tr>\n",
       "      <th>2010-06-30</th>\n",
       "      <td>35</td>\n",
       "      <td>0</td>\n",
       "    </tr>\n",
       "    <tr>\n",
       "      <th>2010-07-31</th>\n",
       "      <td>130</td>\n",
       "      <td>1</td>\n",
       "    </tr>\n",
       "    <tr>\n",
       "      <th>2010-08-31</th>\n",
       "      <td>120</td>\n",
       "      <td>1</td>\n",
       "    </tr>\n",
       "    <tr>\n",
       "      <th>2010-09-30</th>\n",
       "      <td>60</td>\n",
       "      <td>0</td>\n",
       "    </tr>\n",
       "  </tbody>\n",
       "</table>\n",
       "</div>"
      ],
      "text/plain": [
       "            Ventas_Helados  Codigo_Clima\n",
       "2010-04-30              30             0\n",
       "2010-05-31              40             1\n",
       "2010-06-30              35             0\n",
       "2010-07-31             130             1\n",
       "2010-08-31             120             1\n",
       "2010-09-30              60             0"
      ]
     },
     "execution_count": 59,
     "metadata": {},
     "output_type": "execute_result"
    }
   ],
   "source": [
    "subset1 = df[['Ventas_Helados','Codigo_Clima']]\n",
    "subset1"
   ]
  },
  {
   "cell_type": "code",
   "execution_count": 63,
   "metadata": {},
   "outputs": [
    {
     "data": {
      "text/html": [
       "<div>\n",
       "<style scoped>\n",
       "    .dataframe tbody tr th:only-of-type {\n",
       "        vertical-align: middle;\n",
       "    }\n",
       "\n",
       "    .dataframe tbody tr th {\n",
       "        vertical-align: top;\n",
       "    }\n",
       "\n",
       "    .dataframe thead th {\n",
       "        text-align: right;\n",
       "    }\n",
       "</style>\n",
       "<table border=\"1\" class=\"dataframe\">\n",
       "  <thead>\n",
       "    <tr style=\"text-align: right;\">\n",
       "      <th></th>\n",
       "      <th>Ventas_Helados</th>\n",
       "      <th>Codigo_Clima</th>\n",
       "      <th>Clientes</th>\n",
       "    </tr>\n",
       "  </thead>\n",
       "  <tbody>\n",
       "    <tr>\n",
       "      <th>2010-05-31</th>\n",
       "      <td>40</td>\n",
       "      <td>1</td>\n",
       "      <td>2100</td>\n",
       "    </tr>\n",
       "    <tr>\n",
       "      <th>2010-06-30</th>\n",
       "      <td>35</td>\n",
       "      <td>0</td>\n",
       "      <td>1500</td>\n",
       "    </tr>\n",
       "    <tr>\n",
       "      <th>2010-07-31</th>\n",
       "      <td>130</td>\n",
       "      <td>1</td>\n",
       "      <td>8000</td>\n",
       "    </tr>\n",
       "  </tbody>\n",
       "</table>\n",
       "</div>"
      ],
      "text/plain": [
       "            Ventas_Helados  Codigo_Clima  Clientes\n",
       "2010-05-31              40             1      2100\n",
       "2010-06-30              35             0      1500\n",
       "2010-07-31             130             1      8000"
      ]
     },
     "execution_count": 63,
     "metadata": {},
     "output_type": "execute_result"
    }
   ],
   "source": [
    "subset2 = df[1:4]\n",
    "subset2"
   ]
  },
  {
   "cell_type": "code",
   "execution_count": 64,
   "metadata": {},
   "outputs": [
    {
     "data": {
      "text/plain": [
       "1500"
      ]
     },
     "execution_count": 64,
     "metadata": {},
     "output_type": "execute_result"
    }
   ],
   "source": [
    "subset3 = df.loc['2010-06-30','Clientes']\n",
    "subset3"
   ]
  },
  {
   "cell_type": "code",
   "execution_count": 66,
   "metadata": {},
   "outputs": [
    {
     "data": {
      "text/html": [
       "<div>\n",
       "<style scoped>\n",
       "    .dataframe tbody tr th:only-of-type {\n",
       "        vertical-align: middle;\n",
       "    }\n",
       "\n",
       "    .dataframe tbody tr th {\n",
       "        vertical-align: top;\n",
       "    }\n",
       "\n",
       "    .dataframe thead th {\n",
       "        text-align: right;\n",
       "    }\n",
       "</style>\n",
       "<table border=\"1\" class=\"dataframe\">\n",
       "  <thead>\n",
       "    <tr style=\"text-align: right;\">\n",
       "      <th></th>\n",
       "      <th>Ventas_Helados</th>\n",
       "      <th>Codigo_Clima</th>\n",
       "    </tr>\n",
       "  </thead>\n",
       "  <tbody>\n",
       "    <tr>\n",
       "      <th>2010-05-31</th>\n",
       "      <td>40</td>\n",
       "      <td>1</td>\n",
       "    </tr>\n",
       "    <tr>\n",
       "      <th>2010-06-30</th>\n",
       "      <td>35</td>\n",
       "      <td>0</td>\n",
       "    </tr>\n",
       "    <tr>\n",
       "      <th>2010-07-31</th>\n",
       "      <td>130</td>\n",
       "      <td>1</td>\n",
       "    </tr>\n",
       "  </tbody>\n",
       "</table>\n",
       "</div>"
      ],
      "text/plain": [
       "            Ventas_Helados  Codigo_Clima\n",
       "2010-05-31              40             1\n",
       "2010-06-30              35             0\n",
       "2010-07-31             130             1"
      ]
     },
     "execution_count": 66,
     "metadata": {},
     "output_type": "execute_result"
    }
   ],
   "source": [
    "subset4 = df.iloc[1:4, 0:2]\n",
    "subset4"
   ]
  },
  {
   "cell_type": "code",
   "execution_count": 70,
   "metadata": {},
   "outputs": [
    {
     "data": {
      "text/plain": [
       "2010-04-30     2000\n",
       "2010-05-31     2100\n",
       "2010-06-30     1500\n",
       "2010-07-31     8000\n",
       "2010-08-31     7200\n",
       "2010-09-30    20000\n",
       "Freq: M, Name: Clientes, dtype: int32"
      ]
     },
     "execution_count": 70,
     "metadata": {},
     "output_type": "execute_result"
    }
   ],
   "source": [
    "#Metodos Importantes en Pandas\n",
    "df.head()\n",
    "df.tail()\n",
    "df.describe()\n",
    "df['Clientes']\n",
    "df.Clientes"
   ]
  },
  {
   "cell_type": "markdown",
   "metadata": {},
   "source": [
    "### DATA EXTERNA - WOOLDRIDGE (2019)"
   ]
  },
  {
   "cell_type": "code",
   "execution_count": 72,
   "metadata": {},
   "outputs": [
    {
     "data": {
      "text/html": [
       "<div>\n",
       "<style scoped>\n",
       "    .dataframe tbody tr th:only-of-type {\n",
       "        vertical-align: middle;\n",
       "    }\n",
       "\n",
       "    .dataframe tbody tr th {\n",
       "        vertical-align: top;\n",
       "    }\n",
       "\n",
       "    .dataframe thead th {\n",
       "        text-align: right;\n",
       "    }\n",
       "</style>\n",
       "<table border=\"1\" class=\"dataframe\">\n",
       "  <thead>\n",
       "    <tr style=\"text-align: right;\">\n",
       "      <th></th>\n",
       "      <th>wage</th>\n",
       "      <th>educ</th>\n",
       "      <th>exper</th>\n",
       "      <th>tenure</th>\n",
       "      <th>nonwhite</th>\n",
       "      <th>female</th>\n",
       "      <th>married</th>\n",
       "      <th>numdep</th>\n",
       "      <th>smsa</th>\n",
       "      <th>northcen</th>\n",
       "      <th>...</th>\n",
       "      <th>trcommpu</th>\n",
       "      <th>trade</th>\n",
       "      <th>services</th>\n",
       "      <th>profserv</th>\n",
       "      <th>profocc</th>\n",
       "      <th>clerocc</th>\n",
       "      <th>servocc</th>\n",
       "      <th>lwage</th>\n",
       "      <th>expersq</th>\n",
       "      <th>tenursq</th>\n",
       "    </tr>\n",
       "  </thead>\n",
       "  <tbody>\n",
       "    <tr>\n",
       "      <th>0</th>\n",
       "      <td>3.10</td>\n",
       "      <td>11</td>\n",
       "      <td>2</td>\n",
       "      <td>0</td>\n",
       "      <td>0</td>\n",
       "      <td>1</td>\n",
       "      <td>0</td>\n",
       "      <td>2</td>\n",
       "      <td>1</td>\n",
       "      <td>0</td>\n",
       "      <td>...</td>\n",
       "      <td>0</td>\n",
       "      <td>0</td>\n",
       "      <td>0</td>\n",
       "      <td>0</td>\n",
       "      <td>0</td>\n",
       "      <td>0</td>\n",
       "      <td>0</td>\n",
       "      <td>1.131402</td>\n",
       "      <td>4</td>\n",
       "      <td>0</td>\n",
       "    </tr>\n",
       "    <tr>\n",
       "      <th>1</th>\n",
       "      <td>3.24</td>\n",
       "      <td>12</td>\n",
       "      <td>22</td>\n",
       "      <td>2</td>\n",
       "      <td>0</td>\n",
       "      <td>1</td>\n",
       "      <td>1</td>\n",
       "      <td>3</td>\n",
       "      <td>1</td>\n",
       "      <td>0</td>\n",
       "      <td>...</td>\n",
       "      <td>0</td>\n",
       "      <td>0</td>\n",
       "      <td>1</td>\n",
       "      <td>0</td>\n",
       "      <td>0</td>\n",
       "      <td>0</td>\n",
       "      <td>1</td>\n",
       "      <td>1.175573</td>\n",
       "      <td>484</td>\n",
       "      <td>4</td>\n",
       "    </tr>\n",
       "    <tr>\n",
       "      <th>2</th>\n",
       "      <td>3.00</td>\n",
       "      <td>11</td>\n",
       "      <td>2</td>\n",
       "      <td>0</td>\n",
       "      <td>0</td>\n",
       "      <td>0</td>\n",
       "      <td>0</td>\n",
       "      <td>2</td>\n",
       "      <td>0</td>\n",
       "      <td>0</td>\n",
       "      <td>...</td>\n",
       "      <td>0</td>\n",
       "      <td>1</td>\n",
       "      <td>0</td>\n",
       "      <td>0</td>\n",
       "      <td>0</td>\n",
       "      <td>0</td>\n",
       "      <td>0</td>\n",
       "      <td>1.098612</td>\n",
       "      <td>4</td>\n",
       "      <td>0</td>\n",
       "    </tr>\n",
       "    <tr>\n",
       "      <th>3</th>\n",
       "      <td>6.00</td>\n",
       "      <td>8</td>\n",
       "      <td>44</td>\n",
       "      <td>28</td>\n",
       "      <td>0</td>\n",
       "      <td>0</td>\n",
       "      <td>1</td>\n",
       "      <td>0</td>\n",
       "      <td>1</td>\n",
       "      <td>0</td>\n",
       "      <td>...</td>\n",
       "      <td>0</td>\n",
       "      <td>0</td>\n",
       "      <td>0</td>\n",
       "      <td>0</td>\n",
       "      <td>0</td>\n",
       "      <td>1</td>\n",
       "      <td>0</td>\n",
       "      <td>1.791759</td>\n",
       "      <td>1936</td>\n",
       "      <td>784</td>\n",
       "    </tr>\n",
       "    <tr>\n",
       "      <th>4</th>\n",
       "      <td>5.30</td>\n",
       "      <td>12</td>\n",
       "      <td>7</td>\n",
       "      <td>2</td>\n",
       "      <td>0</td>\n",
       "      <td>0</td>\n",
       "      <td>1</td>\n",
       "      <td>1</td>\n",
       "      <td>0</td>\n",
       "      <td>0</td>\n",
       "      <td>...</td>\n",
       "      <td>0</td>\n",
       "      <td>0</td>\n",
       "      <td>0</td>\n",
       "      <td>0</td>\n",
       "      <td>0</td>\n",
       "      <td>0</td>\n",
       "      <td>0</td>\n",
       "      <td>1.667707</td>\n",
       "      <td>49</td>\n",
       "      <td>4</td>\n",
       "    </tr>\n",
       "    <tr>\n",
       "      <th>...</th>\n",
       "      <td>...</td>\n",
       "      <td>...</td>\n",
       "      <td>...</td>\n",
       "      <td>...</td>\n",
       "      <td>...</td>\n",
       "      <td>...</td>\n",
       "      <td>...</td>\n",
       "      <td>...</td>\n",
       "      <td>...</td>\n",
       "      <td>...</td>\n",
       "      <td>...</td>\n",
       "      <td>...</td>\n",
       "      <td>...</td>\n",
       "      <td>...</td>\n",
       "      <td>...</td>\n",
       "      <td>...</td>\n",
       "      <td>...</td>\n",
       "      <td>...</td>\n",
       "      <td>...</td>\n",
       "      <td>...</td>\n",
       "      <td>...</td>\n",
       "    </tr>\n",
       "    <tr>\n",
       "      <th>521</th>\n",
       "      <td>15.00</td>\n",
       "      <td>16</td>\n",
       "      <td>14</td>\n",
       "      <td>2</td>\n",
       "      <td>0</td>\n",
       "      <td>1</td>\n",
       "      <td>1</td>\n",
       "      <td>2</td>\n",
       "      <td>0</td>\n",
       "      <td>0</td>\n",
       "      <td>...</td>\n",
       "      <td>0</td>\n",
       "      <td>0</td>\n",
       "      <td>0</td>\n",
       "      <td>1</td>\n",
       "      <td>1</td>\n",
       "      <td>0</td>\n",
       "      <td>0</td>\n",
       "      <td>2.708050</td>\n",
       "      <td>196</td>\n",
       "      <td>4</td>\n",
       "    </tr>\n",
       "    <tr>\n",
       "      <th>522</th>\n",
       "      <td>2.27</td>\n",
       "      <td>10</td>\n",
       "      <td>2</td>\n",
       "      <td>0</td>\n",
       "      <td>0</td>\n",
       "      <td>1</td>\n",
       "      <td>0</td>\n",
       "      <td>3</td>\n",
       "      <td>0</td>\n",
       "      <td>0</td>\n",
       "      <td>...</td>\n",
       "      <td>0</td>\n",
       "      <td>1</td>\n",
       "      <td>0</td>\n",
       "      <td>0</td>\n",
       "      <td>1</td>\n",
       "      <td>0</td>\n",
       "      <td>0</td>\n",
       "      <td>0.819780</td>\n",
       "      <td>4</td>\n",
       "      <td>0</td>\n",
       "    </tr>\n",
       "    <tr>\n",
       "      <th>523</th>\n",
       "      <td>4.67</td>\n",
       "      <td>15</td>\n",
       "      <td>13</td>\n",
       "      <td>18</td>\n",
       "      <td>0</td>\n",
       "      <td>0</td>\n",
       "      <td>1</td>\n",
       "      <td>3</td>\n",
       "      <td>0</td>\n",
       "      <td>0</td>\n",
       "      <td>...</td>\n",
       "      <td>0</td>\n",
       "      <td>0</td>\n",
       "      <td>0</td>\n",
       "      <td>0</td>\n",
       "      <td>1</td>\n",
       "      <td>0</td>\n",
       "      <td>0</td>\n",
       "      <td>1.541159</td>\n",
       "      <td>169</td>\n",
       "      <td>324</td>\n",
       "    </tr>\n",
       "    <tr>\n",
       "      <th>524</th>\n",
       "      <td>11.56</td>\n",
       "      <td>16</td>\n",
       "      <td>5</td>\n",
       "      <td>1</td>\n",
       "      <td>0</td>\n",
       "      <td>0</td>\n",
       "      <td>1</td>\n",
       "      <td>0</td>\n",
       "      <td>0</td>\n",
       "      <td>0</td>\n",
       "      <td>...</td>\n",
       "      <td>0</td>\n",
       "      <td>0</td>\n",
       "      <td>0</td>\n",
       "      <td>0</td>\n",
       "      <td>0</td>\n",
       "      <td>0</td>\n",
       "      <td>0</td>\n",
       "      <td>2.447551</td>\n",
       "      <td>25</td>\n",
       "      <td>1</td>\n",
       "    </tr>\n",
       "    <tr>\n",
       "      <th>525</th>\n",
       "      <td>3.50</td>\n",
       "      <td>14</td>\n",
       "      <td>5</td>\n",
       "      <td>4</td>\n",
       "      <td>1</td>\n",
       "      <td>1</td>\n",
       "      <td>0</td>\n",
       "      <td>2</td>\n",
       "      <td>0</td>\n",
       "      <td>0</td>\n",
       "      <td>...</td>\n",
       "      <td>0</td>\n",
       "      <td>0</td>\n",
       "      <td>0</td>\n",
       "      <td>1</td>\n",
       "      <td>0</td>\n",
       "      <td>1</td>\n",
       "      <td>0</td>\n",
       "      <td>1.252763</td>\n",
       "      <td>25</td>\n",
       "      <td>16</td>\n",
       "    </tr>\n",
       "  </tbody>\n",
       "</table>\n",
       "<p>526 rows × 24 columns</p>\n",
       "</div>"
      ],
      "text/plain": [
       "      wage  educ  exper  tenure  nonwhite  female  married  numdep  smsa  \\\n",
       "0     3.10    11      2       0         0       1        0       2     1   \n",
       "1     3.24    12     22       2         0       1        1       3     1   \n",
       "2     3.00    11      2       0         0       0        0       2     0   \n",
       "3     6.00     8     44      28         0       0        1       0     1   \n",
       "4     5.30    12      7       2         0       0        1       1     0   \n",
       "..     ...   ...    ...     ...       ...     ...      ...     ...   ...   \n",
       "521  15.00    16     14       2         0       1        1       2     0   \n",
       "522   2.27    10      2       0         0       1        0       3     0   \n",
       "523   4.67    15     13      18         0       0        1       3     0   \n",
       "524  11.56    16      5       1         0       0        1       0     0   \n",
       "525   3.50    14      5       4         1       1        0       2     0   \n",
       "\n",
       "     northcen  ...  trcommpu  trade  services  profserv  profocc  clerocc  \\\n",
       "0           0  ...         0      0         0         0        0        0   \n",
       "1           0  ...         0      0         1         0        0        0   \n",
       "2           0  ...         0      1         0         0        0        0   \n",
       "3           0  ...         0      0         0         0        0        1   \n",
       "4           0  ...         0      0         0         0        0        0   \n",
       "..        ...  ...       ...    ...       ...       ...      ...      ...   \n",
       "521         0  ...         0      0         0         1        1        0   \n",
       "522         0  ...         0      1         0         0        1        0   \n",
       "523         0  ...         0      0         0         0        1        0   \n",
       "524         0  ...         0      0         0         0        0        0   \n",
       "525         0  ...         0      0         0         1        0        1   \n",
       "\n",
       "     servocc     lwage  expersq  tenursq  \n",
       "0          0  1.131402        4        0  \n",
       "1          1  1.175573      484        4  \n",
       "2          0  1.098612        4        0  \n",
       "3          0  1.791759     1936      784  \n",
       "4          0  1.667707       49        4  \n",
       "..       ...       ...      ...      ...  \n",
       "521        0  2.708050      196        4  \n",
       "522        0  0.819780        4        0  \n",
       "523        0  1.541159      169      324  \n",
       "524        0  2.447551       25        1  \n",
       "525        0  1.252763       25       16  \n",
       "\n",
       "[526 rows x 24 columns]"
      ]
     },
     "execution_count": 72,
     "metadata": {},
     "output_type": "execute_result"
    }
   ],
   "source": [
    "import wooldridge as woo\n",
    "\n",
    "#Cargamos la Data\n",
    "wage1 = woo.dataWoo('wage1')\n",
    "wage1"
   ]
  },
  {
   "cell_type": "code",
   "execution_count": null,
   "metadata": {},
   "outputs": [],
   "source": [
    "#Importacion y Exportacion de archivos\n",
    "#read_table  y to_table\n",
    "#read_csv    y to_csv\n",
    "#read_excel  y to_excel"
   ]
  },
  {
   "cell_type": "markdown",
   "metadata": {},
   "source": [
    "### MATPLOTLIB - GRAFICOS"
   ]
  },
  {
   "cell_type": "code",
   "execution_count": 13,
   "metadata": {},
   "outputs": [
    {
     "data": {
      "text/plain": [
       "[<matplotlib.lines.Line2D at 0x187e01f0400>]"
      ]
     },
     "execution_count": 13,
     "metadata": {},
     "output_type": "execute_result"
    },
    {
     "data": {
      "image/png": "[encoded data removed]",
      "text/plain": [
       "<Figure size 432x288 with 1 Axes>"
      ]
     },
     "metadata": {
      "needs_background": "light"
     },
     "output_type": "display_data"
    }
   ],
   "source": [
    "import matplotlib.pyplot as plt\n",
    "\n",
    "#Creamos una data\n",
    "\n",
    "x = [1, 3, 4, 7, 8, 9]\n",
    "y = [0, 3, 6, 9, 7, 8] \n",
    "\n",
    "#Graficamos y Guardamos\n",
    "plt.plot(x, y, color='red')\n",
    "plt.savefig('Grafico1.pdf')\n",
    "plt.close()\n",
    "plt.plot(x, y, color='red', linestyle=':', linewidth=3)"
   ]
  },
  {
   "cell_type": "code",
   "execution_count": 14,
   "metadata": {},
   "outputs": [
    {
     "data": {
      "text/plain": [
       "array([-3.        , -2.94949495, -2.8989899 , -2.84848485, -2.7979798 ,\n",
       "       -2.74747475, -2.6969697 , -2.64646465, -2.5959596 , -2.54545455,\n",
       "       -2.49494949, -2.44444444, -2.39393939, -2.34343434, -2.29292929,\n",
       "       -2.24242424, -2.19191919, -2.14141414, -2.09090909, -2.04040404,\n",
       "       -1.98989899, -1.93939394, -1.88888889, -1.83838384, -1.78787879,\n",
       "       -1.73737374, -1.68686869, -1.63636364, -1.58585859, -1.53535354,\n",
       "       -1.48484848, -1.43434343, -1.38383838, -1.33333333, -1.28282828,\n",
       "       -1.23232323, -1.18181818, -1.13131313, -1.08080808, -1.03030303,\n",
       "       -0.97979798, -0.92929293, -0.87878788, -0.82828283, -0.77777778,\n",
       "       -0.72727273, -0.67676768, -0.62626263, -0.57575758, -0.52525253,\n",
       "       -0.47474747, -0.42424242, -0.37373737, -0.32323232, -0.27272727,\n",
       "       -0.22222222, -0.17171717, -0.12121212, -0.07070707, -0.02020202,\n",
       "        0.03030303,  0.08080808,  0.13131313,  0.18181818,  0.23232323,\n",
       "        0.28282828,  0.33333333,  0.38383838,  0.43434343,  0.48484848,\n",
       "        0.53535354,  0.58585859,  0.63636364,  0.68686869,  0.73737374,\n",
       "        0.78787879,  0.83838384,  0.88888889,  0.93939394,  0.98989899,\n",
       "        1.04040404,  1.09090909,  1.14141414,  1.19191919,  1.24242424,\n",
       "        1.29292929,  1.34343434,  1.39393939,  1.44444444,  1.49494949,\n",
       "        1.54545455,  1.5959596 ,  1.64646465,  1.6969697 ,  1.74747475,\n",
       "        1.7979798 ,  1.84848485,  1.8989899 ,  1.94949495,  2.        ])"
      ]
     },
     "execution_count": 14,
     "metadata": {},
     "output_type": "execute_result"
    }
   ],
   "source": [
    "import scipy.stats as stats\n",
    "import numpy as np\n",
    "import matplotlib.pyplot as plt\n",
    "\n",
    "#Función Cuadrática\n",
    "#Creamos un array con 100 elementos equidistantes de -3 a 2\n",
    "x1 = np.linspace(-3, 2, num=100)\n",
    "x1"
   ]
  },
  {
   "cell_type": "code",
   "execution_count": 15,
   "metadata": {
    "scrolled": true
   },
   "outputs": [
    {
     "data": {
      "text/plain": [
       "array([9.00000000e+00, 8.69952046e+00, 8.40414243e+00, 8.11386593e+00,\n",
       "       7.82869095e+00, 7.54861749e+00, 7.27364555e+00, 7.00377512e+00,\n",
       "       6.73900622e+00, 6.47933884e+00, 6.22477298e+00, 5.97530864e+00,\n",
       "       5.73094582e+00, 5.49168452e+00, 5.25752474e+00, 5.02846648e+00,\n",
       "       4.80450974e+00, 4.58565453e+00, 4.37190083e+00, 4.16324865e+00,\n",
       "       3.95969799e+00, 3.76124885e+00, 3.56790123e+00, 3.37965514e+00,\n",
       "       3.19651056e+00, 3.01846750e+00, 2.84552597e+00, 2.67768595e+00,\n",
       "       2.51494745e+00, 2.35731048e+00, 2.20477502e+00, 2.05734109e+00,\n",
       "       1.91500867e+00, 1.77777778e+00, 1.64564840e+00, 1.51862055e+00,\n",
       "       1.39669421e+00, 1.27986940e+00, 1.16814611e+00, 1.06152433e+00,\n",
       "       9.60004081e-01, 8.63585348e-01, 7.72268136e-01, 6.86052444e-01,\n",
       "       6.04938272e-01, 5.28925620e-01, 4.58014488e-01, 3.92204877e-01,\n",
       "       3.31496786e-01, 2.75890215e-01, 2.25385165e-01, 1.79981635e-01,\n",
       "       1.39679625e-01, 1.04479135e-01, 7.43801653e-02, 4.93827160e-02,\n",
       "       2.94867871e-02, 1.46923783e-02, 4.99948985e-03, 4.08121620e-04,\n",
       "       9.18273646e-04, 6.52994592e-03, 1.72431385e-02, 3.30578512e-02,\n",
       "       5.39740843e-02, 7.99918376e-02, 1.11111111e-01, 1.47331905e-01,\n",
       "       1.88654219e-01, 2.35078053e-01, 2.86603408e-01, 3.43230283e-01,\n",
       "       4.04958678e-01, 4.71788593e-01, 5.43720029e-01, 6.20752984e-01,\n",
       "       7.02887460e-01, 7.90123457e-01, 8.82460973e-01, 9.79900010e-01,\n",
       "       1.08244057e+00, 1.19008264e+00, 1.30282624e+00, 1.42067136e+00,\n",
       "       1.54361800e+00, 1.67166616e+00, 1.80481584e+00, 1.94306703e+00,\n",
       "       2.08641975e+00, 2.23487399e+00, 2.38842975e+00, 2.54708703e+00,\n",
       "       2.71084583e+00, 2.87970615e+00, 3.05366799e+00, 3.23273135e+00,\n",
       "       3.41689624e+00, 3.60616264e+00, 3.80053056e+00, 4.00000000e+00])"
      ]
     },
     "execution_count": 15,
     "metadata": {},
     "output_type": "execute_result"
    }
   ],
   "source": [
    "y1 = x1**2\n",
    "y1"
   ]
  },
  {
   "cell_type": "code",
   "execution_count": 5,
   "metadata": {},
   "outputs": [],
   "source": [
    "#Graficamos X y Y\n",
    "plt.plot(x1, y1, linestyle='-', color='green')\n",
    "plt.savefig('Grafico2.pdf')\n",
    "plt.close()"
   ]
  },
  {
   "cell_type": "code",
   "execution_count": 6,
   "metadata": {},
   "outputs": [
    {
     "data": {
      "text/plain": [
       "[<matplotlib.lines.Line2D at 0x2a41f2b25c8>]"
      ]
     },
     "execution_count": 6,
     "metadata": {},
     "output_type": "execute_result"
    },
    {
     "data": {
      "image/png": "[encoded data removed]",
      "text/plain": [
       "<Figure size 432x288 with 1 Axes>"
      ]
     },
     "metadata": {
      "needs_background": "light"
     },
     "output_type": "display_data"
    }
   ],
   "source": [
    "#Densidad Normal\n",
    "x2 = np.linspace(-4,4, num=100)\n",
    "y2 = stats.norm.pdf(x2)\n",
    "\n",
    "plt.plot(x2, y2, linestyle='-', color='blue')\n",
    "plt.savefig('Grafico3.pdf')\n",
    "plt.plot(x2, y2, linestyle='-', color='blue')"
   ]
  },
  {
   "cell_type": "code",
   "execution_count": 17,
   "metadata": {},
   "outputs": [
    {
     "data": {
      "text/plain": [
       "<matplotlib.legend.Legend at 0x2a42077cc48>"
      ]
     },
     "execution_count": 17,
     "metadata": {},
     "output_type": "execute_result"
    },
    {
     "data": {
      "image/png": "[encoded data removed]",
      "text/plain": [
       "<Figure size 432x288 with 1 Axes>"
      ]
     },
     "metadata": {
      "needs_background": "light"
     },
     "output_type": "display_data"
    }
   ],
   "source": [
    "#Juntando Diferentes Gráficos\n",
    "\n",
    "import scipy.stats as stats\n",
    "import numpy as np\n",
    "import matplotlib.pyplot as plt\n",
    "\n",
    "\n",
    "#Densidad Normal\n",
    "x = np.linspace(-4, 4, num=100)\n",
    "y1 = stats.norm.pdf(x, 0, 1)\n",
    "y2 = stats.norm.pdf(x, 1, 0.5)\n",
    "y3 = stats.norm.pdf(x, 0, 2)\n",
    "\n",
    "#Gráfico\n",
    "plt.plot(x, y1, linestyle='-', color='black', label ='normal standar')\n",
    "plt.plot(x, y2, linestyle='--', color='red', label ='mu=1, sigma = 0.5')\n",
    "plt.plot(x, y3, linestyle=':', color='blue', label ='$\\mu = 0, \\sigma = 2$')\n",
    "plt.xlim(-3,4)\n",
    "plt.title('Densidad Normal')\n",
    "plt.ylabel('$\\phi(x)$')\n",
    "plt.xlabel('x')\n",
    "plt.legend()"
   ]
  },
  {
   "cell_type": "markdown",
   "metadata": {},
   "source": [
    "### ESTADISTICA DESCRIPTIVA"
   ]
  },
  {
   "cell_type": "markdown",
   "metadata": {},
   "source": [
    "#### 1. Distribuciones Discretas"
   ]
  },
  {
   "cell_type": "code",
   "execution_count": 1,
   "metadata": {},
   "outputs": [
    {
     "name": "stdout",
     "output_type": "stream",
     "text": [
      "name of dataset: affairs\n",
      "no of variables: 19\n",
      "no of observations: 601\n",
      "\n",
      "+----------+------------------------------------------------------------------------------+\n",
      "| variable | label                                                                        |\n",
      "+----------+------------------------------------------------------------------------------+\n",
      "| id       | identifier                                                                   |\n",
      "| male     | =1 if male                                                                   |\n",
      "| age      | in years                                                                     |\n",
      "| yrsmarr  | years married                                                                |\n",
      "| kids     | =1 if have kids                                                              |\n",
      "| relig    | 5 = very relig., 4 = somewhat, 3 = slightly, 2 = not at all, 1 = anti        |\n",
      "| educ     | years schooling                                                              |\n",
      "| occup    | occupation, reverse Hollingshead scale                                       |\n",
      "| ratemarr | 5 = vry hap marr, 4 = hap than avg, 3 = avg, 2 = smewht unhap, 1 = vry unhap |\n",
      "| naffairs | number of affairs within last year                                           |\n",
      "| affair   | =1 if had at least one affair                                                |\n",
      "| vryhap   | ratemarr == 5                                                                |\n",
      "| hapavg   | ratemarr == 4                                                                |\n",
      "| avgmarr  | ratemarr == 3                                                                |\n",
      "| unhap    | ratemarr == 2                                                                |\n",
      "| vryrel   | relig == 5                                                                   |\n",
      "| smerel   | relig == 4                                                                   |\n",
      "| slghtrel | relig == 3                                                                   |\n",
      "| notrel   | relig == 2                                                                   |\n",
      "+----------+------------------------------------------------------------------------------+\n",
      "\n",
      "R.C. Fair (1978), “A Theory of Extramarital Affairs,” Journal of\n",
      "Political Economy 86, 45-61, 1978. I collected the data from Professor\n",
      "Fair’s web cite at the Yale University Department of Economics. He\n",
      "originally obtained the data from a survey by Psychology Today.\n"
     ]
    }
   ],
   "source": [
    "import wooldridge as woo\n",
    "import numpy as np\n",
    "import pandas as pd\n",
    "\n",
    "woo.dataWoo('affairs', description=True)"
   ]
  },
  {
   "cell_type": "code",
   "execution_count": 5,
   "metadata": {},
   "outputs": [
    {
     "data": {
      "text/html": [
       "<div>\n",
       "<style scoped>\n",
       "    .dataframe tbody tr th:only-of-type {\n",
       "        vertical-align: middle;\n",
       "    }\n",
       "\n",
       "    .dataframe tbody tr th {\n",
       "        vertical-align: top;\n",
       "    }\n",
       "\n",
       "    .dataframe thead th {\n",
       "        text-align: right;\n",
       "    }\n",
       "</style>\n",
       "<table border=\"1\" class=\"dataframe\">\n",
       "  <thead>\n",
       "    <tr style=\"text-align: right;\">\n",
       "      <th></th>\n",
       "      <th>id</th>\n",
       "      <th>male</th>\n",
       "      <th>age</th>\n",
       "      <th>yrsmarr</th>\n",
       "      <th>kids</th>\n",
       "      <th>relig</th>\n",
       "      <th>educ</th>\n",
       "      <th>occup</th>\n",
       "      <th>ratemarr</th>\n",
       "      <th>naffairs</th>\n",
       "      <th>affair</th>\n",
       "      <th>vryhap</th>\n",
       "      <th>hapavg</th>\n",
       "      <th>avgmarr</th>\n",
       "      <th>unhap</th>\n",
       "      <th>vryrel</th>\n",
       "      <th>smerel</th>\n",
       "      <th>slghtrel</th>\n",
       "      <th>notrel</th>\n",
       "    </tr>\n",
       "  </thead>\n",
       "  <tbody>\n",
       "    <tr>\n",
       "      <th>0</th>\n",
       "      <td>4</td>\n",
       "      <td>1</td>\n",
       "      <td>37.0</td>\n",
       "      <td>10.0</td>\n",
       "      <td>0</td>\n",
       "      <td>3</td>\n",
       "      <td>18</td>\n",
       "      <td>7</td>\n",
       "      <td>4</td>\n",
       "      <td>0</td>\n",
       "      <td>0</td>\n",
       "      <td>0</td>\n",
       "      <td>1</td>\n",
       "      <td>0</td>\n",
       "      <td>0</td>\n",
       "      <td>0</td>\n",
       "      <td>0</td>\n",
       "      <td>1</td>\n",
       "      <td>0</td>\n",
       "    </tr>\n",
       "    <tr>\n",
       "      <th>1</th>\n",
       "      <td>5</td>\n",
       "      <td>0</td>\n",
       "      <td>27.0</td>\n",
       "      <td>4.0</td>\n",
       "      <td>0</td>\n",
       "      <td>4</td>\n",
       "      <td>14</td>\n",
       "      <td>6</td>\n",
       "      <td>4</td>\n",
       "      <td>0</td>\n",
       "      <td>0</td>\n",
       "      <td>0</td>\n",
       "      <td>1</td>\n",
       "      <td>0</td>\n",
       "      <td>0</td>\n",
       "      <td>0</td>\n",
       "      <td>1</td>\n",
       "      <td>0</td>\n",
       "      <td>0</td>\n",
       "    </tr>\n",
       "    <tr>\n",
       "      <th>2</th>\n",
       "      <td>6</td>\n",
       "      <td>1</td>\n",
       "      <td>27.0</td>\n",
       "      <td>1.5</td>\n",
       "      <td>0</td>\n",
       "      <td>3</td>\n",
       "      <td>18</td>\n",
       "      <td>4</td>\n",
       "      <td>4</td>\n",
       "      <td>3</td>\n",
       "      <td>1</td>\n",
       "      <td>0</td>\n",
       "      <td>1</td>\n",
       "      <td>0</td>\n",
       "      <td>0</td>\n",
       "      <td>0</td>\n",
       "      <td>0</td>\n",
       "      <td>1</td>\n",
       "      <td>0</td>\n",
       "    </tr>\n",
       "    <tr>\n",
       "      <th>3</th>\n",
       "      <td>11</td>\n",
       "      <td>0</td>\n",
       "      <td>32.0</td>\n",
       "      <td>15.0</td>\n",
       "      <td>1</td>\n",
       "      <td>1</td>\n",
       "      <td>12</td>\n",
       "      <td>1</td>\n",
       "      <td>4</td>\n",
       "      <td>0</td>\n",
       "      <td>0</td>\n",
       "      <td>0</td>\n",
       "      <td>1</td>\n",
       "      <td>0</td>\n",
       "      <td>0</td>\n",
       "      <td>0</td>\n",
       "      <td>0</td>\n",
       "      <td>0</td>\n",
       "      <td>0</td>\n",
       "    </tr>\n",
       "    <tr>\n",
       "      <th>4</th>\n",
       "      <td>12</td>\n",
       "      <td>0</td>\n",
       "      <td>27.0</td>\n",
       "      <td>4.0</td>\n",
       "      <td>1</td>\n",
       "      <td>3</td>\n",
       "      <td>17</td>\n",
       "      <td>1</td>\n",
       "      <td>5</td>\n",
       "      <td>3</td>\n",
       "      <td>1</td>\n",
       "      <td>1</td>\n",
       "      <td>0</td>\n",
       "      <td>0</td>\n",
       "      <td>0</td>\n",
       "      <td>0</td>\n",
       "      <td>0</td>\n",
       "      <td>1</td>\n",
       "      <td>0</td>\n",
       "    </tr>\n",
       "    <tr>\n",
       "      <th>...</th>\n",
       "      <td>...</td>\n",
       "      <td>...</td>\n",
       "      <td>...</td>\n",
       "      <td>...</td>\n",
       "      <td>...</td>\n",
       "      <td>...</td>\n",
       "      <td>...</td>\n",
       "      <td>...</td>\n",
       "      <td>...</td>\n",
       "      <td>...</td>\n",
       "      <td>...</td>\n",
       "      <td>...</td>\n",
       "      <td>...</td>\n",
       "      <td>...</td>\n",
       "      <td>...</td>\n",
       "      <td>...</td>\n",
       "      <td>...</td>\n",
       "      <td>...</td>\n",
       "      <td>...</td>\n",
       "    </tr>\n",
       "    <tr>\n",
       "      <th>596</th>\n",
       "      <td>9001</td>\n",
       "      <td>1</td>\n",
       "      <td>47.0</td>\n",
       "      <td>15.0</td>\n",
       "      <td>0</td>\n",
       "      <td>4</td>\n",
       "      <td>14</td>\n",
       "      <td>5</td>\n",
       "      <td>4</td>\n",
       "      <td>0</td>\n",
       "      <td>0</td>\n",
       "      <td>0</td>\n",
       "      <td>1</td>\n",
       "      <td>0</td>\n",
       "      <td>0</td>\n",
       "      <td>0</td>\n",
       "      <td>1</td>\n",
       "      <td>0</td>\n",
       "      <td>0</td>\n",
       "    </tr>\n",
       "    <tr>\n",
       "      <th>597</th>\n",
       "      <td>9010</td>\n",
       "      <td>0</td>\n",
       "      <td>32.0</td>\n",
       "      <td>15.0</td>\n",
       "      <td>1</td>\n",
       "      <td>3</td>\n",
       "      <td>14</td>\n",
       "      <td>1</td>\n",
       "      <td>5</td>\n",
       "      <td>1</td>\n",
       "      <td>1</td>\n",
       "      <td>1</td>\n",
       "      <td>0</td>\n",
       "      <td>0</td>\n",
       "      <td>0</td>\n",
       "      <td>0</td>\n",
       "      <td>0</td>\n",
       "      <td>1</td>\n",
       "      <td>0</td>\n",
       "    </tr>\n",
       "    <tr>\n",
       "      <th>598</th>\n",
       "      <td>9012</td>\n",
       "      <td>1</td>\n",
       "      <td>37.0</td>\n",
       "      <td>10.0</td>\n",
       "      <td>1</td>\n",
       "      <td>2</td>\n",
       "      <td>18</td>\n",
       "      <td>6</td>\n",
       "      <td>2</td>\n",
       "      <td>0</td>\n",
       "      <td>0</td>\n",
       "      <td>0</td>\n",
       "      <td>0</td>\n",
       "      <td>0</td>\n",
       "      <td>1</td>\n",
       "      <td>0</td>\n",
       "      <td>0</td>\n",
       "      <td>0</td>\n",
       "      <td>1</td>\n",
       "    </tr>\n",
       "    <tr>\n",
       "      <th>599</th>\n",
       "      <td>9023</td>\n",
       "      <td>1</td>\n",
       "      <td>37.0</td>\n",
       "      <td>15.0</td>\n",
       "      <td>1</td>\n",
       "      <td>3</td>\n",
       "      <td>17</td>\n",
       "      <td>5</td>\n",
       "      <td>4</td>\n",
       "      <td>0</td>\n",
       "      <td>0</td>\n",
       "      <td>0</td>\n",
       "      <td>1</td>\n",
       "      <td>0</td>\n",
       "      <td>0</td>\n",
       "      <td>0</td>\n",
       "      <td>0</td>\n",
       "      <td>1</td>\n",
       "      <td>0</td>\n",
       "    </tr>\n",
       "    <tr>\n",
       "      <th>600</th>\n",
       "      <td>9029</td>\n",
       "      <td>0</td>\n",
       "      <td>27.0</td>\n",
       "      <td>4.0</td>\n",
       "      <td>1</td>\n",
       "      <td>2</td>\n",
       "      <td>16</td>\n",
       "      <td>1</td>\n",
       "      <td>4</td>\n",
       "      <td>0</td>\n",
       "      <td>0</td>\n",
       "      <td>0</td>\n",
       "      <td>1</td>\n",
       "      <td>0</td>\n",
       "      <td>0</td>\n",
       "      <td>0</td>\n",
       "      <td>0</td>\n",
       "      <td>0</td>\n",
       "      <td>1</td>\n",
       "    </tr>\n",
       "  </tbody>\n",
       "</table>\n",
       "<p>601 rows × 19 columns</p>\n",
       "</div>"
      ],
      "text/plain": [
       "       id  male   age  yrsmarr  kids  relig  educ  occup  ratemarr  naffairs  \\\n",
       "0       4     1  37.0     10.0     0      3    18      7         4         0   \n",
       "1       5     0  27.0      4.0     0      4    14      6         4         0   \n",
       "2       6     1  27.0      1.5     0      3    18      4         4         3   \n",
       "3      11     0  32.0     15.0     1      1    12      1         4         0   \n",
       "4      12     0  27.0      4.0     1      3    17      1         5         3   \n",
       "..    ...   ...   ...      ...   ...    ...   ...    ...       ...       ...   \n",
       "596  9001     1  47.0     15.0     0      4    14      5         4         0   \n",
       "597  9010     0  32.0     15.0     1      3    14      1         5         1   \n",
       "598  9012     1  37.0     10.0     1      2    18      6         2         0   \n",
       "599  9023     1  37.0     15.0     1      3    17      5         4         0   \n",
       "600  9029     0  27.0      4.0     1      2    16      1         4         0   \n",
       "\n",
       "     affair  vryhap  hapavg  avgmarr  unhap  vryrel  smerel  slghtrel  notrel  \n",
       "0         0       0       1        0      0       0       0         1       0  \n",
       "1         0       0       1        0      0       0       1         0       0  \n",
       "2         1       0       1        0      0       0       0         1       0  \n",
       "3         0       0       1        0      0       0       0         0       0  \n",
       "4         1       1       0        0      0       0       0         1       0  \n",
       "..      ...     ...     ...      ...    ...     ...     ...       ...     ...  \n",
       "596       0       0       1        0      0       0       1         0       0  \n",
       "597       1       1       0        0      0       0       0         1       0  \n",
       "598       0       0       0        0      1       0       0         0       1  \n",
       "599       0       0       1        0      0       0       0         1       0  \n",
       "600       0       0       1        0      0       0       0         0       1  \n",
       "\n",
       "[601 rows x 19 columns]"
      ]
     },
     "execution_count": 5,
     "metadata": {},
     "output_type": "execute_result"
    }
   ],
   "source": [
    "affairs = woo.dataWoo('affairs')\n",
    "affairs"
   ]
  },
  {
   "cell_type": "code",
   "execution_count": 6,
   "metadata": {},
   "outputs": [
    {
     "data": {
      "text/plain": [
       "0      4\n",
       "1      4\n",
       "2      4\n",
       "3      4\n",
       "4      5\n",
       "      ..\n",
       "596    4\n",
       "597    5\n",
       "598    2\n",
       "599    4\n",
       "600    4\n",
       "Name: ratemarr, Length: 601, dtype: int64"
      ]
     },
     "execution_count": 6,
     "metadata": {},
     "output_type": "execute_result"
    }
   ],
   "source": [
    "affairs['ratemarr']"
   ]
  },
  {
   "cell_type": "code",
   "execution_count": 7,
   "metadata": {},
   "outputs": [],
   "source": [
    "#Adjustamos el código, para que la categoria comience en 0 hasta 4\n",
    "affairs['ratemarr'] = affairs['ratemarr']-1"
   ]
  },
  {
   "cell_type": "code",
   "execution_count": 8,
   "metadata": {},
   "outputs": [
    {
     "data": {
      "text/plain": [
       "0      3\n",
       "1      3\n",
       "2      3\n",
       "3      3\n",
       "4      4\n",
       "      ..\n",
       "596    3\n",
       "597    4\n",
       "598    1\n",
       "599    3\n",
       "600    3\n",
       "Name: ratemarr, Length: 601, dtype: int64"
      ]
     },
     "execution_count": 8,
     "metadata": {},
     "output_type": "execute_result"
    }
   ],
   "source": [
    "affairs['ratemarr']"
   ]
  },
  {
   "cell_type": "code",
   "execution_count": 9,
   "metadata": {},
   "outputs": [
    {
     "data": {
      "text/html": [
       "<div>\n",
       "<style scoped>\n",
       "    .dataframe tbody tr th:only-of-type {\n",
       "        vertical-align: middle;\n",
       "    }\n",
       "\n",
       "    .dataframe tbody tr th {\n",
       "        vertical-align: top;\n",
       "    }\n",
       "\n",
       "    .dataframe thead th {\n",
       "        text-align: right;\n",
       "    }\n",
       "</style>\n",
       "<table border=\"1\" class=\"dataframe\">\n",
       "  <thead>\n",
       "    <tr style=\"text-align: right;\">\n",
       "      <th></th>\n",
       "      <th>id</th>\n",
       "      <th>male</th>\n",
       "      <th>age</th>\n",
       "      <th>yrsmarr</th>\n",
       "      <th>kids</th>\n",
       "      <th>relig</th>\n",
       "      <th>educ</th>\n",
       "      <th>occup</th>\n",
       "      <th>ratemarr</th>\n",
       "      <th>naffairs</th>\n",
       "      <th>affair</th>\n",
       "      <th>vryhap</th>\n",
       "      <th>hapavg</th>\n",
       "      <th>avgmarr</th>\n",
       "      <th>unhap</th>\n",
       "      <th>vryrel</th>\n",
       "      <th>smerel</th>\n",
       "      <th>slghtrel</th>\n",
       "      <th>notrel</th>\n",
       "    </tr>\n",
       "  </thead>\n",
       "  <tbody>\n",
       "    <tr>\n",
       "      <th>0</th>\n",
       "      <td>4</td>\n",
       "      <td>1</td>\n",
       "      <td>37.0</td>\n",
       "      <td>10.0</td>\n",
       "      <td>0</td>\n",
       "      <td>3</td>\n",
       "      <td>18</td>\n",
       "      <td>7</td>\n",
       "      <td>3</td>\n",
       "      <td>0</td>\n",
       "      <td>0</td>\n",
       "      <td>0</td>\n",
       "      <td>1</td>\n",
       "      <td>0</td>\n",
       "      <td>0</td>\n",
       "      <td>0</td>\n",
       "      <td>0</td>\n",
       "      <td>1</td>\n",
       "      <td>0</td>\n",
       "    </tr>\n",
       "    <tr>\n",
       "      <th>1</th>\n",
       "      <td>5</td>\n",
       "      <td>0</td>\n",
       "      <td>27.0</td>\n",
       "      <td>4.0</td>\n",
       "      <td>0</td>\n",
       "      <td>4</td>\n",
       "      <td>14</td>\n",
       "      <td>6</td>\n",
       "      <td>3</td>\n",
       "      <td>0</td>\n",
       "      <td>0</td>\n",
       "      <td>0</td>\n",
       "      <td>1</td>\n",
       "      <td>0</td>\n",
       "      <td>0</td>\n",
       "      <td>0</td>\n",
       "      <td>1</td>\n",
       "      <td>0</td>\n",
       "      <td>0</td>\n",
       "    </tr>\n",
       "    <tr>\n",
       "      <th>2</th>\n",
       "      <td>6</td>\n",
       "      <td>1</td>\n",
       "      <td>27.0</td>\n",
       "      <td>1.5</td>\n",
       "      <td>0</td>\n",
       "      <td>3</td>\n",
       "      <td>18</td>\n",
       "      <td>4</td>\n",
       "      <td>3</td>\n",
       "      <td>3</td>\n",
       "      <td>1</td>\n",
       "      <td>0</td>\n",
       "      <td>1</td>\n",
       "      <td>0</td>\n",
       "      <td>0</td>\n",
       "      <td>0</td>\n",
       "      <td>0</td>\n",
       "      <td>1</td>\n",
       "      <td>0</td>\n",
       "    </tr>\n",
       "    <tr>\n",
       "      <th>3</th>\n",
       "      <td>11</td>\n",
       "      <td>0</td>\n",
       "      <td>32.0</td>\n",
       "      <td>15.0</td>\n",
       "      <td>1</td>\n",
       "      <td>1</td>\n",
       "      <td>12</td>\n",
       "      <td>1</td>\n",
       "      <td>3</td>\n",
       "      <td>0</td>\n",
       "      <td>0</td>\n",
       "      <td>0</td>\n",
       "      <td>1</td>\n",
       "      <td>0</td>\n",
       "      <td>0</td>\n",
       "      <td>0</td>\n",
       "      <td>0</td>\n",
       "      <td>0</td>\n",
       "      <td>0</td>\n",
       "    </tr>\n",
       "    <tr>\n",
       "      <th>4</th>\n",
       "      <td>12</td>\n",
       "      <td>0</td>\n",
       "      <td>27.0</td>\n",
       "      <td>4.0</td>\n",
       "      <td>1</td>\n",
       "      <td>3</td>\n",
       "      <td>17</td>\n",
       "      <td>1</td>\n",
       "      <td>4</td>\n",
       "      <td>3</td>\n",
       "      <td>1</td>\n",
       "      <td>1</td>\n",
       "      <td>0</td>\n",
       "      <td>0</td>\n",
       "      <td>0</td>\n",
       "      <td>0</td>\n",
       "      <td>0</td>\n",
       "      <td>1</td>\n",
       "      <td>0</td>\n",
       "    </tr>\n",
       "    <tr>\n",
       "      <th>...</th>\n",
       "      <td>...</td>\n",
       "      <td>...</td>\n",
       "      <td>...</td>\n",
       "      <td>...</td>\n",
       "      <td>...</td>\n",
       "      <td>...</td>\n",
       "      <td>...</td>\n",
       "      <td>...</td>\n",
       "      <td>...</td>\n",
       "      <td>...</td>\n",
       "      <td>...</td>\n",
       "      <td>...</td>\n",
       "      <td>...</td>\n",
       "      <td>...</td>\n",
       "      <td>...</td>\n",
       "      <td>...</td>\n",
       "      <td>...</td>\n",
       "      <td>...</td>\n",
       "      <td>...</td>\n",
       "    </tr>\n",
       "    <tr>\n",
       "      <th>596</th>\n",
       "      <td>9001</td>\n",
       "      <td>1</td>\n",
       "      <td>47.0</td>\n",
       "      <td>15.0</td>\n",
       "      <td>0</td>\n",
       "      <td>4</td>\n",
       "      <td>14</td>\n",
       "      <td>5</td>\n",
       "      <td>3</td>\n",
       "      <td>0</td>\n",
       "      <td>0</td>\n",
       "      <td>0</td>\n",
       "      <td>1</td>\n",
       "      <td>0</td>\n",
       "      <td>0</td>\n",
       "      <td>0</td>\n",
       "      <td>1</td>\n",
       "      <td>0</td>\n",
       "      <td>0</td>\n",
       "    </tr>\n",
       "    <tr>\n",
       "      <th>597</th>\n",
       "      <td>9010</td>\n",
       "      <td>0</td>\n",
       "      <td>32.0</td>\n",
       "      <td>15.0</td>\n",
       "      <td>1</td>\n",
       "      <td>3</td>\n",
       "      <td>14</td>\n",
       "      <td>1</td>\n",
       "      <td>4</td>\n",
       "      <td>1</td>\n",
       "      <td>1</td>\n",
       "      <td>1</td>\n",
       "      <td>0</td>\n",
       "      <td>0</td>\n",
       "      <td>0</td>\n",
       "      <td>0</td>\n",
       "      <td>0</td>\n",
       "      <td>1</td>\n",
       "      <td>0</td>\n",
       "    </tr>\n",
       "    <tr>\n",
       "      <th>598</th>\n",
       "      <td>9012</td>\n",
       "      <td>1</td>\n",
       "      <td>37.0</td>\n",
       "      <td>10.0</td>\n",
       "      <td>1</td>\n",
       "      <td>2</td>\n",
       "      <td>18</td>\n",
       "      <td>6</td>\n",
       "      <td>1</td>\n",
       "      <td>0</td>\n",
       "      <td>0</td>\n",
       "      <td>0</td>\n",
       "      <td>0</td>\n",
       "      <td>0</td>\n",
       "      <td>1</td>\n",
       "      <td>0</td>\n",
       "      <td>0</td>\n",
       "      <td>0</td>\n",
       "      <td>1</td>\n",
       "    </tr>\n",
       "    <tr>\n",
       "      <th>599</th>\n",
       "      <td>9023</td>\n",
       "      <td>1</td>\n",
       "      <td>37.0</td>\n",
       "      <td>15.0</td>\n",
       "      <td>1</td>\n",
       "      <td>3</td>\n",
       "      <td>17</td>\n",
       "      <td>5</td>\n",
       "      <td>3</td>\n",
       "      <td>0</td>\n",
       "      <td>0</td>\n",
       "      <td>0</td>\n",
       "      <td>1</td>\n",
       "      <td>0</td>\n",
       "      <td>0</td>\n",
       "      <td>0</td>\n",
       "      <td>0</td>\n",
       "      <td>1</td>\n",
       "      <td>0</td>\n",
       "    </tr>\n",
       "    <tr>\n",
       "      <th>600</th>\n",
       "      <td>9029</td>\n",
       "      <td>0</td>\n",
       "      <td>27.0</td>\n",
       "      <td>4.0</td>\n",
       "      <td>1</td>\n",
       "      <td>2</td>\n",
       "      <td>16</td>\n",
       "      <td>1</td>\n",
       "      <td>3</td>\n",
       "      <td>0</td>\n",
       "      <td>0</td>\n",
       "      <td>0</td>\n",
       "      <td>1</td>\n",
       "      <td>0</td>\n",
       "      <td>0</td>\n",
       "      <td>0</td>\n",
       "      <td>0</td>\n",
       "      <td>0</td>\n",
       "      <td>1</td>\n",
       "    </tr>\n",
       "  </tbody>\n",
       "</table>\n",
       "<p>601 rows × 19 columns</p>\n",
       "</div>"
      ],
      "text/plain": [
       "       id  male   age  yrsmarr  kids  relig  educ  occup  ratemarr  naffairs  \\\n",
       "0       4     1  37.0     10.0     0      3    18      7         3         0   \n",
       "1       5     0  27.0      4.0     0      4    14      6         3         0   \n",
       "2       6     1  27.0      1.5     0      3    18      4         3         3   \n",
       "3      11     0  32.0     15.0     1      1    12      1         3         0   \n",
       "4      12     0  27.0      4.0     1      3    17      1         4         3   \n",
       "..    ...   ...   ...      ...   ...    ...   ...    ...       ...       ...   \n",
       "596  9001     1  47.0     15.0     0      4    14      5         3         0   \n",
       "597  9010     0  32.0     15.0     1      3    14      1         4         1   \n",
       "598  9012     1  37.0     10.0     1      2    18      6         1         0   \n",
       "599  9023     1  37.0     15.0     1      3    17      5         3         0   \n",
       "600  9029     0  27.0      4.0     1      2    16      1         3         0   \n",
       "\n",
       "     affair  vryhap  hapavg  avgmarr  unhap  vryrel  smerel  slghtrel  notrel  \n",
       "0         0       0       1        0      0       0       0         1       0  \n",
       "1         0       0       1        0      0       0       1         0       0  \n",
       "2         1       0       1        0      0       0       0         1       0  \n",
       "3         0       0       1        0      0       0       0         0       0  \n",
       "4         1       1       0        0      0       0       0         1       0  \n",
       "..      ...     ...     ...      ...    ...     ...     ...       ...     ...  \n",
       "596       0       0       1        0      0       0       1         0       0  \n",
       "597       1       1       0        0      0       0       0         1       0  \n",
       "598       0       0       0        0      1       0       0         0       1  \n",
       "599       0       0       1        0      0       0       0         1       0  \n",
       "600       0       0       1        0      0       0       0         0       1  \n",
       "\n",
       "[601 rows x 19 columns]"
      ]
     },
     "execution_count": 9,
     "metadata": {},
     "output_type": "execute_result"
    }
   ],
   "source": [
    "affairs"
   ]
  },
  {
   "cell_type": "code",
   "execution_count": 10,
   "metadata": {},
   "outputs": [],
   "source": [
    "#Usamos pandas.Categorical para adjuntar etiquetas para 'haskids'\n",
    "affairs['haskids'] = pd.Categorical.from_codes(affairs['kids'], categories=['no','si'])"
   ]
  },
  {
   "cell_type": "code",
   "execution_count": 11,
   "metadata": {},
   "outputs": [
    {
     "data": {
      "text/html": [
       "<div>\n",
       "<style scoped>\n",
       "    .dataframe tbody tr th:only-of-type {\n",
       "        vertical-align: middle;\n",
       "    }\n",
       "\n",
       "    .dataframe tbody tr th {\n",
       "        vertical-align: top;\n",
       "    }\n",
       "\n",
       "    .dataframe thead th {\n",
       "        text-align: right;\n",
       "    }\n",
       "</style>\n",
       "<table border=\"1\" class=\"dataframe\">\n",
       "  <thead>\n",
       "    <tr style=\"text-align: right;\">\n",
       "      <th></th>\n",
       "      <th>id</th>\n",
       "      <th>male</th>\n",
       "      <th>age</th>\n",
       "      <th>yrsmarr</th>\n",
       "      <th>kids</th>\n",
       "      <th>relig</th>\n",
       "      <th>educ</th>\n",
       "      <th>occup</th>\n",
       "      <th>ratemarr</th>\n",
       "      <th>naffairs</th>\n",
       "      <th>affair</th>\n",
       "      <th>vryhap</th>\n",
       "      <th>hapavg</th>\n",
       "      <th>avgmarr</th>\n",
       "      <th>unhap</th>\n",
       "      <th>vryrel</th>\n",
       "      <th>smerel</th>\n",
       "      <th>slghtrel</th>\n",
       "      <th>notrel</th>\n",
       "      <th>haskids</th>\n",
       "    </tr>\n",
       "  </thead>\n",
       "  <tbody>\n",
       "    <tr>\n",
       "      <th>0</th>\n",
       "      <td>4</td>\n",
       "      <td>1</td>\n",
       "      <td>37.0</td>\n",
       "      <td>10.0</td>\n",
       "      <td>0</td>\n",
       "      <td>3</td>\n",
       "      <td>18</td>\n",
       "      <td>7</td>\n",
       "      <td>3</td>\n",
       "      <td>0</td>\n",
       "      <td>0</td>\n",
       "      <td>0</td>\n",
       "      <td>1</td>\n",
       "      <td>0</td>\n",
       "      <td>0</td>\n",
       "      <td>0</td>\n",
       "      <td>0</td>\n",
       "      <td>1</td>\n",
       "      <td>0</td>\n",
       "      <td>no</td>\n",
       "    </tr>\n",
       "    <tr>\n",
       "      <th>1</th>\n",
       "      <td>5</td>\n",
       "      <td>0</td>\n",
       "      <td>27.0</td>\n",
       "      <td>4.0</td>\n",
       "      <td>0</td>\n",
       "      <td>4</td>\n",
       "      <td>14</td>\n",
       "      <td>6</td>\n",
       "      <td>3</td>\n",
       "      <td>0</td>\n",
       "      <td>0</td>\n",
       "      <td>0</td>\n",
       "      <td>1</td>\n",
       "      <td>0</td>\n",
       "      <td>0</td>\n",
       "      <td>0</td>\n",
       "      <td>1</td>\n",
       "      <td>0</td>\n",
       "      <td>0</td>\n",
       "      <td>no</td>\n",
       "    </tr>\n",
       "    <tr>\n",
       "      <th>2</th>\n",
       "      <td>6</td>\n",
       "      <td>1</td>\n",
       "      <td>27.0</td>\n",
       "      <td>1.5</td>\n",
       "      <td>0</td>\n",
       "      <td>3</td>\n",
       "      <td>18</td>\n",
       "      <td>4</td>\n",
       "      <td>3</td>\n",
       "      <td>3</td>\n",
       "      <td>1</td>\n",
       "      <td>0</td>\n",
       "      <td>1</td>\n",
       "      <td>0</td>\n",
       "      <td>0</td>\n",
       "      <td>0</td>\n",
       "      <td>0</td>\n",
       "      <td>1</td>\n",
       "      <td>0</td>\n",
       "      <td>no</td>\n",
       "    </tr>\n",
       "    <tr>\n",
       "      <th>3</th>\n",
       "      <td>11</td>\n",
       "      <td>0</td>\n",
       "      <td>32.0</td>\n",
       "      <td>15.0</td>\n",
       "      <td>1</td>\n",
       "      <td>1</td>\n",
       "      <td>12</td>\n",
       "      <td>1</td>\n",
       "      <td>3</td>\n",
       "      <td>0</td>\n",
       "      <td>0</td>\n",
       "      <td>0</td>\n",
       "      <td>1</td>\n",
       "      <td>0</td>\n",
       "      <td>0</td>\n",
       "      <td>0</td>\n",
       "      <td>0</td>\n",
       "      <td>0</td>\n",
       "      <td>0</td>\n",
       "      <td>si</td>\n",
       "    </tr>\n",
       "    <tr>\n",
       "      <th>4</th>\n",
       "      <td>12</td>\n",
       "      <td>0</td>\n",
       "      <td>27.0</td>\n",
       "      <td>4.0</td>\n",
       "      <td>1</td>\n",
       "      <td>3</td>\n",
       "      <td>17</td>\n",
       "      <td>1</td>\n",
       "      <td>4</td>\n",
       "      <td>3</td>\n",
       "      <td>1</td>\n",
       "      <td>1</td>\n",
       "      <td>0</td>\n",
       "      <td>0</td>\n",
       "      <td>0</td>\n",
       "      <td>0</td>\n",
       "      <td>0</td>\n",
       "      <td>1</td>\n",
       "      <td>0</td>\n",
       "      <td>si</td>\n",
       "    </tr>\n",
       "    <tr>\n",
       "      <th>...</th>\n",
       "      <td>...</td>\n",
       "      <td>...</td>\n",
       "      <td>...</td>\n",
       "      <td>...</td>\n",
       "      <td>...</td>\n",
       "      <td>...</td>\n",
       "      <td>...</td>\n",
       "      <td>...</td>\n",
       "      <td>...</td>\n",
       "      <td>...</td>\n",
       "      <td>...</td>\n",
       "      <td>...</td>\n",
       "      <td>...</td>\n",
       "      <td>...</td>\n",
       "      <td>...</td>\n",
       "      <td>...</td>\n",
       "      <td>...</td>\n",
       "      <td>...</td>\n",
       "      <td>...</td>\n",
       "      <td>...</td>\n",
       "    </tr>\n",
       "    <tr>\n",
       "      <th>596</th>\n",
       "      <td>9001</td>\n",
       "      <td>1</td>\n",
       "      <td>47.0</td>\n",
       "      <td>15.0</td>\n",
       "      <td>0</td>\n",
       "      <td>4</td>\n",
       "      <td>14</td>\n",
       "      <td>5</td>\n",
       "      <td>3</td>\n",
       "      <td>0</td>\n",
       "      <td>0</td>\n",
       "      <td>0</td>\n",
       "      <td>1</td>\n",
       "      <td>0</td>\n",
       "      <td>0</td>\n",
       "      <td>0</td>\n",
       "      <td>1</td>\n",
       "      <td>0</td>\n",
       "      <td>0</td>\n",
       "      <td>no</td>\n",
       "    </tr>\n",
       "    <tr>\n",
       "      <th>597</th>\n",
       "      <td>9010</td>\n",
       "      <td>0</td>\n",
       "      <td>32.0</td>\n",
       "      <td>15.0</td>\n",
       "      <td>1</td>\n",
       "      <td>3</td>\n",
       "      <td>14</td>\n",
       "      <td>1</td>\n",
       "      <td>4</td>\n",
       "      <td>1</td>\n",
       "      <td>1</td>\n",
       "      <td>1</td>\n",
       "      <td>0</td>\n",
       "      <td>0</td>\n",
       "      <td>0</td>\n",
       "      <td>0</td>\n",
       "      <td>0</td>\n",
       "      <td>1</td>\n",
       "      <td>0</td>\n",
       "      <td>si</td>\n",
       "    </tr>\n",
       "    <tr>\n",
       "      <th>598</th>\n",
       "      <td>9012</td>\n",
       "      <td>1</td>\n",
       "      <td>37.0</td>\n",
       "      <td>10.0</td>\n",
       "      <td>1</td>\n",
       "      <td>2</td>\n",
       "      <td>18</td>\n",
       "      <td>6</td>\n",
       "      <td>1</td>\n",
       "      <td>0</td>\n",
       "      <td>0</td>\n",
       "      <td>0</td>\n",
       "      <td>0</td>\n",
       "      <td>0</td>\n",
       "      <td>1</td>\n",
       "      <td>0</td>\n",
       "      <td>0</td>\n",
       "      <td>0</td>\n",
       "      <td>1</td>\n",
       "      <td>si</td>\n",
       "    </tr>\n",
       "    <tr>\n",
       "      <th>599</th>\n",
       "      <td>9023</td>\n",
       "      <td>1</td>\n",
       "      <td>37.0</td>\n",
       "      <td>15.0</td>\n",
       "      <td>1</td>\n",
       "      <td>3</td>\n",
       "      <td>17</td>\n",
       "      <td>5</td>\n",
       "      <td>3</td>\n",
       "      <td>0</td>\n",
       "      <td>0</td>\n",
       "      <td>0</td>\n",
       "      <td>1</td>\n",
       "      <td>0</td>\n",
       "      <td>0</td>\n",
       "      <td>0</td>\n",
       "      <td>0</td>\n",
       "      <td>1</td>\n",
       "      <td>0</td>\n",
       "      <td>si</td>\n",
       "    </tr>\n",
       "    <tr>\n",
       "      <th>600</th>\n",
       "      <td>9029</td>\n",
       "      <td>0</td>\n",
       "      <td>27.0</td>\n",
       "      <td>4.0</td>\n",
       "      <td>1</td>\n",
       "      <td>2</td>\n",
       "      <td>16</td>\n",
       "      <td>1</td>\n",
       "      <td>3</td>\n",
       "      <td>0</td>\n",
       "      <td>0</td>\n",
       "      <td>0</td>\n",
       "      <td>1</td>\n",
       "      <td>0</td>\n",
       "      <td>0</td>\n",
       "      <td>0</td>\n",
       "      <td>0</td>\n",
       "      <td>0</td>\n",
       "      <td>1</td>\n",
       "      <td>si</td>\n",
       "    </tr>\n",
       "  </tbody>\n",
       "</table>\n",
       "<p>601 rows × 20 columns</p>\n",
       "</div>"
      ],
      "text/plain": [
       "       id  male   age  yrsmarr  kids  relig  educ  occup  ratemarr  naffairs  \\\n",
       "0       4     1  37.0     10.0     0      3    18      7         3         0   \n",
       "1       5     0  27.0      4.0     0      4    14      6         3         0   \n",
       "2       6     1  27.0      1.5     0      3    18      4         3         3   \n",
       "3      11     0  32.0     15.0     1      1    12      1         3         0   \n",
       "4      12     0  27.0      4.0     1      3    17      1         4         3   \n",
       "..    ...   ...   ...      ...   ...    ...   ...    ...       ...       ...   \n",
       "596  9001     1  47.0     15.0     0      4    14      5         3         0   \n",
       "597  9010     0  32.0     15.0     1      3    14      1         4         1   \n",
       "598  9012     1  37.0     10.0     1      2    18      6         1         0   \n",
       "599  9023     1  37.0     15.0     1      3    17      5         3         0   \n",
       "600  9029     0  27.0      4.0     1      2    16      1         3         0   \n",
       "\n",
       "     affair  vryhap  hapavg  avgmarr  unhap  vryrel  smerel  slghtrel  notrel  \\\n",
       "0         0       0       1        0      0       0       0         1       0   \n",
       "1         0       0       1        0      0       0       1         0       0   \n",
       "2         1       0       1        0      0       0       0         1       0   \n",
       "3         0       0       1        0      0       0       0         0       0   \n",
       "4         1       1       0        0      0       0       0         1       0   \n",
       "..      ...     ...     ...      ...    ...     ...     ...       ...     ...   \n",
       "596       0       0       1        0      0       0       1         0       0   \n",
       "597       1       1       0        0      0       0       0         1       0   \n",
       "598       0       0       0        0      1       0       0         0       1   \n",
       "599       0       0       1        0      0       0       0         1       0   \n",
       "600       0       0       1        0      0       0       0         0       1   \n",
       "\n",
       "    haskids  \n",
       "0        no  \n",
       "1        no  \n",
       "2        no  \n",
       "3        si  \n",
       "4        si  \n",
       "..      ...  \n",
       "596      no  \n",
       "597      si  \n",
       "598      si  \n",
       "599      si  \n",
       "600      si  \n",
       "\n",
       "[601 rows x 20 columns]"
      ]
     },
     "execution_count": 11,
     "metadata": {},
     "output_type": "execute_result"
    }
   ],
   "source": [
    "affairs"
   ]
  },
  {
   "cell_type": "code",
   "execution_count": 12,
   "metadata": {},
   "outputs": [],
   "source": [
    "#Categorizamos la variable ratemarr\n",
    "mlab=['very unhappy','unhappy','average','happy','ver happy']\n",
    "affairs['marriage'] = pd.Categorical.from_codes(affairs['ratemarr'], categories=mlab)"
   ]
  },
  {
   "cell_type": "code",
   "execution_count": 16,
   "metadata": {},
   "outputs": [
    {
     "data": {
      "text/html": [
       "<div>\n",
       "<style scoped>\n",
       "    .dataframe tbody tr th:only-of-type {\n",
       "        vertical-align: middle;\n",
       "    }\n",
       "\n",
       "    .dataframe tbody tr th {\n",
       "        vertical-align: top;\n",
       "    }\n",
       "\n",
       "    .dataframe thead th {\n",
       "        text-align: right;\n",
       "    }\n",
       "</style>\n",
       "<table border=\"1\" class=\"dataframe\">\n",
       "  <thead>\n",
       "    <tr style=\"text-align: right;\">\n",
       "      <th></th>\n",
       "      <th>id</th>\n",
       "      <th>male</th>\n",
       "      <th>age</th>\n",
       "      <th>yrsmarr</th>\n",
       "      <th>kids</th>\n",
       "      <th>relig</th>\n",
       "      <th>educ</th>\n",
       "      <th>occup</th>\n",
       "      <th>ratemarr</th>\n",
       "      <th>naffairs</th>\n",
       "      <th>...</th>\n",
       "      <th>vryhap</th>\n",
       "      <th>hapavg</th>\n",
       "      <th>avgmarr</th>\n",
       "      <th>unhap</th>\n",
       "      <th>vryrel</th>\n",
       "      <th>smerel</th>\n",
       "      <th>slghtrel</th>\n",
       "      <th>notrel</th>\n",
       "      <th>haskids</th>\n",
       "      <th>marriage</th>\n",
       "    </tr>\n",
       "  </thead>\n",
       "  <tbody>\n",
       "    <tr>\n",
       "      <th>0</th>\n",
       "      <td>4</td>\n",
       "      <td>1</td>\n",
       "      <td>37.0</td>\n",
       "      <td>10.0</td>\n",
       "      <td>0</td>\n",
       "      <td>3</td>\n",
       "      <td>18</td>\n",
       "      <td>7</td>\n",
       "      <td>3</td>\n",
       "      <td>0</td>\n",
       "      <td>...</td>\n",
       "      <td>0</td>\n",
       "      <td>1</td>\n",
       "      <td>0</td>\n",
       "      <td>0</td>\n",
       "      <td>0</td>\n",
       "      <td>0</td>\n",
       "      <td>1</td>\n",
       "      <td>0</td>\n",
       "      <td>no</td>\n",
       "      <td>happy</td>\n",
       "    </tr>\n",
       "    <tr>\n",
       "      <th>1</th>\n",
       "      <td>5</td>\n",
       "      <td>0</td>\n",
       "      <td>27.0</td>\n",
       "      <td>4.0</td>\n",
       "      <td>0</td>\n",
       "      <td>4</td>\n",
       "      <td>14</td>\n",
       "      <td>6</td>\n",
       "      <td>3</td>\n",
       "      <td>0</td>\n",
       "      <td>...</td>\n",
       "      <td>0</td>\n",
       "      <td>1</td>\n",
       "      <td>0</td>\n",
       "      <td>0</td>\n",
       "      <td>0</td>\n",
       "      <td>1</td>\n",
       "      <td>0</td>\n",
       "      <td>0</td>\n",
       "      <td>no</td>\n",
       "      <td>happy</td>\n",
       "    </tr>\n",
       "    <tr>\n",
       "      <th>2</th>\n",
       "      <td>6</td>\n",
       "      <td>1</td>\n",
       "      <td>27.0</td>\n",
       "      <td>1.5</td>\n",
       "      <td>0</td>\n",
       "      <td>3</td>\n",
       "      <td>18</td>\n",
       "      <td>4</td>\n",
       "      <td>3</td>\n",
       "      <td>3</td>\n",
       "      <td>...</td>\n",
       "      <td>0</td>\n",
       "      <td>1</td>\n",
       "      <td>0</td>\n",
       "      <td>0</td>\n",
       "      <td>0</td>\n",
       "      <td>0</td>\n",
       "      <td>1</td>\n",
       "      <td>0</td>\n",
       "      <td>no</td>\n",
       "      <td>happy</td>\n",
       "    </tr>\n",
       "    <tr>\n",
       "      <th>3</th>\n",
       "      <td>11</td>\n",
       "      <td>0</td>\n",
       "      <td>32.0</td>\n",
       "      <td>15.0</td>\n",
       "      <td>1</td>\n",
       "      <td>1</td>\n",
       "      <td>12</td>\n",
       "      <td>1</td>\n",
       "      <td>3</td>\n",
       "      <td>0</td>\n",
       "      <td>...</td>\n",
       "      <td>0</td>\n",
       "      <td>1</td>\n",
       "      <td>0</td>\n",
       "      <td>0</td>\n",
       "      <td>0</td>\n",
       "      <td>0</td>\n",
       "      <td>0</td>\n",
       "      <td>0</td>\n",
       "      <td>si</td>\n",
       "      <td>happy</td>\n",
       "    </tr>\n",
       "    <tr>\n",
       "      <th>4</th>\n",
       "      <td>12</td>\n",
       "      <td>0</td>\n",
       "      <td>27.0</td>\n",
       "      <td>4.0</td>\n",
       "      <td>1</td>\n",
       "      <td>3</td>\n",
       "      <td>17</td>\n",
       "      <td>1</td>\n",
       "      <td>4</td>\n",
       "      <td>3</td>\n",
       "      <td>...</td>\n",
       "      <td>1</td>\n",
       "      <td>0</td>\n",
       "      <td>0</td>\n",
       "      <td>0</td>\n",
       "      <td>0</td>\n",
       "      <td>0</td>\n",
       "      <td>1</td>\n",
       "      <td>0</td>\n",
       "      <td>si</td>\n",
       "      <td>ver happy</td>\n",
       "    </tr>\n",
       "    <tr>\n",
       "      <th>...</th>\n",
       "      <td>...</td>\n",
       "      <td>...</td>\n",
       "      <td>...</td>\n",
       "      <td>...</td>\n",
       "      <td>...</td>\n",
       "      <td>...</td>\n",
       "      <td>...</td>\n",
       "      <td>...</td>\n",
       "      <td>...</td>\n",
       "      <td>...</td>\n",
       "      <td>...</td>\n",
       "      <td>...</td>\n",
       "      <td>...</td>\n",
       "      <td>...</td>\n",
       "      <td>...</td>\n",
       "      <td>...</td>\n",
       "      <td>...</td>\n",
       "      <td>...</td>\n",
       "      <td>...</td>\n",
       "      <td>...</td>\n",
       "      <td>...</td>\n",
       "    </tr>\n",
       "    <tr>\n",
       "      <th>596</th>\n",
       "      <td>9001</td>\n",
       "      <td>1</td>\n",
       "      <td>47.0</td>\n",
       "      <td>15.0</td>\n",
       "      <td>0</td>\n",
       "      <td>4</td>\n",
       "      <td>14</td>\n",
       "      <td>5</td>\n",
       "      <td>3</td>\n",
       "      <td>0</td>\n",
       "      <td>...</td>\n",
       "      <td>0</td>\n",
       "      <td>1</td>\n",
       "      <td>0</td>\n",
       "      <td>0</td>\n",
       "      <td>0</td>\n",
       "      <td>1</td>\n",
       "      <td>0</td>\n",
       "      <td>0</td>\n",
       "      <td>no</td>\n",
       "      <td>happy</td>\n",
       "    </tr>\n",
       "    <tr>\n",
       "      <th>597</th>\n",
       "      <td>9010</td>\n",
       "      <td>0</td>\n",
       "      <td>32.0</td>\n",
       "      <td>15.0</td>\n",
       "      <td>1</td>\n",
       "      <td>3</td>\n",
       "      <td>14</td>\n",
       "      <td>1</td>\n",
       "      <td>4</td>\n",
       "      <td>1</td>\n",
       "      <td>...</td>\n",
       "      <td>1</td>\n",
       "      <td>0</td>\n",
       "      <td>0</td>\n",
       "      <td>0</td>\n",
       "      <td>0</td>\n",
       "      <td>0</td>\n",
       "      <td>1</td>\n",
       "      <td>0</td>\n",
       "      <td>si</td>\n",
       "      <td>ver happy</td>\n",
       "    </tr>\n",
       "    <tr>\n",
       "      <th>598</th>\n",
       "      <td>9012</td>\n",
       "      <td>1</td>\n",
       "      <td>37.0</td>\n",
       "      <td>10.0</td>\n",
       "      <td>1</td>\n",
       "      <td>2</td>\n",
       "      <td>18</td>\n",
       "      <td>6</td>\n",
       "      <td>1</td>\n",
       "      <td>0</td>\n",
       "      <td>...</td>\n",
       "      <td>0</td>\n",
       "      <td>0</td>\n",
       "      <td>0</td>\n",
       "      <td>1</td>\n",
       "      <td>0</td>\n",
       "      <td>0</td>\n",
       "      <td>0</td>\n",
       "      <td>1</td>\n",
       "      <td>si</td>\n",
       "      <td>unhappy</td>\n",
       "    </tr>\n",
       "    <tr>\n",
       "      <th>599</th>\n",
       "      <td>9023</td>\n",
       "      <td>1</td>\n",
       "      <td>37.0</td>\n",
       "      <td>15.0</td>\n",
       "      <td>1</td>\n",
       "      <td>3</td>\n",
       "      <td>17</td>\n",
       "      <td>5</td>\n",
       "      <td>3</td>\n",
       "      <td>0</td>\n",
       "      <td>...</td>\n",
       "      <td>0</td>\n",
       "      <td>1</td>\n",
       "      <td>0</td>\n",
       "      <td>0</td>\n",
       "      <td>0</td>\n",
       "      <td>0</td>\n",
       "      <td>1</td>\n",
       "      <td>0</td>\n",
       "      <td>si</td>\n",
       "      <td>happy</td>\n",
       "    </tr>\n",
       "    <tr>\n",
       "      <th>600</th>\n",
       "      <td>9029</td>\n",
       "      <td>0</td>\n",
       "      <td>27.0</td>\n",
       "      <td>4.0</td>\n",
       "      <td>1</td>\n",
       "      <td>2</td>\n",
       "      <td>16</td>\n",
       "      <td>1</td>\n",
       "      <td>3</td>\n",
       "      <td>0</td>\n",
       "      <td>...</td>\n",
       "      <td>0</td>\n",
       "      <td>1</td>\n",
       "      <td>0</td>\n",
       "      <td>0</td>\n",
       "      <td>0</td>\n",
       "      <td>0</td>\n",
       "      <td>0</td>\n",
       "      <td>1</td>\n",
       "      <td>si</td>\n",
       "      <td>happy</td>\n",
       "    </tr>\n",
       "  </tbody>\n",
       "</table>\n",
       "<p>601 rows × 21 columns</p>\n",
       "</div>"
      ],
      "text/plain": [
       "       id  male   age  yrsmarr  kids  relig  educ  occup  ratemarr  naffairs  \\\n",
       "0       4     1  37.0     10.0     0      3    18      7         3         0   \n",
       "1       5     0  27.0      4.0     0      4    14      6         3         0   \n",
       "2       6     1  27.0      1.5     0      3    18      4         3         3   \n",
       "3      11     0  32.0     15.0     1      1    12      1         3         0   \n",
       "4      12     0  27.0      4.0     1      3    17      1         4         3   \n",
       "..    ...   ...   ...      ...   ...    ...   ...    ...       ...       ...   \n",
       "596  9001     1  47.0     15.0     0      4    14      5         3         0   \n",
       "597  9010     0  32.0     15.0     1      3    14      1         4         1   \n",
       "598  9012     1  37.0     10.0     1      2    18      6         1         0   \n",
       "599  9023     1  37.0     15.0     1      3    17      5         3         0   \n",
       "600  9029     0  27.0      4.0     1      2    16      1         3         0   \n",
       "\n",
       "     ...  vryhap  hapavg  avgmarr  unhap  vryrel  smerel  slghtrel  notrel  \\\n",
       "0    ...       0       1        0      0       0       0         1       0   \n",
       "1    ...       0       1        0      0       0       1         0       0   \n",
       "2    ...       0       1        0      0       0       0         1       0   \n",
       "3    ...       0       1        0      0       0       0         0       0   \n",
       "4    ...       1       0        0      0       0       0         1       0   \n",
       "..   ...     ...     ...      ...    ...     ...     ...       ...     ...   \n",
       "596  ...       0       1        0      0       0       1         0       0   \n",
       "597  ...       1       0        0      0       0       0         1       0   \n",
       "598  ...       0       0        0      1       0       0         0       1   \n",
       "599  ...       0       1        0      0       0       0         1       0   \n",
       "600  ...       0       1        0      0       0       0         0       1   \n",
       "\n",
       "     haskids   marriage  \n",
       "0         no      happy  \n",
       "1         no      happy  \n",
       "2         no      happy  \n",
       "3         si      happy  \n",
       "4         si  ver happy  \n",
       "..       ...        ...  \n",
       "596       no      happy  \n",
       "597       si  ver happy  \n",
       "598       si    unhappy  \n",
       "599       si      happy  \n",
       "600       si      happy  \n",
       "\n",
       "[601 rows x 21 columns]"
      ]
     },
     "execution_count": 16,
     "metadata": {},
     "output_type": "execute_result"
    }
   ],
   "source": [
    "affairs"
   ]
  },
  {
   "cell_type": "code",
   "execution_count": 17,
   "metadata": {},
   "outputs": [
    {
     "data": {
      "text/plain": [
       "(array(['average', 'happy', 'unhappy', 'ver happy', 'very unhappy'],\n",
       "       dtype=object),\n",
       " array([ 93, 194,  66, 232,  16], dtype=int64))"
      ]
     },
     "execution_count": 17,
     "metadata": {},
     "output_type": "execute_result"
    }
   ],
   "source": [
    "#Tabla de Frecuencia con Numpy\n",
    "ft_np = np.unique(affairs['marriage'], return_counts=True)\n",
    "ft_np"
   ]
  },
  {
   "cell_type": "code",
   "execution_count": 22,
   "metadata": {},
   "outputs": [
    {
     "data": {
      "text/plain": [
       "array(['average', 'happy', 'unhappy', 'ver happy', 'very unhappy'],\n",
       "      dtype=object)"
      ]
     },
     "execution_count": 22,
     "metadata": {},
     "output_type": "execute_result"
    }
   ],
   "source": [
    "unique_elem_np=ft_np[0]\n",
    "unique_elem_np"
   ]
  },
  {
   "cell_type": "code",
   "execution_count": 23,
   "metadata": {},
   "outputs": [
    {
     "data": {
      "text/plain": [
       "array([ 93, 194,  66, 232,  16], dtype=int64)"
      ]
     },
     "execution_count": 23,
     "metadata": {},
     "output_type": "execute_result"
    }
   ],
   "source": [
    "counts_np = ft_np[1]\n",
    "counts_np"
   ]
  },
  {
   "cell_type": "code",
   "execution_count": 24,
   "metadata": {},
   "outputs": [
    {
     "data": {
      "text/plain": [
       "ver happy       232\n",
       "happy           194\n",
       "average          93\n",
       "unhappy          66\n",
       "very unhappy     16\n",
       "Name: marriage, dtype: int64"
      ]
     },
     "execution_count": 24,
     "metadata": {},
     "output_type": "execute_result"
    }
   ],
   "source": [
    "#Tabla de Frecuencias con Pandas\n",
    "ft_pd = affairs['marriage'].value_counts()\n",
    "ft_pd"
   ]
  },
  {
   "cell_type": "code",
   "execution_count": 28,
   "metadata": {},
   "outputs": [
    {
     "data": {
      "text/plain": [
       "haskids  marriage    \n",
       "no       ver happy        96\n",
       "         happy            40\n",
       "         average          24\n",
       "         unhappy           8\n",
       "         very unhappy      3\n",
       "si       happy           154\n",
       "         ver happy       136\n",
       "         average          69\n",
       "         unhappy          58\n",
       "         very unhappy     13\n",
       "Name: marriage, dtype: int64"
      ]
     },
     "execution_count": 28,
     "metadata": {},
     "output_type": "execute_result"
    }
   ],
   "source": [
    "#Tabla de Frecuencia con groupby\n",
    "ft_pd2 = affairs['marriage'].groupby(affairs['haskids']).value_counts()\n",
    "ft_pd2"
   ]
  },
  {
   "cell_type": "code",
   "execution_count": 39,
   "metadata": {},
   "outputs": [
    {
     "data": {
      "text/html": [
       "<div>\n",
       "<style scoped>\n",
       "    .dataframe tbody tr th:only-of-type {\n",
       "        vertical-align: middle;\n",
       "    }\n",
       "\n",
       "    .dataframe tbody tr th {\n",
       "        vertical-align: top;\n",
       "    }\n",
       "\n",
       "    .dataframe thead th {\n",
       "        text-align: right;\n",
       "    }\n",
       "</style>\n",
       "<table border=\"1\" class=\"dataframe\">\n",
       "  <thead>\n",
       "    <tr style=\"text-align: right;\">\n",
       "      <th>haskids</th>\n",
       "      <th>no</th>\n",
       "      <th>si</th>\n",
       "      <th>All</th>\n",
       "    </tr>\n",
       "    <tr>\n",
       "      <th>marriage</th>\n",
       "      <th></th>\n",
       "      <th></th>\n",
       "      <th></th>\n",
       "    </tr>\n",
       "  </thead>\n",
       "  <tbody>\n",
       "    <tr>\n",
       "      <th>very unhappy</th>\n",
       "      <td>3</td>\n",
       "      <td>13</td>\n",
       "      <td>16</td>\n",
       "    </tr>\n",
       "    <tr>\n",
       "      <th>unhappy</th>\n",
       "      <td>8</td>\n",
       "      <td>58</td>\n",
       "      <td>66</td>\n",
       "    </tr>\n",
       "    <tr>\n",
       "      <th>average</th>\n",
       "      <td>24</td>\n",
       "      <td>69</td>\n",
       "      <td>93</td>\n",
       "    </tr>\n",
       "    <tr>\n",
       "      <th>happy</th>\n",
       "      <td>40</td>\n",
       "      <td>154</td>\n",
       "      <td>194</td>\n",
       "    </tr>\n",
       "    <tr>\n",
       "      <th>ver happy</th>\n",
       "      <td>96</td>\n",
       "      <td>136</td>\n",
       "      <td>232</td>\n",
       "    </tr>\n",
       "    <tr>\n",
       "      <th>All</th>\n",
       "      <td>171</td>\n",
       "      <td>430</td>\n",
       "      <td>601</td>\n",
       "    </tr>\n",
       "  </tbody>\n",
       "</table>\n",
       "</div>"
      ],
      "text/plain": [
       "haskids        no   si  All\n",
       "marriage                   \n",
       "very unhappy    3   13   16\n",
       "unhappy         8   58   66\n",
       "average        24   69   93\n",
       "happy          40  154  194\n",
       "ver happy      96  136  232\n",
       "All           171  430  601"
      ]
     },
     "execution_count": 39,
     "metadata": {},
     "output_type": "execute_result"
    }
   ],
   "source": [
    "#Tabla contingencia con pandas\n",
    "ct_all_abs= pd.crosstab(affairs['marriage'],affairs['haskids'],margins=True)\n",
    "ct_all_abs"
   ]
  },
  {
   "cell_type": "code",
   "execution_count": 40,
   "metadata": {},
   "outputs": [
    {
     "data": {
      "text/html": [
       "<div>\n",
       "<style scoped>\n",
       "    .dataframe tbody tr th:only-of-type {\n",
       "        vertical-align: middle;\n",
       "    }\n",
       "\n",
       "    .dataframe tbody tr th {\n",
       "        vertical-align: top;\n",
       "    }\n",
       "\n",
       "    .dataframe thead th {\n",
       "        text-align: right;\n",
       "    }\n",
       "</style>\n",
       "<table border=\"1\" class=\"dataframe\">\n",
       "  <thead>\n",
       "    <tr style=\"text-align: right;\">\n",
       "      <th>haskids</th>\n",
       "      <th>no</th>\n",
       "      <th>si</th>\n",
       "    </tr>\n",
       "    <tr>\n",
       "      <th>marriage</th>\n",
       "      <th></th>\n",
       "      <th></th>\n",
       "    </tr>\n",
       "  </thead>\n",
       "  <tbody>\n",
       "    <tr>\n",
       "      <th>very unhappy</th>\n",
       "      <td>0.004992</td>\n",
       "      <td>0.021631</td>\n",
       "    </tr>\n",
       "    <tr>\n",
       "      <th>unhappy</th>\n",
       "      <td>0.013311</td>\n",
       "      <td>0.096506</td>\n",
       "    </tr>\n",
       "    <tr>\n",
       "      <th>average</th>\n",
       "      <td>0.039933</td>\n",
       "      <td>0.114809</td>\n",
       "    </tr>\n",
       "    <tr>\n",
       "      <th>happy</th>\n",
       "      <td>0.066556</td>\n",
       "      <td>0.256240</td>\n",
       "    </tr>\n",
       "    <tr>\n",
       "      <th>ver happy</th>\n",
       "      <td>0.159734</td>\n",
       "      <td>0.226290</td>\n",
       "    </tr>\n",
       "  </tbody>\n",
       "</table>\n",
       "</div>"
      ],
      "text/plain": [
       "haskids             no        si\n",
       "marriage                        \n",
       "very unhappy  0.004992  0.021631\n",
       "unhappy       0.013311  0.096506\n",
       "average       0.039933  0.114809\n",
       "happy         0.066556  0.256240\n",
       "ver happy     0.159734  0.226290"
      ]
     },
     "execution_count": 40,
     "metadata": {},
     "output_type": "execute_result"
    }
   ],
   "source": [
    "ct_all_abs= pd.crosstab(affairs['marriage'],affairs['haskids'],normalize='all')\n",
    "ct_all_abs"
   ]
  },
  {
   "cell_type": "code",
   "execution_count": 41,
   "metadata": {},
   "outputs": [
    {
     "data": {
      "text/html": [
       "<div>\n",
       "<style scoped>\n",
       "    .dataframe tbody tr th:only-of-type {\n",
       "        vertical-align: middle;\n",
       "    }\n",
       "\n",
       "    .dataframe tbody tr th {\n",
       "        vertical-align: top;\n",
       "    }\n",
       "\n",
       "    .dataframe thead th {\n",
       "        text-align: right;\n",
       "    }\n",
       "</style>\n",
       "<table border=\"1\" class=\"dataframe\">\n",
       "  <thead>\n",
       "    <tr style=\"text-align: right;\">\n",
       "      <th>haskids</th>\n",
       "      <th>no</th>\n",
       "      <th>si</th>\n",
       "    </tr>\n",
       "    <tr>\n",
       "      <th>marriage</th>\n",
       "      <th></th>\n",
       "      <th></th>\n",
       "    </tr>\n",
       "  </thead>\n",
       "  <tbody>\n",
       "    <tr>\n",
       "      <th>very unhappy</th>\n",
       "      <td>0.187500</td>\n",
       "      <td>0.812500</td>\n",
       "    </tr>\n",
       "    <tr>\n",
       "      <th>unhappy</th>\n",
       "      <td>0.121212</td>\n",
       "      <td>0.878788</td>\n",
       "    </tr>\n",
       "    <tr>\n",
       "      <th>average</th>\n",
       "      <td>0.258065</td>\n",
       "      <td>0.741935</td>\n",
       "    </tr>\n",
       "    <tr>\n",
       "      <th>happy</th>\n",
       "      <td>0.206186</td>\n",
       "      <td>0.793814</td>\n",
       "    </tr>\n",
       "    <tr>\n",
       "      <th>ver happy</th>\n",
       "      <td>0.413793</td>\n",
       "      <td>0.586207</td>\n",
       "    </tr>\n",
       "  </tbody>\n",
       "</table>\n",
       "</div>"
      ],
      "text/plain": [
       "haskids             no        si\n",
       "marriage                        \n",
       "very unhappy  0.187500  0.812500\n",
       "unhappy       0.121212  0.878788\n",
       "average       0.258065  0.741935\n",
       "happy         0.206186  0.793814\n",
       "ver happy     0.413793  0.586207"
      ]
     },
     "execution_count": 41,
     "metadata": {},
     "output_type": "execute_result"
    }
   ],
   "source": [
    "ct_all_abs= pd.crosstab(affairs['marriage'],affairs['haskids'],normalize='index')\n",
    "ct_all_abs"
   ]
  },
  {
   "cell_type": "code",
   "execution_count": 42,
   "metadata": {},
   "outputs": [
    {
     "data": {
      "text/html": [
       "<div>\n",
       "<style scoped>\n",
       "    .dataframe tbody tr th:only-of-type {\n",
       "        vertical-align: middle;\n",
       "    }\n",
       "\n",
       "    .dataframe tbody tr th {\n",
       "        vertical-align: top;\n",
       "    }\n",
       "\n",
       "    .dataframe thead th {\n",
       "        text-align: right;\n",
       "    }\n",
       "</style>\n",
       "<table border=\"1\" class=\"dataframe\">\n",
       "  <thead>\n",
       "    <tr style=\"text-align: right;\">\n",
       "      <th>haskids</th>\n",
       "      <th>no</th>\n",
       "      <th>si</th>\n",
       "    </tr>\n",
       "    <tr>\n",
       "      <th>marriage</th>\n",
       "      <th></th>\n",
       "      <th></th>\n",
       "    </tr>\n",
       "  </thead>\n",
       "  <tbody>\n",
       "    <tr>\n",
       "      <th>very unhappy</th>\n",
       "      <td>0.017544</td>\n",
       "      <td>0.030233</td>\n",
       "    </tr>\n",
       "    <tr>\n",
       "      <th>unhappy</th>\n",
       "      <td>0.046784</td>\n",
       "      <td>0.134884</td>\n",
       "    </tr>\n",
       "    <tr>\n",
       "      <th>average</th>\n",
       "      <td>0.140351</td>\n",
       "      <td>0.160465</td>\n",
       "    </tr>\n",
       "    <tr>\n",
       "      <th>happy</th>\n",
       "      <td>0.233918</td>\n",
       "      <td>0.358140</td>\n",
       "    </tr>\n",
       "    <tr>\n",
       "      <th>ver happy</th>\n",
       "      <td>0.561404</td>\n",
       "      <td>0.316279</td>\n",
       "    </tr>\n",
       "  </tbody>\n",
       "</table>\n",
       "</div>"
      ],
      "text/plain": [
       "haskids             no        si\n",
       "marriage                        \n",
       "very unhappy  0.017544  0.030233\n",
       "unhappy       0.046784  0.134884\n",
       "average       0.140351  0.160465\n",
       "happy         0.233918  0.358140\n",
       "ver happy     0.561404  0.316279"
      ]
     },
     "execution_count": 42,
     "metadata": {},
     "output_type": "execute_result"
    }
   ],
   "source": [
    "ct_all_abs= pd.crosstab(affairs['marriage'],affairs['haskids'],normalize='columns')\n",
    "ct_all_abs"
   ]
  },
  {
   "cell_type": "code",
   "execution_count": 54,
   "metadata": {},
   "outputs": [
    {
     "data": {
      "text/plain": [
       "([<matplotlib.patches.Wedge at 0x23b0fe9c4c8>,\n",
       "  <matplotlib.patches.Wedge at 0x23b0fe9c9c8>,\n",
       "  <matplotlib.patches.Wedge at 0x23b0fea3088>,\n",
       "  <matplotlib.patches.Wedge at 0x23b0fea3148>,\n",
       "  <matplotlib.patches.Wedge at 0x23b0fead208>],\n",
       " [Text(0.38551239610497706, 1.030233076759526, 'very unhappy'),\n",
       "  Text(-1.0515328393543526, -0.3229221078826498, 'unhappy'),\n",
       "  Text(0.2479751092027909, -1.0716848161730501, 'average'),\n",
       "  Text(0.9587957908517588, -0.5391758817352188, 'happy'),\n",
       "  Text(1.0961549481565562, -0.0918930336418256, 'very happy')])"
      ]
     },
     "execution_count": 54,
     "metadata": {},
     "output_type": "execute_result"
    },
    {
     "data": {
      "image/png": "[encoded data removed]",
      "text/plain": [
       "<Figure size 432x288 with 1 Axes>"
      ]
     },
     "metadata": {},
     "output_type": "display_data"
    }
   ],
   "source": [
    "import wooldridge as woo\n",
    "import numpy as np\n",
    "import pandas as pd\n",
    "import matplotlib.pyplot as plt\n",
    "\n",
    "affairs = woo.dataWoo('affairs')\n",
    "\n",
    "# Agregar etiquetas:\n",
    "affairs['ratemarr'] = affairs['ratemarr'] - 1\n",
    "affairs['haskids'] = pd.Categorical.from_codes(affairs['kids'],\n",
    "                                               categories=['no', 'yes'])\n",
    "mlab = ['very unhappy', 'unhappy', 'average', 'happy', 'very happy']\n",
    "affairs['marriage'] = pd.Categorical.from_codes(affairs['ratemarr'],\n",
    "                                                categories=mlab)\n",
    "\n",
    "# Cantidad\n",
    "counts = affairs['marriage'].value_counts()\n",
    "counts\n",
    "counts_bykids = affairs['marriage'].groupby(affairs['haskids']).value_counts()\n",
    "counts_bykids\n",
    "counts_yes = counts_bykids['yes']\n",
    "counts_yes\n",
    "counts_no = counts_bykids['no']\n",
    "counts_no\n",
    "\n",
    "# pie chart (a):\n",
    "grey_colors = ['0.3', '0.4', '0.5', '0.6', '0.7']\n",
    "plt.pie(counts, labels=mlab, colors=grey_colors)\n",
    "# plt.savefig('./Descr-Pie.pdf')\n",
    "# plt.close()\n",
    "\n"
   ]
  },
  {
   "cell_type": "code",
   "execution_count": 55,
   "metadata": {},
   "outputs": [
    {
     "data": {
      "text/plain": [
       "([<matplotlib.axis.YTick at 0x23b0fb576c8>,\n",
       "  <matplotlib.axis.YTick at 0x23b11f86ec8>,\n",
       "  <matplotlib.axis.YTick at 0x23b11f85d48>,\n",
       "  <matplotlib.axis.YTick at 0x23b11fbd4c8>,\n",
       "  <matplotlib.axis.YTick at 0x23b11fbdd48>],\n",
       " [Text(0, 0, 'very unhappy'),\n",
       "  Text(0, 0, 'unhappy'),\n",
       "  Text(0, 0, 'average'),\n",
       "  Text(0, 0, 'happy'),\n",
       "  Text(0, 0, 'very happy')])"
      ]
     },
     "execution_count": 55,
     "metadata": {},
     "output_type": "execute_result"
    },
    {
     "data": {
      "image/png": "[encoded data removed]",
      "text/plain": [
       "<Figure size 432x288 with 1 Axes>"
      ]
     },
     "metadata": {
      "needs_background": "light"
     },
     "output_type": "display_data"
    }
   ],
   "source": [
    "# Gráfico de Barra Horizontal:\n",
    "y_pos = [0, 1, 2, 3, 4]  # la ubicación de las barras\n",
    "plt.barh(y_pos, counts, color='0.6')\n",
    "plt.yticks(y_pos, mlab, rotation=60)  # agregar y ajustar el etiquetado\n",
    "# plt.savefig('./Descr-Bar1.pdf')\n",
    "# plt.close()\n",
    "\n"
   ]
  },
  {
   "cell_type": "code",
   "execution_count": 66,
   "metadata": {},
   "outputs": [
    {
     "data": {
      "text/plain": [
       "<matplotlib.legend.Legend at 0x23b123e0888>"
      ]
     },
     "execution_count": 66,
     "metadata": {},
     "output_type": "execute_result"
    },
    {
     "data": {
      "image/png": "[encoded data removed]",
      "text/plain": [
       "<Figure size 432x288 with 1 Axes>"
      ]
     },
     "metadata": {
      "needs_background": "light"
     },
     "output_type": "display_data"
    }
   ],
   "source": [
    "# gráfico de barras apiladas:\n",
    "x_pos = [0, 1, 2, 3, 4]  # la ubicación de las barras\n",
    "plt.bar(x_pos, counts_yes, width=0.4, color='0.6', label='Yes')\n",
    "plt.bar(x_pos, counts_no, width=0.4, bottom=counts_yes, color='0.3', label='No')\n",
    "plt.ylabel('Cantidad')\n",
    "plt.xticks(x_pos, mlab)  # agregar etiquetas en el eje x\n",
    "plt.legend()\n",
    "# plt.savefig('./Descr-Bar2.pdf')\n",
    "# plt.close()\n",
    "\n"
   ]
  },
  {
   "cell_type": "code",
   "execution_count": 67,
   "metadata": {},
   "outputs": [
    {
     "data": {
      "text/plain": [
       "<matplotlib.legend.Legend at 0x23b1212e5c8>"
      ]
     },
     "execution_count": 67,
     "metadata": {},
     "output_type": "execute_result"
    },
    {
     "data": {
      "image/png": "[encoded data removed]",
      "text/plain": [
       "<Figure size 432x288 with 1 Axes>"
      ]
     },
     "metadata": {
      "needs_background": "light"
     },
     "output_type": "display_data"
    }
   ],
   "source": [
    "# gráfico de barras agrupadas\n",
    "\n",
    "x_pos_leftbar = [-0.2, 0.8, 1.8, 2.8, 3.8]\n",
    "plt.bar(x_pos_leftbar, counts_yes, width=0.4, color='0.6', label='Yes')\n",
    "x_pos_rightbar = [0.2, 1.2, 2.2, 3.2, 4.2]\n",
    "plt.bar(x_pos_rightbar, counts_no, width=0.4, color='0.3', label='No')\n",
    "plt.ylabel('Cantidad')\n",
    "plt.xticks(x_pos, mlab)\n",
    "plt.legend()\n",
    "# plt.savefig('./Descr-Bar3.pdf')"
   ]
  },
  {
   "cell_type": "markdown",
   "metadata": {},
   "source": [
    "#### 2.Distribuciones Continuas: Histograma y Densidad"
   ]
  },
  {
   "cell_type": "code",
   "execution_count": 61,
   "metadata": {},
   "outputs": [
    {
     "name": "stdout",
     "output_type": "stream",
     "text": [
      "name of dataset: ceosal1\n",
      "no of variables: 12\n",
      "no of observations: 209\n",
      "\n",
      "+----------+-------------------------------+\n",
      "| variable | label                         |\n",
      "+----------+-------------------------------+\n",
      "| salary   | 1990 salary, thousands $      |\n",
      "| pcsalary | % change salary, 89-90        |\n",
      "| sales    | 1990 firm sales, millions $   |\n",
      "| roe      | return on equity, 88-90 avg   |\n",
      "| pcroe    | % change roe, 88-90           |\n",
      "| ros      | return on firm's stock, 88-90 |\n",
      "| indus    | =1 if industrial firm         |\n",
      "| finance  | =1 if financial firm          |\n",
      "| consprod | =1 if consumer product firm   |\n",
      "| utility  | =1 if transport. or utilties  |\n",
      "| lsalary  | natural log of salary         |\n",
      "| lsales   | natural log of sales          |\n",
      "+----------+-------------------------------+\n",
      "\n",
      "I took a random sample of data reported in the May 6, 1991 issue of\n",
      "Businessweek.\n"
     ]
    }
   ],
   "source": [
    "import wooldridge as woo\n",
    "import matplotlib.pyplot as plt\n",
    "\n",
    "\n",
    "woo.dataWoo('ceosal1', description=True)\n"
   ]
  },
  {
   "cell_type": "code",
   "execution_count": 62,
   "metadata": {},
   "outputs": [
    {
     "data": {
      "text/html": [
       "<div>\n",
       "<style scoped>\n",
       "    .dataframe tbody tr th:only-of-type {\n",
       "        vertical-align: middle;\n",
       "    }\n",
       "\n",
       "    .dataframe tbody tr th {\n",
       "        vertical-align: top;\n",
       "    }\n",
       "\n",
       "    .dataframe thead th {\n",
       "        text-align: right;\n",
       "    }\n",
       "</style>\n",
       "<table border=\"1\" class=\"dataframe\">\n",
       "  <thead>\n",
       "    <tr style=\"text-align: right;\">\n",
       "      <th></th>\n",
       "      <th>salary</th>\n",
       "      <th>pcsalary</th>\n",
       "      <th>sales</th>\n",
       "      <th>roe</th>\n",
       "      <th>pcroe</th>\n",
       "      <th>ros</th>\n",
       "      <th>indus</th>\n",
       "      <th>finance</th>\n",
       "      <th>consprod</th>\n",
       "      <th>utility</th>\n",
       "      <th>lsalary</th>\n",
       "      <th>lsales</th>\n",
       "    </tr>\n",
       "  </thead>\n",
       "  <tbody>\n",
       "    <tr>\n",
       "      <th>0</th>\n",
       "      <td>1095</td>\n",
       "      <td>20</td>\n",
       "      <td>27595.000000</td>\n",
       "      <td>14.1</td>\n",
       "      <td>106.400002</td>\n",
       "      <td>191</td>\n",
       "      <td>1</td>\n",
       "      <td>0</td>\n",
       "      <td>0</td>\n",
       "      <td>0</td>\n",
       "      <td>6.998509</td>\n",
       "      <td>10.225389</td>\n",
       "    </tr>\n",
       "    <tr>\n",
       "      <th>1</th>\n",
       "      <td>1001</td>\n",
       "      <td>32</td>\n",
       "      <td>9958.000000</td>\n",
       "      <td>10.9</td>\n",
       "      <td>-30.600000</td>\n",
       "      <td>13</td>\n",
       "      <td>1</td>\n",
       "      <td>0</td>\n",
       "      <td>0</td>\n",
       "      <td>0</td>\n",
       "      <td>6.908755</td>\n",
       "      <td>9.206132</td>\n",
       "    </tr>\n",
       "    <tr>\n",
       "      <th>2</th>\n",
       "      <td>1122</td>\n",
       "      <td>9</td>\n",
       "      <td>6125.899902</td>\n",
       "      <td>23.5</td>\n",
       "      <td>-16.299999</td>\n",
       "      <td>14</td>\n",
       "      <td>1</td>\n",
       "      <td>0</td>\n",
       "      <td>0</td>\n",
       "      <td>0</td>\n",
       "      <td>7.022868</td>\n",
       "      <td>8.720281</td>\n",
       "    </tr>\n",
       "    <tr>\n",
       "      <th>3</th>\n",
       "      <td>578</td>\n",
       "      <td>-9</td>\n",
       "      <td>16246.000000</td>\n",
       "      <td>5.9</td>\n",
       "      <td>-25.700001</td>\n",
       "      <td>-21</td>\n",
       "      <td>1</td>\n",
       "      <td>0</td>\n",
       "      <td>0</td>\n",
       "      <td>0</td>\n",
       "      <td>6.359574</td>\n",
       "      <td>9.695602</td>\n",
       "    </tr>\n",
       "    <tr>\n",
       "      <th>4</th>\n",
       "      <td>1368</td>\n",
       "      <td>7</td>\n",
       "      <td>21783.199219</td>\n",
       "      <td>13.8</td>\n",
       "      <td>-3.000000</td>\n",
       "      <td>56</td>\n",
       "      <td>1</td>\n",
       "      <td>0</td>\n",
       "      <td>0</td>\n",
       "      <td>0</td>\n",
       "      <td>7.221105</td>\n",
       "      <td>9.988894</td>\n",
       "    </tr>\n",
       "    <tr>\n",
       "      <th>...</th>\n",
       "      <td>...</td>\n",
       "      <td>...</td>\n",
       "      <td>...</td>\n",
       "      <td>...</td>\n",
       "      <td>...</td>\n",
       "      <td>...</td>\n",
       "      <td>...</td>\n",
       "      <td>...</td>\n",
       "      <td>...</td>\n",
       "      <td>...</td>\n",
       "      <td>...</td>\n",
       "      <td>...</td>\n",
       "    </tr>\n",
       "    <tr>\n",
       "      <th>204</th>\n",
       "      <td>930</td>\n",
       "      <td>10</td>\n",
       "      <td>1509.099976</td>\n",
       "      <td>9.0</td>\n",
       "      <td>20.500000</td>\n",
       "      <td>131</td>\n",
       "      <td>0</td>\n",
       "      <td>0</td>\n",
       "      <td>0</td>\n",
       "      <td>1</td>\n",
       "      <td>6.835185</td>\n",
       "      <td>7.319269</td>\n",
       "    </tr>\n",
       "    <tr>\n",
       "      <th>205</th>\n",
       "      <td>525</td>\n",
       "      <td>3</td>\n",
       "      <td>1097.099976</td>\n",
       "      <td>15.5</td>\n",
       "      <td>20.100000</td>\n",
       "      <td>72</td>\n",
       "      <td>0</td>\n",
       "      <td>0</td>\n",
       "      <td>0</td>\n",
       "      <td>1</td>\n",
       "      <td>6.263398</td>\n",
       "      <td>7.000426</td>\n",
       "    </tr>\n",
       "    <tr>\n",
       "      <th>206</th>\n",
       "      <td>658</td>\n",
       "      <td>32</td>\n",
       "      <td>4542.600098</td>\n",
       "      <td>12.1</td>\n",
       "      <td>-7.800000</td>\n",
       "      <td>68</td>\n",
       "      <td>0</td>\n",
       "      <td>0</td>\n",
       "      <td>0</td>\n",
       "      <td>1</td>\n",
       "      <td>6.489205</td>\n",
       "      <td>8.421255</td>\n",
       "    </tr>\n",
       "    <tr>\n",
       "      <th>207</th>\n",
       "      <td>555</td>\n",
       "      <td>6</td>\n",
       "      <td>2023.000000</td>\n",
       "      <td>13.7</td>\n",
       "      <td>-14.600000</td>\n",
       "      <td>60</td>\n",
       "      <td>0</td>\n",
       "      <td>0</td>\n",
       "      <td>0</td>\n",
       "      <td>1</td>\n",
       "      <td>6.318968</td>\n",
       "      <td>7.612337</td>\n",
       "    </tr>\n",
       "    <tr>\n",
       "      <th>208</th>\n",
       "      <td>626</td>\n",
       "      <td>0</td>\n",
       "      <td>1442.500000</td>\n",
       "      <td>14.4</td>\n",
       "      <td>-10.200000</td>\n",
       "      <td>62</td>\n",
       "      <td>0</td>\n",
       "      <td>0</td>\n",
       "      <td>0</td>\n",
       "      <td>1</td>\n",
       "      <td>6.439351</td>\n",
       "      <td>7.274133</td>\n",
       "    </tr>\n",
       "  </tbody>\n",
       "</table>\n",
       "<p>209 rows × 12 columns</p>\n",
       "</div>"
      ],
      "text/plain": [
       "     salary  pcsalary         sales   roe       pcroe  ros  indus  finance  \\\n",
       "0      1095        20  27595.000000  14.1  106.400002  191      1        0   \n",
       "1      1001        32   9958.000000  10.9  -30.600000   13      1        0   \n",
       "2      1122         9   6125.899902  23.5  -16.299999   14      1        0   \n",
       "3       578        -9  16246.000000   5.9  -25.700001  -21      1        0   \n",
       "4      1368         7  21783.199219  13.8   -3.000000   56      1        0   \n",
       "..      ...       ...           ...   ...         ...  ...    ...      ...   \n",
       "204     930        10   1509.099976   9.0   20.500000  131      0        0   \n",
       "205     525         3   1097.099976  15.5   20.100000   72      0        0   \n",
       "206     658        32   4542.600098  12.1   -7.800000   68      0        0   \n",
       "207     555         6   2023.000000  13.7  -14.600000   60      0        0   \n",
       "208     626         0   1442.500000  14.4  -10.200000   62      0        0   \n",
       "\n",
       "     consprod  utility   lsalary     lsales  \n",
       "0           0        0  6.998509  10.225389  \n",
       "1           0        0  6.908755   9.206132  \n",
       "2           0        0  7.022868   8.720281  \n",
       "3           0        0  6.359574   9.695602  \n",
       "4           0        0  7.221105   9.988894  \n",
       "..        ...      ...       ...        ...  \n",
       "204         0        1  6.835185   7.319269  \n",
       "205         0        1  6.263398   7.000426  \n",
       "206         0        1  6.489205   8.421255  \n",
       "207         0        1  6.318968   7.612337  \n",
       "208         0        1  6.439351   7.274133  \n",
       "\n",
       "[209 rows x 12 columns]"
      ]
     },
     "execution_count": 62,
     "metadata": {},
     "output_type": "execute_result"
    }
   ],
   "source": [
    "ceosal1 = woo.dataWoo('ceosal1')\n",
    "ceosal1\n"
   ]
  },
  {
   "cell_type": "code",
   "execution_count": 80,
   "metadata": {},
   "outputs": [
    {
     "data": {
      "text/plain": [
       "Text(0.5, 0, 'roe')"
      ]
     },
     "execution_count": 80,
     "metadata": {},
     "output_type": "execute_result"
    },
    {
     "data": {
      "image/png": "[encoded data removed]",
      "text/plain": [
       "<Figure size 432x288 with 1 Axes>"
      ]
     },
     "metadata": {
      "needs_background": "light"
     },
     "output_type": "display_data"
    }
   ],
   "source": [
    "# Extraemos el ROE:\n",
    "roe = ceosal1['roe']\n",
    "\n",
    "# histograma con recuentos\n",
    "plt.hist(roe, color='green')\n",
    "plt.ylabel('Cantidad')\n",
    "plt.xlabel('roe')\n",
    "# plt.savefig('./Histogram1.pdf')\n",
    "# plt.close()\n",
    "\n"
   ]
  },
  {
   "cell_type": "code",
   "execution_count": 81,
   "metadata": {},
   "outputs": [
    {
     "data": {
      "text/plain": [
       "Text(0.5, 0, 'roe')"
      ]
     },
     "execution_count": 81,
     "metadata": {},
     "output_type": "execute_result"
    },
    {
     "data": {
      "image/png": "[encoded data removed]",
      "text/plain": [
       "<Figure size 432x288 with 1 Axes>"
      ]
     },
     "metadata": {
      "needs_background": "light"
     },
     "output_type": "display_data"
    }
   ],
   "source": [
    "#histograma con densidad y breaks\n",
    "breaks = [0, 5, 10, 20, 30, 60]\n",
    "plt.hist(roe, color='blue', bins=breaks, density=True)\n",
    "plt.ylabel('densidad')\n",
    "plt.xlabel('roe')\n",
    "# plt.savefig('./Histogram2.pdf')"
   ]
  },
  {
   "cell_type": "code",
   "execution_count": 77,
   "metadata": {},
   "outputs": [
    {
     "data": {
      "text/plain": [
       "Text(0.5, 0, 'roe')"
      ]
     },
     "execution_count": 77,
     "metadata": {},
     "output_type": "execute_result"
    },
    {
     "data": {
      "image/png": "[encoded data removed]",
      "text/plain": [
       "<Figure size 432x288 with 1 Axes>"
      ]
     },
     "metadata": {
      "needs_background": "light"
     },
     "output_type": "display_data"
    }
   ],
   "source": [
    "import wooldridge as woo\n",
    "import statsmodels.api as sm\n",
    "import matplotlib.pyplot as plt\n",
    "\n",
    "ceosal1 = woo.dataWoo('ceosal1')\n",
    "\n",
    "# Extraemos roe:\n",
    "roe = ceosal1['roe']\n",
    "\n",
    "# Estimamos la Densidad de Kernel\n",
    "kde = sm.nonparametric.KDEUnivariate(roe)\n",
    "kde.fit()\n",
    "\n",
    "# Densidad de Kernel:\n",
    "plt.plot(kde.support, kde.density, color='blue', linewidth=2)\n",
    "plt.ylabel('densidad')\n",
    "plt.xlabel('roe')\n",
    "# plt.savefig('./Density1.pdf')\n",
    "# plt.close()\n",
    "\n"
   ]
  },
  {
   "cell_type": "code",
   "execution_count": 79,
   "metadata": {},
   "outputs": [
    {
     "data": {
      "text/plain": [
       "Text(0.5, 0, 'roe')"
      ]
     },
     "execution_count": 79,
     "metadata": {},
     "output_type": "execute_result"
    },
    {
     "data": {
      "image/png": "[encoded data removed]",
      "text/plain": [
       "<Figure size 432x288 with 1 Axes>"
      ]
     },
     "metadata": {
      "needs_background": "light"
     },
     "output_type": "display_data"
    }
   ],
   "source": [
    "# densidad del kernel con histograma superpuesto:\n",
    "plt.hist(roe, color='green', density=True)\n",
    "plt.plot(kde.support, kde.density, color='blue', linewidth=2)\n",
    "plt.ylabel('densidad')\n",
    "plt.xlabel('roe')\n",
    "# plt.savefig('./Density2.pdf')"
   ]
  },
  {
   "cell_type": "markdown",
   "metadata": {},
   "source": [
    "#### 3. Función de Distribución Acumulativa"
   ]
  },
  {
   "cell_type": "code",
   "execution_count": 84,
   "metadata": {},
   "outputs": [
    {
     "data": {
      "text/plain": [
       "0      14.1\n",
       "1      10.9\n",
       "2      23.5\n",
       "3       5.9\n",
       "4      13.8\n",
       "       ... \n",
       "204     9.0\n",
       "205    15.5\n",
       "206    12.1\n",
       "207    13.7\n",
       "208    14.4\n",
       "Name: roe, Length: 209, dtype: float64"
      ]
     },
     "execution_count": 84,
     "metadata": {},
     "output_type": "execute_result"
    }
   ],
   "source": [
    "import wooldridge as woo\n",
    "import numpy as np\n",
    "import matplotlib.pyplot as plt\n",
    "\n",
    "ceosal1 = woo.dataWoo('ceosal1')\n",
    "\n",
    "# Extraer roe:\n",
    "roe = ceosal1['roe']\n",
    "roe\n"
   ]
  },
  {
   "cell_type": "code",
   "execution_count": 85,
   "metadata": {},
   "outputs": [
    {
     "data": {
      "text/plain": [
       "array([ 0.5       ,  1.89999998,  2.0999999 ,  2.9000001 ,  3.5       ,\n",
       "        5.0999999 ,  5.9000001 ,  6.19999981,  6.4000001 ,  6.69999981,\n",
       "        6.80000019,  7.0999999 ,  7.19999981,  7.30000019,  7.4000001 ,\n",
       "        7.4000001 ,  7.80000019,  8.5       ,  8.60000038,  8.89999962,\n",
       "        8.89999962,  9.        ,  9.        ,  9.30000019,  9.39999962,\n",
       "        9.5       , 10.        , 10.10000038, 10.10000038, 10.19999981,\n",
       "       10.19999981, 10.30000019, 10.5       , 10.60000038, 10.69999981,\n",
       "       10.80000019, 10.89999962, 10.89999962, 10.89999962, 11.        ,\n",
       "       11.10000038, 11.10000038, 11.10000038, 11.10000038, 11.60000038,\n",
       "       11.60000038, 11.80000019, 11.89999962, 12.10000038, 12.10000038,\n",
       "       12.30000019, 12.39999962, 12.39999962, 12.39999962, 12.39999962,\n",
       "       12.39999962, 12.60000038, 12.60000038, 12.60000038, 12.69999981,\n",
       "       12.69999981, 12.80000019, 12.80000019, 12.80000019, 12.89999962,\n",
       "       12.89999962, 13.        , 13.        , 13.10000038, 13.10000038,\n",
       "       13.19999981, 13.5       , 13.69999981, 13.69999981, 13.69999981,\n",
       "       13.80000019, 13.80000019, 13.80000019, 14.        , 14.        ,\n",
       "       14.10000038, 14.19999981, 14.19999981, 14.39999962, 14.39999962,\n",
       "       14.39999962, 14.5       , 14.60000038, 14.69999981, 14.80000019,\n",
       "       14.80000019, 14.89999962, 15.        , 15.        , 15.10000038,\n",
       "       15.10000038, 15.10000038, 15.10000038, 15.10000038, 15.10000038,\n",
       "       15.30000019, 15.39999962, 15.39999962, 15.39999962, 15.5       ,\n",
       "       15.5       , 15.60000038, 15.60000038, 15.60000038, 15.69999981,\n",
       "       15.80000019, 15.89999962, 15.89999962, 15.89999962, 15.89999962,\n",
       "       16.10000038, 16.10000038, 16.20000076, 16.20000076, 16.29999924,\n",
       "       16.39999962, 16.39999962, 16.39999962, 16.39999962, 16.39999962,\n",
       "       16.5       , 16.5       , 16.89999962, 16.89999962, 17.10000038,\n",
       "       17.29999924, 17.29999924, 17.5       , 17.60000038, 17.70000076,\n",
       "       18.        , 18.        , 18.10000038, 18.29999924, 18.39999962,\n",
       "       18.39999962, 18.39999962, 19.        , 19.        , 19.20000076,\n",
       "       19.20000076, 19.29999924, 19.39999962, 19.39999962, 19.39999962,\n",
       "       19.5       , 19.60000038, 19.60000038, 19.89999962, 19.89999962,\n",
       "       19.89999962, 20.        , 20.        , 20.29999924, 20.39999962,\n",
       "       20.89999962, 21.29999924, 21.39999962, 21.5       , 21.70000076,\n",
       "       22.10000038, 22.29999924, 22.29999924, 22.29999924, 22.60000038,\n",
       "       22.70000076, 22.70000076, 22.79999924, 22.89999962, 23.20000076,\n",
       "       23.39999962, 23.5       , 23.60000038, 24.39999962, 24.60000038,\n",
       "       24.79999924, 25.        , 25.70000076, 25.89999962, 26.20000076,\n",
       "       26.29999924, 26.39999962, 26.79999924, 26.79999924, 26.89999962,\n",
       "       27.        , 28.10000038, 28.20000076, 28.5       , 29.10000038,\n",
       "       29.5       , 30.5       , 33.29999924, 35.09999847, 35.70000076,\n",
       "       38.70000076, 40.79999924, 42.20000076, 43.70000076, 43.90000153,\n",
       "       44.40000153, 44.5       , 48.09999847, 56.29999924])"
      ]
     },
     "execution_count": 85,
     "metadata": {},
     "output_type": "execute_result"
    }
   ],
   "source": [
    "# Calculamos Función de Distribución Acumulativa:\n",
    "x = np.sort(roe)\n",
    "x\n"
   ]
  },
  {
   "cell_type": "code",
   "execution_count": 91,
   "metadata": {},
   "outputs": [
    {
     "name": "stdout",
     "output_type": "stream",
     "text": [
      "209\n",
      "[0.00478469 0.00956938 0.01435407 0.01913876 0.02392344 0.02870813\n",
      " 0.03349282 0.03827751 0.0430622  0.04784689 0.05263158 0.05741627\n",
      " 0.06220096 0.06698565 0.07177033 0.07655502 0.08133971 0.0861244\n",
      " 0.09090909 0.09569378 0.10047847 0.10526316 0.11004785 0.11483254\n",
      " 0.11961722 0.12440191 0.1291866  0.13397129 0.13875598 0.14354067\n",
      " 0.14832536 0.15311005 0.15789474 0.16267943 0.16746411 0.1722488\n",
      " 0.17703349 0.18181818 0.18660287 0.19138756 0.19617225 0.20095694\n",
      " 0.20574163 0.21052632 0.215311   0.22009569 0.22488038 0.22966507\n",
      " 0.23444976 0.23923445 0.24401914 0.24880383 0.25358852 0.25837321\n",
      " 0.26315789 0.26794258 0.27272727 0.27751196 0.28229665 0.28708134\n",
      " 0.29186603 0.29665072 0.30143541 0.3062201  0.31100478 0.31578947\n",
      " 0.32057416 0.32535885 0.33014354 0.33492823 0.33971292 0.34449761\n",
      " 0.3492823  0.35406699 0.35885167 0.36363636 0.36842105 0.37320574\n",
      " 0.37799043 0.38277512 0.38755981 0.3923445  0.39712919 0.40191388\n",
      " 0.40669856 0.41148325 0.41626794 0.42105263 0.42583732 0.43062201\n",
      " 0.4354067  0.44019139 0.44497608 0.44976077 0.45454545 0.45933014\n",
      " 0.46411483 0.46889952 0.47368421 0.4784689  0.48325359 0.48803828\n",
      " 0.49282297 0.49760766 0.50239234 0.50717703 0.51196172 0.51674641\n",
      " 0.5215311  0.52631579 0.53110048 0.53588517 0.54066986 0.54545455\n",
      " 0.55023923 0.55502392 0.55980861 0.5645933  0.56937799 0.57416268\n",
      " 0.57894737 0.58373206 0.58851675 0.59330144 0.59808612 0.60287081\n",
      " 0.6076555  0.61244019 0.61722488 0.62200957 0.62679426 0.63157895\n",
      " 0.63636364 0.64114833 0.64593301 0.6507177  0.65550239 0.66028708\n",
      " 0.66507177 0.66985646 0.67464115 0.67942584 0.68421053 0.68899522\n",
      " 0.6937799  0.69856459 0.70334928 0.70813397 0.71291866 0.71770335\n",
      " 0.72248804 0.72727273 0.73205742 0.73684211 0.74162679 0.74641148\n",
      " 0.75119617 0.75598086 0.76076555 0.76555024 0.77033493 0.77511962\n",
      " 0.77990431 0.784689   0.78947368 0.79425837 0.79904306 0.80382775\n",
      " 0.80861244 0.81339713 0.81818182 0.82296651 0.8277512  0.83253589\n",
      " 0.83732057 0.84210526 0.84688995 0.85167464 0.85645933 0.86124402\n",
      " 0.86602871 0.8708134  0.87559809 0.88038278 0.88516746 0.88995215\n",
      " 0.89473684 0.89952153 0.90430622 0.90909091 0.9138756  0.91866029\n",
      " 0.92344498 0.92822967 0.93301435 0.93779904 0.94258373 0.94736842\n",
      " 0.95215311 0.9569378  0.96172249 0.96650718 0.97129187 0.97607656\n",
      " 0.98086124 0.98564593 0.99043062 0.99521531 1.        ]\n"
     ]
    },
    {
     "data": {
      "text/plain": [
       "Text(0.5, 0, 'roe')"
      ]
     },
     "execution_count": 91,
     "metadata": {},
     "output_type": "execute_result"
    },
    {
     "data": {
      "image/png": "[encoded data removed]",
      "text/plain": [
       "<Figure size 432x288 with 1 Axes>"
      ]
     },
     "metadata": {
      "needs_background": "light"
     },
     "output_type": "display_data"
    }
   ],
   "source": [
    "n = x.size\n",
    "print(n)\n",
    "y = np.arange(1, n + 1) / n  # genera porciones acumulativas de observaciones\n",
    "print(y)\n",
    "#gráfico\n",
    "plt.step(x, y, linestyle='-', color='red')\n",
    "plt.xlabel('roe')\n",
    "# plt.savefig('./función_distri_acum.pdf')"
   ]
  },
  {
   "cell_type": "code",
   "execution_count": null,
   "metadata": {},
   "outputs": [],
   "source": []
  }
 ],
 "metadata": {
  "kernelspec": {
   "display_name": "Python 3",
   "language": "python",
   "name": "python3"
  },
  "language_info": {
   "codemirror_mode": {
    "name": "ipython",
    "version": 3
   },
   "file_extension": ".py",
   "mimetype": "text/x-python",
   "name": "python",
   "nbconvert_exporter": "python",
   "pygments_lexer": "ipython3",
   "version": "3.8.8"
  }
 },
 "nbformat": 4,
 "nbformat_minor": 2
}
